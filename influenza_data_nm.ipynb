{
 "cells": [
  {
   "cell_type": "markdown",
   "metadata": {},
   "source": [
    "# Analyzing When and Where Influenza outbreak Occur in U.S\n",
    "\n",
    "\n",
    "by Berthin Bitja\n",
    "\n",
    "Note :\n",
    "[How to install Homebrew on OS X?](https://stackoverflow.com/questions/20381128/how-to-install-homebrew-on-os-x)\n",
    "[Old version X-code](https://stackoverflow.com/questions/10335747/how-to-download-xcode-dmg-or-xip-file)"
   ]
  },
  {
   "cell_type": "code",
   "execution_count": 1,
   "metadata": {},
   "outputs": [
    {
     "name": "stderr",
     "output_type": "stream",
     "text": [
      "\n",
      "Attaching package: ‘dplyr’\n",
      "\n",
      "The following objects are masked from ‘package:stats’:\n",
      "\n",
      "    filter, lag\n",
      "\n",
      "The following objects are masked from ‘package:base’:\n",
      "\n",
      "    intersect, setdiff, setequal, union\n",
      "\n",
      "Registering fonts with R\n",
      "\n",
      "Attaching package: ‘scales’\n",
      "\n",
      "The following object is masked from ‘package:readr’:\n",
      "\n",
      "    col_factor\n",
      "\n",
      "Google Maps API Terms of Service: http://developers.google.com/maps/terms.\n",
      "Please cite ggmap if you use it: see citation(\"ggmap\") for details.\n"
     ]
    },
    {
     "data": {
      "text/plain": [
       "R version 3.4.1 (2017-06-30)\n",
       "Platform: x86_64-apple-darwin13.4.0 (64-bit)\n",
       "Running under: macOS Sierra 10.12.6\n",
       "\n",
       "Matrix products: default\n",
       "BLAS: /System/Library/Frameworks/Accelerate.framework/Versions/A/Frameworks/vecLib.framework/Versions/A/libBLAS.dylib\n",
       "LAPACK: /System/Library/Frameworks/Accelerate.framework/Versions/A/Frameworks/vecLib.framework/Versions/A/libLAPACK.dylib\n",
       "\n",
       "locale:\n",
       "[1] en_CA.UTF-8/en_CA.UTF-8/en_CA.UTF-8/C/en_CA.UTF-8/en_CA.UTF-8\n",
       "\n",
       "attached base packages:\n",
       "[1] grid      stats     graphics  grDevices utils     datasets  methods  \n",
       "[8] base     \n",
       "\n",
       "other attached packages:\n",
       "[1] ggmap_2.7          stringr_1.2.0      digest_0.6.12      RColorBrewer_1.1-2\n",
       "[5] scales_0.4.1       extrafont_0.17     ggplot2_2.2.1      dplyr_0.7.4.9000  \n",
       "[9] readr_1.1.1       \n",
       "\n",
       "loaded via a namespace (and not attached):\n",
       " [1] Rcpp_0.12.13.1    compiler_3.4.1    plyr_1.8.4        bindr_0.1        \n",
       " [5] bitops_1.0-6      tools_3.4.1       uuid_0.1-2        lattice_0.20-35  \n",
       " [9] jsonlite_1.5      evaluate_0.10     tibble_1.3.3      gtable_0.2.0     \n",
       "[13] png_0.1-8         pkgconfig_2.0.1   rlang_0.1.2.9000  IRdisplay_0.4.4  \n",
       "[17] mapproj_1.2-5     IRkernel_0.7.1    proto_1.0.0.9000  bindrcpp_0.2     \n",
       "[21] Rttf2pt1_1.3.4    repr_0.10         maps_3.2.0        RgoogleMaps_1.4.1\n",
       "[25] hms_0.3           glue_1.1.1        R6_2.2.1          jpeg_0.1-8       \n",
       "[29] sp_1.2-5          pbdZMQ_0.2-6      reshape2_1.4.2    extrafontdb_1.0  \n",
       "[33] magrittr_1.5      assertthat_0.2.0  geosphere_1.5-5   colorspace_1.3-2 \n",
       "[37] stringi_1.1.5     lazyeval_0.2.0    munsell_0.4.3     rjson_0.2.15     \n",
       "[41] crayon_1.3.2     "
      ]
     },
     "metadata": {},
     "output_type": "display_data"
    }
   ],
   "source": [
    "options(warn = -1) #ignore warnings\n",
    "\n",
    "# IMPORTANT: This assumes that all packages in \"Rstart.R\" are installed,\n",
    "# and the fonts \"Source Sans Pro\" and \"Open Sans Condensed Bold\" are installed\n",
    "# via extrafont. If ggplot2 charts fail to render, you may need to change/remove the theme call.\n",
    "\n",
    "\n",
    "source(\"Rstart.R\")\n",
    "library(ggmap)\n",
    "\n",
    "\n",
    "\n",
    "sessionInfo()"
   ]
  },
  {
   "cell_type": "markdown",
   "metadata": {
    "collapsed": true
   },
   "source": [
    "# Processing the Data"
   ]
  },
  {
   "cell_type": "code",
   "execution_count": 51,
   "metadata": {},
   "outputs": [],
   "source": [
    "library(cdcfluview)\n",
    "library(statebins)\n",
    "# current verison\n",
    "# packageVersion(\"cdcfluview\")\n",
    "\n",
    "#df.flu <- get_flu_data(region = \"census\", sub_region = 1:9, data_source = \"all\", years = 2008:2015)\n",
    "#df.flu.census <- get_flu_data(region = \"census\", sub_region = 1:10, data_source = \"ilinet\", years = 2008:2015)\n",
    "\n",
    "# I am looking at the ILI activity\n",
    "df.state <- get_state_data(years=2010:2015)"
   ]
  },
  {
   "cell_type": "code",
   "execution_count": 50,
   "metadata": {},
   "outputs": [],
   "source": [
    "#display the data \n",
    "#df.flu %>% head(10)\n",
    "#sprintf(\"# of Rows in Dataframe: %s\", nrow(df.flu))\n",
    "#sprintf(\"Dataframe Size: %s\", format(object.size(df.flu), units = \"MB\"))"
   ]
  },
  {
   "cell_type": "code",
   "execution_count": 49,
   "metadata": {},
   "outputs": [
    {
     "data": {
      "text/html": [
       "<table>\n",
       "<thead><tr><th scope=col>statename</th><th scope=col>url</th><th scope=col>website</th><th scope=col>activity_level</th><th scope=col>activity_level_label</th><th scope=col>weekend</th><th scope=col>season</th><th scope=col>weeknumber</th></tr></thead>\n",
       "<tbody>\n",
       "\t<tr><td>District of Columbia                                                                                       </td><td>http://doh.dc.gov/page/influenza-season                                                                    </td><td>Influenza Information                                                                                      </td><td>0                                                                                                          </td><td>Insufficient Data                                                                                          </td><td>May-24-2014                                                                                                </td><td>2013-14                                                                                                    </td><td>21                                                                                                         </td></tr>\n",
       "\t<tr><td><span style=white-space:pre-wrap>Connecticut         </span>                                                                                           </td><td><span style=white-space:pre-wrap>http://www.ct.gov/dph/cwp/view.asp?a=3136&amp;q=410788                                                         </span></td><td><span style=white-space:pre-wrap>Flu Statistics                   </span>                                                                              </td><td>0                                                                                                                                                      </td><td>Insufficient Data                                                                                                                                      </td><td>May-24-2014                                                                                                                                            </td><td>2013-14                                                                                                                                                </td><td>21                                                                                                                                                     </td></tr>\n",
       "\t<tr><td>District of Columbia                                                                                       </td><td>http://doh.dc.gov/page/influenza-season                                                                    </td><td>Influenza Information                                                                                      </td><td>0                                                                                                          </td><td>Insufficient Data                                                                                          </td><td>May-31-2014                                                                                                </td><td>2013-14                                                                                                    </td><td>22                                                                                                         </td></tr>\n",
       "\t<tr><td>Puerto Rico                                                                                                </td><td>http://www.salud.gov.pr/Estadisticas-Registros-y-Publicaciones/Pages/Influenza.aspx                        </td><td>Puerto Rico Departamento de Salud                                                                          </td><td>0                                                                                                          </td><td>Insufficient Data                                                                                          </td><td>May-24-2014                                                                                                </td><td>2013-14                                                                                                    </td><td>21                                                                                                         </td></tr>\n",
       "\t<tr><td>Virgin Islands                                                                                             </td><td>http://doh.vi.gov/                                                                                         </td><td>Influenza                                                                                                  </td><td>0                                                                                                          </td><td>Insufficient Data                                                                                          </td><td>May-24-2014                                                                                                </td><td>2013-14                                                                                                    </td><td>21                                                                                                         </td></tr>\n",
       "\t<tr><td><span style=white-space:pre-wrap>Connecticut         </span>                                                                                           </td><td><span style=white-space:pre-wrap>http://www.ct.gov/dph/cwp/view.asp?a=3136&amp;q=410788                                                         </span></td><td><span style=white-space:pre-wrap>Flu Statistics                   </span>                                                                              </td><td>0                                                                                                                                                      </td><td>Insufficient Data                                                                                                                                      </td><td>May-31-2014                                                                                                                                            </td><td>2013-14                                                                                                                                                </td><td>22                                                                                                                                                     </td></tr>\n",
       "\t<tr><td>Puerto Rico                                                                                                </td><td>http://www.salud.gov.pr/Estadisticas-Registros-y-Publicaciones/Pages/Influenza.aspx                        </td><td>Puerto Rico Departamento de Salud                                                                          </td><td>0                                                                                                          </td><td>Insufficient Data                                                                                          </td><td>May-31-2014                                                                                                </td><td>2013-14                                                                                                    </td><td>22                                                                                                         </td></tr>\n",
       "\t<tr><td>Virgin Islands                                                                                             </td><td>http://doh.vi.gov/                                                                                         </td><td>Influenza                                                                                                  </td><td>0                                                                                                          </td><td>Insufficient Data                                                                                          </td><td>May-31-2014                                                                                                </td><td>2013-14                                                                                                    </td><td>22                                                                                                         </td></tr>\n",
       "\t<tr><td>Idaho                                                                                                      </td><td>http://www.healthandwelfare.idaho.gov/Health/DiseasesConditions/SeasonalInfluenzaFlu/tabid/327/Default.aspx</td><td>Influenza                                                                                                  </td><td>0                                                                                                          </td><td>Insufficient Data                                                                                          </td><td>Jun-07-2014                                                                                                </td><td>2013-14                                                                                                    </td><td>23                                                                                                         </td></tr>\n",
       "\t<tr><td>District of Columbia                                                                                       </td><td>http://doh.dc.gov/page/influenza-season                                                                    </td><td>Influenza Information                                                                                      </td><td>0                                                                                                          </td><td>Insufficient Data                                                                                          </td><td>Jun-07-2014                                                                                                </td><td>2013-14                                                                                                    </td><td>23                                                                                                         </td></tr>\n",
       "</tbody>\n",
       "</table>\n"
      ],
      "text/latex": [
       "\\begin{tabular}{r|llllllll}\n",
       " statename & url & website & activity\\_level & activity\\_level\\_label & weekend & season & weeknumber\\\\\n",
       "\\hline\n",
       "\t District of Columbia                                                                                        & http://doh.dc.gov/page/influenza-season                                                                     & Influenza Information                                                                                       & 0                                                                                                           & Insufficient Data                                                                                           & May-24-2014                                                                                                 & 2013-14                                                                                                     & 21                                                                                                         \\\\\n",
       "\t Connecticut                                                                                                   & http://www.ct.gov/dph/cwp/view.asp?a=3136\\&q=410788                                                          & Flu Statistics                                                                                                & 0                                                                                                             & Insufficient Data                                                                                             & May-24-2014                                                                                                   & 2013-14                                                                                                       & 21                                                                                                           \\\\\n",
       "\t District of Columbia                                                                                        & http://doh.dc.gov/page/influenza-season                                                                     & Influenza Information                                                                                       & 0                                                                                                           & Insufficient Data                                                                                           & May-31-2014                                                                                                 & 2013-14                                                                                                     & 22                                                                                                         \\\\\n",
       "\t Puerto Rico                                                                                                 & http://www.salud.gov.pr/Estadisticas-Registros-y-Publicaciones/Pages/Influenza.aspx                         & Puerto Rico Departamento de Salud                                                                           & 0                                                                                                           & Insufficient Data                                                                                           & May-24-2014                                                                                                 & 2013-14                                                                                                     & 21                                                                                                         \\\\\n",
       "\t Virgin Islands                                                                                              & http://doh.vi.gov/                                                                                          & Influenza                                                                                                   & 0                                                                                                           & Insufficient Data                                                                                           & May-24-2014                                                                                                 & 2013-14                                                                                                     & 21                                                                                                         \\\\\n",
       "\t Connecticut                                                                                                   & http://www.ct.gov/dph/cwp/view.asp?a=3136\\&q=410788                                                          & Flu Statistics                                                                                                & 0                                                                                                             & Insufficient Data                                                                                             & May-31-2014                                                                                                   & 2013-14                                                                                                       & 22                                                                                                           \\\\\n",
       "\t Puerto Rico                                                                                                 & http://www.salud.gov.pr/Estadisticas-Registros-y-Publicaciones/Pages/Influenza.aspx                         & Puerto Rico Departamento de Salud                                                                           & 0                                                                                                           & Insufficient Data                                                                                           & May-31-2014                                                                                                 & 2013-14                                                                                                     & 22                                                                                                         \\\\\n",
       "\t Virgin Islands                                                                                              & http://doh.vi.gov/                                                                                          & Influenza                                                                                                   & 0                                                                                                           & Insufficient Data                                                                                           & May-31-2014                                                                                                 & 2013-14                                                                                                     & 22                                                                                                         \\\\\n",
       "\t Idaho                                                                                                       & http://www.healthandwelfare.idaho.gov/Health/DiseasesConditions/SeasonalInfluenzaFlu/tabid/327/Default.aspx & Influenza                                                                                                   & 0                                                                                                           & Insufficient Data                                                                                           & Jun-07-2014                                                                                                 & 2013-14                                                                                                     & 23                                                                                                         \\\\\n",
       "\t District of Columbia                                                                                        & http://doh.dc.gov/page/influenza-season                                                                     & Influenza Information                                                                                       & 0                                                                                                           & Insufficient Data                                                                                           & Jun-07-2014                                                                                                 & 2013-14                                                                                                     & 23                                                                                                         \\\\\n",
       "\\end{tabular}\n"
      ],
      "text/markdown": [
       "\n",
       "statename | url | website | activity_level | activity_level_label | weekend | season | weeknumber | \n",
       "|---|---|---|---|---|---|---|---|---|---|\n",
       "| District of Columbia                                                                                        | http://doh.dc.gov/page/influenza-season                                                                     | Influenza Information                                                                                       | 0                                                                                                           | Insufficient Data                                                                                           | May-24-2014                                                                                                 | 2013-14                                                                                                     | 21                                                                                                          | \n",
       "| Connecticut                                                                                                 | http://www.ct.gov/dph/cwp/view.asp?a=3136&q=410788                                                          | Flu Statistics                                                                                              | 0                                                                                                           | Insufficient Data                                                                                           | May-24-2014                                                                                                 | 2013-14                                                                                                     | 21                                                                                                          | \n",
       "| District of Columbia                                                                                        | http://doh.dc.gov/page/influenza-season                                                                     | Influenza Information                                                                                       | 0                                                                                                           | Insufficient Data                                                                                           | May-31-2014                                                                                                 | 2013-14                                                                                                     | 22                                                                                                          | \n",
       "| Puerto Rico                                                                                                 | http://www.salud.gov.pr/Estadisticas-Registros-y-Publicaciones/Pages/Influenza.aspx                         | Puerto Rico Departamento de Salud                                                                           | 0                                                                                                           | Insufficient Data                                                                                           | May-24-2014                                                                                                 | 2013-14                                                                                                     | 21                                                                                                          | \n",
       "| Virgin Islands                                                                                              | http://doh.vi.gov/                                                                                          | Influenza                                                                                                   | 0                                                                                                           | Insufficient Data                                                                                           | May-24-2014                                                                                                 | 2013-14                                                                                                     | 21                                                                                                          | \n",
       "| Connecticut                                                                                                 | http://www.ct.gov/dph/cwp/view.asp?a=3136&q=410788                                                          | Flu Statistics                                                                                              | 0                                                                                                           | Insufficient Data                                                                                           | May-31-2014                                                                                                 | 2013-14                                                                                                     | 22                                                                                                          | \n",
       "| Puerto Rico                                                                                                 | http://www.salud.gov.pr/Estadisticas-Registros-y-Publicaciones/Pages/Influenza.aspx                         | Puerto Rico Departamento de Salud                                                                           | 0                                                                                                           | Insufficient Data                                                                                           | May-31-2014                                                                                                 | 2013-14                                                                                                     | 22                                                                                                          | \n",
       "| Virgin Islands                                                                                              | http://doh.vi.gov/                                                                                          | Influenza                                                                                                   | 0                                                                                                           | Insufficient Data                                                                                           | May-31-2014                                                                                                 | 2013-14                                                                                                     | 22                                                                                                          | \n",
       "| Idaho                                                                                                       | http://www.healthandwelfare.idaho.gov/Health/DiseasesConditions/SeasonalInfluenzaFlu/tabid/327/Default.aspx | Influenza                                                                                                   | 0                                                                                                           | Insufficient Data                                                                                           | Jun-07-2014                                                                                                 | 2013-14                                                                                                     | 23                                                                                                          | \n",
       "| District of Columbia                                                                                        | http://doh.dc.gov/page/influenza-season                                                                     | Influenza Information                                                                                       | 0                                                                                                           | Insufficient Data                                                                                           | Jun-07-2014                                                                                                 | 2013-14                                                                                                     | 23                                                                                                          | \n",
       "\n",
       "\n"
      ],
      "text/plain": [
       "   statename           \n",
       "1  District of Columbia\n",
       "2  Connecticut         \n",
       "3  District of Columbia\n",
       "4  Puerto Rico         \n",
       "5  Virgin Islands      \n",
       "6  Connecticut         \n",
       "7  Puerto Rico         \n",
       "8  Virgin Islands      \n",
       "9  Idaho               \n",
       "10 District of Columbia\n",
       "   url                                                                                                        \n",
       "1  http://doh.dc.gov/page/influenza-season                                                                    \n",
       "2  http://www.ct.gov/dph/cwp/view.asp?a=3136&q=410788                                                         \n",
       "3  http://doh.dc.gov/page/influenza-season                                                                    \n",
       "4  http://www.salud.gov.pr/Estadisticas-Registros-y-Publicaciones/Pages/Influenza.aspx                        \n",
       "5  http://doh.vi.gov/                                                                                         \n",
       "6  http://www.ct.gov/dph/cwp/view.asp?a=3136&q=410788                                                         \n",
       "7  http://www.salud.gov.pr/Estadisticas-Registros-y-Publicaciones/Pages/Influenza.aspx                        \n",
       "8  http://doh.vi.gov/                                                                                         \n",
       "9  http://www.healthandwelfare.idaho.gov/Health/DiseasesConditions/SeasonalInfluenzaFlu/tabid/327/Default.aspx\n",
       "10 http://doh.dc.gov/page/influenza-season                                                                    \n",
       "   website                           activity_level activity_level_label\n",
       "1  Influenza Information             0              Insufficient Data   \n",
       "2  Flu Statistics                    0              Insufficient Data   \n",
       "3  Influenza Information             0              Insufficient Data   \n",
       "4  Puerto Rico Departamento de Salud 0              Insufficient Data   \n",
       "5  Influenza                         0              Insufficient Data   \n",
       "6  Flu Statistics                    0              Insufficient Data   \n",
       "7  Puerto Rico Departamento de Salud 0              Insufficient Data   \n",
       "8  Influenza                         0              Insufficient Data   \n",
       "9  Influenza                         0              Insufficient Data   \n",
       "10 Influenza Information             0              Insufficient Data   \n",
       "   weekend     season  weeknumber\n",
       "1  May-24-2014 2013-14 21        \n",
       "2  May-24-2014 2013-14 21        \n",
       "3  May-31-2014 2013-14 22        \n",
       "4  May-24-2014 2013-14 21        \n",
       "5  May-24-2014 2013-14 21        \n",
       "6  May-31-2014 2013-14 22        \n",
       "7  May-31-2014 2013-14 22        \n",
       "8  May-31-2014 2013-14 22        \n",
       "9  Jun-07-2014 2013-14 23        \n",
       "10 Jun-07-2014 2013-14 23        "
      ]
     },
     "metadata": {},
     "output_type": "display_data"
    },
    {
     "data": {
      "text/html": [
       "'# of Rows in Dataframe: 16668'"
      ],
      "text/latex": [
       "'\\# of Rows in Dataframe: 16668'"
      ],
      "text/markdown": [
       "'# of Rows in Dataframe: 16668'"
      ],
      "text/plain": [
       "[1] \"# of Rows in Dataframe: 16668\""
      ]
     },
     "metadata": {},
     "output_type": "display_data"
    },
    {
     "data": {
      "text/html": [
       "'Dataframe Size: 0.9 Mb'"
      ],
      "text/latex": [
       "'Dataframe Size: 0.9 Mb'"
      ],
      "text/markdown": [
       "'Dataframe Size: 0.9 Mb'"
      ],
      "text/plain": [
       "[1] \"Dataframe Size: 0.9 Mb\""
      ]
     },
     "metadata": {},
     "output_type": "display_data"
    }
   ],
   "source": [
    "#display the data \n",
    "df.state %>% head(10)\n",
    "sprintf(\"# of Rows in Dataframe: %s\", nrow(df.state))\n",
    "sprintf(\"Dataframe Size: %s\", format(object.size(df.state), units = \"MB\"))"
   ]
  },
  {
   "cell_type": "code",
   "execution_count": 36,
   "metadata": {},
   "outputs": [],
   "source": [
    "#display the data \n",
    "#df.flu.census %>% head(10)\n",
    "#sprintf(\"# of Rows in Dataframe: %s\", nrow(df.flu.census))\n",
    "#sprintf(\"Dataframe Size: %s\", format(object.size(df.flu.census), units = \"MB\"))"
   ]
  },
  {
   "cell_type": "code",
   "execution_count": 54,
   "metadata": {},
   "outputs": [
    {
     "data": {
      "text/html": [
       "<table>\n",
       "<thead><tr><th scope=col>statename</th><th scope=col>activity_level</th><th scope=col>activity_level_label</th><th scope=col>weekend</th><th scope=col>season</th><th scope=col>weeknumber</th></tr></thead>\n",
       "<tbody>\n",
       "\t<tr><td>Virgin Islands   </td><td>0                </td><td>Insufficient Data</td><td>Oct-09-2010      </td><td>2010-11          </td><td>40               </td></tr>\n",
       "\t<tr><td>Virgin Islands   </td><td>0                </td><td>Insufficient Data</td><td>Oct-16-2010      </td><td>2010-11          </td><td>41               </td></tr>\n",
       "\t<tr><td>Virgin Islands   </td><td>0                </td><td>Insufficient Data</td><td>Oct-23-2010      </td><td>2010-11          </td><td>42               </td></tr>\n",
       "\t<tr><td>Virgin Islands   </td><td>0                </td><td>Insufficient Data</td><td>Nov-27-2010      </td><td>2010-11          </td><td>47               </td></tr>\n",
       "\t<tr><td>Virgin Islands   </td><td>0                </td><td>Insufficient Data</td><td>Dec-04-2010      </td><td>2010-11          </td><td>48               </td></tr>\n",
       "\t<tr><td>Virgin Islands   </td><td>0                </td><td>Insufficient Data</td><td>Dec-11-2010      </td><td>2010-11          </td><td>49               </td></tr>\n",
       "\t<tr><td>Virgin Islands   </td><td>0                </td><td>Insufficient Data</td><td>Dec-18-2010      </td><td>2010-11          </td><td>50               </td></tr>\n",
       "\t<tr><td>Virgin Islands   </td><td>0                </td><td>Insufficient Data</td><td>Dec-25-2010      </td><td>2010-11          </td><td>51               </td></tr>\n",
       "\t<tr><td>Virgin Islands   </td><td>0                </td><td>Insufficient Data</td><td>Jan-01-2011      </td><td>2010-11          </td><td>52               </td></tr>\n",
       "\t<tr><td>Virgin Islands   </td><td>0                </td><td>Insufficient Data</td><td>Jan-08-2011      </td><td>2010-11          </td><td> 1               </td></tr>\n",
       "</tbody>\n",
       "</table>\n"
      ],
      "text/latex": [
       "\\begin{tabular}{r|llllll}\n",
       " statename & activity\\_level & activity\\_level\\_label & weekend & season & weeknumber\\\\\n",
       "\\hline\n",
       "\t Virgin Islands    & 0                 & Insufficient Data & Oct-09-2010       & 2010-11           & 40               \\\\\n",
       "\t Virgin Islands    & 0                 & Insufficient Data & Oct-16-2010       & 2010-11           & 41               \\\\\n",
       "\t Virgin Islands    & 0                 & Insufficient Data & Oct-23-2010       & 2010-11           & 42               \\\\\n",
       "\t Virgin Islands    & 0                 & Insufficient Data & Nov-27-2010       & 2010-11           & 47               \\\\\n",
       "\t Virgin Islands    & 0                 & Insufficient Data & Dec-04-2010       & 2010-11           & 48               \\\\\n",
       "\t Virgin Islands    & 0                 & Insufficient Data & Dec-11-2010       & 2010-11           & 49               \\\\\n",
       "\t Virgin Islands    & 0                 & Insufficient Data & Dec-18-2010       & 2010-11           & 50               \\\\\n",
       "\t Virgin Islands    & 0                 & Insufficient Data & Dec-25-2010       & 2010-11           & 51               \\\\\n",
       "\t Virgin Islands    & 0                 & Insufficient Data & Jan-01-2011       & 2010-11           & 52               \\\\\n",
       "\t Virgin Islands    & 0                 & Insufficient Data & Jan-08-2011       & 2010-11           &  1               \\\\\n",
       "\\end{tabular}\n"
      ],
      "text/markdown": [
       "\n",
       "statename | activity_level | activity_level_label | weekend | season | weeknumber | \n",
       "|---|---|---|---|---|---|---|---|---|---|\n",
       "| Virgin Islands    | 0                 | Insufficient Data | Oct-09-2010       | 2010-11           | 40                | \n",
       "| Virgin Islands    | 0                 | Insufficient Data | Oct-16-2010       | 2010-11           | 41                | \n",
       "| Virgin Islands    | 0                 | Insufficient Data | Oct-23-2010       | 2010-11           | 42                | \n",
       "| Virgin Islands    | 0                 | Insufficient Data | Nov-27-2010       | 2010-11           | 47                | \n",
       "| Virgin Islands    | 0                 | Insufficient Data | Dec-04-2010       | 2010-11           | 48                | \n",
       "| Virgin Islands    | 0                 | Insufficient Data | Dec-11-2010       | 2010-11           | 49                | \n",
       "| Virgin Islands    | 0                 | Insufficient Data | Dec-18-2010       | 2010-11           | 50                | \n",
       "| Virgin Islands    | 0                 | Insufficient Data | Dec-25-2010       | 2010-11           | 51                | \n",
       "| Virgin Islands    | 0                 | Insufficient Data | Jan-01-2011       | 2010-11           | 52                | \n",
       "| Virgin Islands    | 0                 | Insufficient Data | Jan-08-2011       | 2010-11           |  1                | \n",
       "\n",
       "\n"
      ],
      "text/plain": [
       "   statename      activity_level activity_level_label weekend     season \n",
       "1  Virgin Islands 0              Insufficient Data    Oct-09-2010 2010-11\n",
       "2  Virgin Islands 0              Insufficient Data    Oct-16-2010 2010-11\n",
       "3  Virgin Islands 0              Insufficient Data    Oct-23-2010 2010-11\n",
       "4  Virgin Islands 0              Insufficient Data    Nov-27-2010 2010-11\n",
       "5  Virgin Islands 0              Insufficient Data    Dec-04-2010 2010-11\n",
       "6  Virgin Islands 0              Insufficient Data    Dec-11-2010 2010-11\n",
       "7  Virgin Islands 0              Insufficient Data    Dec-18-2010 2010-11\n",
       "8  Virgin Islands 0              Insufficient Data    Dec-25-2010 2010-11\n",
       "9  Virgin Islands 0              Insufficient Data    Jan-01-2011 2010-11\n",
       "10 Virgin Islands 0              Insufficient Data    Jan-08-2011 2010-11\n",
       "   weeknumber\n",
       "1  40        \n",
       "2  41        \n",
       "3  42        \n",
       "4  47        \n",
       "5  48        \n",
       "6  49        \n",
       "7  50        \n",
       "8  51        \n",
       "9  52        \n",
       "10  1        "
      ]
     },
     "metadata": {},
     "output_type": "display_data"
    },
    {
     "data": {
      "text/html": [
       "'# of Rows in Dataframe: 16668'"
      ],
      "text/latex": [
       "'\\# of Rows in Dataframe: 16668'"
      ],
      "text/markdown": [
       "'# of Rows in Dataframe: 16668'"
      ],
      "text/plain": [
       "[1] \"# of Rows in Dataframe: 16668\""
      ]
     },
     "metadata": {},
     "output_type": "display_data"
    },
    {
     "data": {
      "text/html": [
       "'Dataframe Size: 0.7 Mb'"
      ],
      "text/latex": [
       "'Dataframe Size: 0.7 Mb'"
      ],
      "text/markdown": [
       "'Dataframe Size: 0.7 Mb'"
      ],
      "text/plain": [
       "[1] \"Dataframe Size: 0.7 Mb\""
      ]
     },
     "metadata": {},
     "output_type": "display_data"
    }
   ],
   "source": [
    "#columns = c(\"REGION TYPE\",\"REGION\",\"YEAR\",\"WEEK\",\"AGE 0-4\",\"AGE 25-49\",\"AGE 25-64\",\"AGE 5-24\",\"AGE 50-64\",\"AGE 65\",\"ILITOTAL\",\"TOTAL PATIENTS\")\n",
    "\n",
    "columns = c(\"statename\",\"activity_level\",\"activity_level_label\",\"weekend\", \"season\", \"weeknumber\")\n",
    "\n",
    "# select() require column indices that we find trough which() \n",
    "\n",
    "df <- df.state %>% select(which(names(df.state) %in% columns))\n",
    "\n",
    "df %>% head(10)\n",
    "sprintf(\"# of Rows in Dataframe: %s\", nrow(df))\n",
    "sprintf(\"Dataframe Size: %s\", format(object.size(df), units = \"MB\"))"
   ]
  },
  {
   "cell_type": "markdown",
   "metadata": {},
   "source": [
    "All-Caps to proper case. (see this [Stack Overflow question](http://stackoverflow.com/questions/15776732/how-to-convert-a-vector-of-strings-to-title-case))"
   ]
  },
  {
   "cell_type": "code",
   "execution_count": 55,
   "metadata": {},
   "outputs": [
    {
     "data": {
      "text/html": [
       "<table>\n",
       "<thead><tr><th scope=col>statename</th><th scope=col>activity_level</th><th scope=col>activity_level_label</th><th scope=col>weekend</th><th scope=col>season</th><th scope=col>weeknumber</th></tr></thead>\n",
       "<tbody>\n",
       "\t<tr><td>Virgin Islands   </td><td>0                </td><td>Insufficient Data</td><td>Oct-09-2010      </td><td>2010-11          </td><td>40               </td></tr>\n",
       "\t<tr><td>Virgin Islands   </td><td>0                </td><td>Insufficient Data</td><td>Oct-16-2010      </td><td>2010-11          </td><td>41               </td></tr>\n",
       "\t<tr><td>Virgin Islands   </td><td>0                </td><td>Insufficient Data</td><td>Oct-23-2010      </td><td>2010-11          </td><td>42               </td></tr>\n",
       "\t<tr><td>Virgin Islands   </td><td>0                </td><td>Insufficient Data</td><td>Nov-27-2010      </td><td>2010-11          </td><td>47               </td></tr>\n",
       "\t<tr><td>Virgin Islands   </td><td>0                </td><td>Insufficient Data</td><td>Dec-04-2010      </td><td>2010-11          </td><td>48               </td></tr>\n",
       "\t<tr><td>Virgin Islands   </td><td>0                </td><td>Insufficient Data</td><td>Dec-11-2010      </td><td>2010-11          </td><td>49               </td></tr>\n",
       "\t<tr><td>Virgin Islands   </td><td>0                </td><td>Insufficient Data</td><td>Dec-18-2010      </td><td>2010-11          </td><td>50               </td></tr>\n",
       "\t<tr><td>Virgin Islands   </td><td>0                </td><td>Insufficient Data</td><td>Dec-25-2010      </td><td>2010-11          </td><td>51               </td></tr>\n",
       "\t<tr><td>Virgin Islands   </td><td>0                </td><td>Insufficient Data</td><td>Jan-01-2011      </td><td>2010-11          </td><td>52               </td></tr>\n",
       "\t<tr><td>Virgin Islands   </td><td>0                </td><td>Insufficient Data</td><td>Jan-08-2011      </td><td>2010-11          </td><td> 1               </td></tr>\n",
       "</tbody>\n",
       "</table>\n"
      ],
      "text/latex": [
       "\\begin{tabular}{r|llllll}\n",
       " statename & activity\\_level & activity\\_level\\_label & weekend & season & weeknumber\\\\\n",
       "\\hline\n",
       "\t Virgin Islands    & 0                 & Insufficient Data & Oct-09-2010       & 2010-11           & 40               \\\\\n",
       "\t Virgin Islands    & 0                 & Insufficient Data & Oct-16-2010       & 2010-11           & 41               \\\\\n",
       "\t Virgin Islands    & 0                 & Insufficient Data & Oct-23-2010       & 2010-11           & 42               \\\\\n",
       "\t Virgin Islands    & 0                 & Insufficient Data & Nov-27-2010       & 2010-11           & 47               \\\\\n",
       "\t Virgin Islands    & 0                 & Insufficient Data & Dec-04-2010       & 2010-11           & 48               \\\\\n",
       "\t Virgin Islands    & 0                 & Insufficient Data & Dec-11-2010       & 2010-11           & 49               \\\\\n",
       "\t Virgin Islands    & 0                 & Insufficient Data & Dec-18-2010       & 2010-11           & 50               \\\\\n",
       "\t Virgin Islands    & 0                 & Insufficient Data & Dec-25-2010       & 2010-11           & 51               \\\\\n",
       "\t Virgin Islands    & 0                 & Insufficient Data & Jan-01-2011       & 2010-11           & 52               \\\\\n",
       "\t Virgin Islands    & 0                 & Insufficient Data & Jan-08-2011       & 2010-11           &  1               \\\\\n",
       "\\end{tabular}\n"
      ],
      "text/markdown": [
       "\n",
       "statename | activity_level | activity_level_label | weekend | season | weeknumber | \n",
       "|---|---|---|---|---|---|---|---|---|---|\n",
       "| Virgin Islands    | 0                 | Insufficient Data | Oct-09-2010       | 2010-11           | 40                | \n",
       "| Virgin Islands    | 0                 | Insufficient Data | Oct-16-2010       | 2010-11           | 41                | \n",
       "| Virgin Islands    | 0                 | Insufficient Data | Oct-23-2010       | 2010-11           | 42                | \n",
       "| Virgin Islands    | 0                 | Insufficient Data | Nov-27-2010       | 2010-11           | 47                | \n",
       "| Virgin Islands    | 0                 | Insufficient Data | Dec-04-2010       | 2010-11           | 48                | \n",
       "| Virgin Islands    | 0                 | Insufficient Data | Dec-11-2010       | 2010-11           | 49                | \n",
       "| Virgin Islands    | 0                 | Insufficient Data | Dec-18-2010       | 2010-11           | 50                | \n",
       "| Virgin Islands    | 0                 | Insufficient Data | Dec-25-2010       | 2010-11           | 51                | \n",
       "| Virgin Islands    | 0                 | Insufficient Data | Jan-01-2011       | 2010-11           | 52                | \n",
       "| Virgin Islands    | 0                 | Insufficient Data | Jan-08-2011       | 2010-11           |  1                | \n",
       "\n",
       "\n"
      ],
      "text/plain": [
       "   statename      activity_level activity_level_label weekend     season \n",
       "1  Virgin Islands 0              Insufficient Data    Oct-09-2010 2010-11\n",
       "2  Virgin Islands 0              Insufficient Data    Oct-16-2010 2010-11\n",
       "3  Virgin Islands 0              Insufficient Data    Oct-23-2010 2010-11\n",
       "4  Virgin Islands 0              Insufficient Data    Nov-27-2010 2010-11\n",
       "5  Virgin Islands 0              Insufficient Data    Dec-04-2010 2010-11\n",
       "6  Virgin Islands 0              Insufficient Data    Dec-11-2010 2010-11\n",
       "7  Virgin Islands 0              Insufficient Data    Dec-18-2010 2010-11\n",
       "8  Virgin Islands 0              Insufficient Data    Dec-25-2010 2010-11\n",
       "9  Virgin Islands 0              Insufficient Data    Jan-01-2011 2010-11\n",
       "10 Virgin Islands 0              Insufficient Data    Jan-08-2011 2010-11\n",
       "   weeknumber\n",
       "1  40        \n",
       "2  41        \n",
       "3  42        \n",
       "4  47        \n",
       "5  48        \n",
       "6  49        \n",
       "7  50        \n",
       "8  51        \n",
       "9  52        \n",
       "10  1        "
      ]
     },
     "metadata": {},
     "output_type": "display_data"
    }
   ],
   "source": [
    "proper_case <- function(x) {\n",
    "    return (gsub(\"\\\\b([A-Z])([A-Z]+)\", \"\\\\U\\\\1\\\\L\\\\2\" , x, perl = TRUE))\n",
    "}\n",
    "\n",
    "# df <- df %>% mutate(STATENAME = proper_case(STATENAME),\n",
    "# ACTIVITYESTIMATE = proper_case(ACTIVITYESTIMATE),\n",
    "#                 WEEKEND = proper_case(WEEKEND))\n",
    "\n",
    "df %>% head(10)"
   ]
  },
  {
   "cell_type": "markdown",
   "metadata": {},
   "source": [
    "# Filtering the data\n",
    "\n",
    "let's file the data frame by \"Local Activity\" to aggregate some interesting statistics"
   ]
  },
  {
   "cell_type": "code",
   "execution_count": 74,
   "metadata": {},
   "outputs": [
    {
     "data": {
      "text/html": [
       "<table>\n",
       "<thead><tr><th scope=col>statename</th><th scope=col>activity_level</th><th scope=col>activity_level_label</th><th scope=col>weekend</th><th scope=col>season</th><th scope=col>weeknumber</th></tr></thead>\n",
       "<tbody>\n",
       "\t<tr><td>New York City</td><td>1            </td><td>Minimal      </td><td>May-17-2014  </td><td>2013-14      </td><td>20           </td></tr>\n",
       "\t<tr><td>Alabama      </td><td>1            </td><td>Minimal      </td><td>May-24-2014  </td><td>2013-14      </td><td>21           </td></tr>\n",
       "\t<tr><td>Alaska       </td><td>1            </td><td>Minimal      </td><td>May-24-2014  </td><td>2013-14      </td><td>21           </td></tr>\n",
       "\t<tr><td>Arizona      </td><td>1            </td><td>Minimal      </td><td>May-24-2014  </td><td>2013-14      </td><td>21           </td></tr>\n",
       "\t<tr><td>Arkansas     </td><td>1            </td><td>Minimal      </td><td>May-24-2014  </td><td>2013-14      </td><td>21           </td></tr>\n",
       "\t<tr><td>California   </td><td>1            </td><td>Minimal      </td><td>May-24-2014  </td><td>2013-14      </td><td>21           </td></tr>\n",
       "\t<tr><td>Mississippi  </td><td>1            </td><td>Minimal      </td><td>May-17-2014  </td><td>2013-14      </td><td>20           </td></tr>\n",
       "\t<tr><td>Missouri     </td><td>1            </td><td>Minimal      </td><td>May-17-2014  </td><td>2013-14      </td><td>20           </td></tr>\n",
       "\t<tr><td>Montana      </td><td>1            </td><td>Minimal      </td><td>May-17-2014  </td><td>2013-14      </td><td>20           </td></tr>\n",
       "\t<tr><td>Nebraska     </td><td>1            </td><td>Minimal      </td><td>May-17-2014  </td><td>2013-14      </td><td>20           </td></tr>\n",
       "</tbody>\n",
       "</table>\n"
      ],
      "text/latex": [
       "\\begin{tabular}{r|llllll}\n",
       " statename & activity\\_level & activity\\_level\\_label & weekend & season & weeknumber\\\\\n",
       "\\hline\n",
       "\t New York City & 1             & Minimal       & May-17-2014   & 2013-14       & 20           \\\\\n",
       "\t Alabama       & 1             & Minimal       & May-24-2014   & 2013-14       & 21           \\\\\n",
       "\t Alaska        & 1             & Minimal       & May-24-2014   & 2013-14       & 21           \\\\\n",
       "\t Arizona       & 1             & Minimal       & May-24-2014   & 2013-14       & 21           \\\\\n",
       "\t Arkansas      & 1             & Minimal       & May-24-2014   & 2013-14       & 21           \\\\\n",
       "\t California    & 1             & Minimal       & May-24-2014   & 2013-14       & 21           \\\\\n",
       "\t Mississippi   & 1             & Minimal       & May-17-2014   & 2013-14       & 20           \\\\\n",
       "\t Missouri      & 1             & Minimal       & May-17-2014   & 2013-14       & 20           \\\\\n",
       "\t Montana       & 1             & Minimal       & May-17-2014   & 2013-14       & 20           \\\\\n",
       "\t Nebraska      & 1             & Minimal       & May-17-2014   & 2013-14       & 20           \\\\\n",
       "\\end{tabular}\n"
      ],
      "text/markdown": [
       "\n",
       "statename | activity_level | activity_level_label | weekend | season | weeknumber | \n",
       "|---|---|---|---|---|---|---|---|---|---|\n",
       "| New York City | 1             | Minimal       | May-17-2014   | 2013-14       | 20            | \n",
       "| Alabama       | 1             | Minimal       | May-24-2014   | 2013-14       | 21            | \n",
       "| Alaska        | 1             | Minimal       | May-24-2014   | 2013-14       | 21            | \n",
       "| Arizona       | 1             | Minimal       | May-24-2014   | 2013-14       | 21            | \n",
       "| Arkansas      | 1             | Minimal       | May-24-2014   | 2013-14       | 21            | \n",
       "| California    | 1             | Minimal       | May-24-2014   | 2013-14       | 21            | \n",
       "| Mississippi   | 1             | Minimal       | May-17-2014   | 2013-14       | 20            | \n",
       "| Missouri      | 1             | Minimal       | May-17-2014   | 2013-14       | 20            | \n",
       "| Montana       | 1             | Minimal       | May-17-2014   | 2013-14       | 20            | \n",
       "| Nebraska      | 1             | Minimal       | May-17-2014   | 2013-14       | 20            | \n",
       "\n",
       "\n"
      ],
      "text/plain": [
       "   statename     activity_level activity_level_label weekend     season \n",
       "1  New York City 1              Minimal              May-17-2014 2013-14\n",
       "2  Alabama       1              Minimal              May-24-2014 2013-14\n",
       "3  Alaska        1              Minimal              May-24-2014 2013-14\n",
       "4  Arizona       1              Minimal              May-24-2014 2013-14\n",
       "5  Arkansas      1              Minimal              May-24-2014 2013-14\n",
       "6  California    1              Minimal              May-24-2014 2013-14\n",
       "7  Mississippi   1              Minimal              May-17-2014 2013-14\n",
       "8  Missouri      1              Minimal              May-17-2014 2013-14\n",
       "9  Montana       1              Minimal              May-17-2014 2013-14\n",
       "10 Nebraska      1              Minimal              May-17-2014 2013-14\n",
       "   weeknumber\n",
       "1  20        \n",
       "2  21        \n",
       "3  21        \n",
       "4  21        \n",
       "5  21        \n",
       "6  21        \n",
       "7  20        \n",
       "8  20        \n",
       "9  20        \n",
       "10 20        "
      ]
     },
     "metadata": {},
     "output_type": "display_data"
    },
    {
     "data": {
      "text/html": [
       "'# of Rows in Dataframe: 15878'"
      ],
      "text/latex": [
       "'\\# of Rows in Dataframe: 15878'"
      ],
      "text/markdown": [
       "'# of Rows in Dataframe: 15878'"
      ],
      "text/plain": [
       "[1] \"# of Rows in Dataframe: 15878\""
      ]
     },
     "metadata": {},
     "output_type": "display_data"
    },
    {
     "data": {
      "text/html": [
       "'Dataframe Size: 0.6 Mb'"
      ],
      "text/latex": [
       "'Dataframe Size: 0.6 Mb'"
      ],
      "text/markdown": [
       "'Dataframe Size: 0.6 Mb'"
      ],
      "text/plain": [
       "[1] \"Dataframe Size: 0.6 Mb\""
      ]
     },
     "metadata": {},
     "output_type": "display_data"
    }
   ],
   "source": [
    "# grepl() is the best way to do in-text search\n",
    "#df_flu <- df %>% filter(grepl(\"Local Activity\", ACTIVITYESTIMATE))\n",
    "\n",
    "df.flu.activity <- df %>% filter(activity_level > 0)\n",
    "\n",
    "df.flu.activity %>% head(10)\n",
    "sprintf(\"# of Rows in Dataframe: %s\", nrow(df.flu.activity))\n",
    "sprintf(\"Dataframe Size: %s\", format(object.size(df.flu.activity), units = \"MB\"))"
   ]
  },
  {
   "cell_type": "markdown",
   "metadata": {},
   "source": [
    "## Flue Over Time"
   ]
  },
  {
   "cell_type": "code",
   "execution_count": 83,
   "metadata": {},
   "outputs": [
    {
     "data": {
      "text/html": [
       "<time datetime=\"2014-05-17\">2014-05-17</time>"
      ],
      "text/latex": [
       "2014-05-17"
      ],
      "text/markdown": [
       "2014-05-17"
      ],
      "text/plain": [
       "[1] \"2014-05-17\""
      ]
     },
     "metadata": {},
     "output_type": "display_data"
    }
   ],
   "source": [
    " as.Date(\"May-17-2014\",\"%b-%d-%Y\")"
   ]
  },
  {
   "cell_type": "code",
   "execution_count": 84,
   "metadata": {},
   "outputs": [
    {
     "ename": "ERROR",
     "evalue": "Error in mutate_impl(.data, dots): Evaluation error: unknown encoding: -14.\n",
     "output_type": "error",
     "traceback": [
      "Error in mutate_impl(.data, dots): Evaluation error: unknown encoding: -14.\nTraceback:\n",
      "1. df.flu.activity %>% mutate(weekend = as.Date(weekend, \"%b-%d-%Y\")) %>% \n .     group_by(weekend) %>% summarize(count = n()) %>% arrange(weekend)",
      "2. withVisible(eval(quote(`_fseq`(`_lhs`)), env, env))",
      "3. eval(quote(`_fseq`(`_lhs`)), env, env)",
      "4. eval(quote(`_fseq`(`_lhs`)), env, env)",
      "5. `_fseq`(`_lhs`)",
      "6. freduce(value, `_function_list`)",
      "7. function_list[[i]](value)",
      "8. mutate(., weekend = as.Date(weekend, \"%b-%d-%Y\"))",
      "9. mutate.data.frame(., weekend = as.Date(weekend, \"%b-%d-%Y\"))",
      "10. as.data.frame(mutate(tbl_df(.data), ...))",
      "11. mutate(tbl_df(.data), ...)",
      "12. mutate.tbl_df(tbl_df(.data), ...)",
      "13. mutate_impl(.data, dots)"
     ]
    }
   ],
   "source": [
    "df.flu.weekend <-df.flu.activity %>%\n",
    "                    mutate(weekend = as.Date(weekend,\"%b-%d-%Y\")) %>% #convert to proper date for analysis\n",
    "                    group_by(weekend) %>%\n",
    "                    summarize(count = n()) %>%\n",
    "                    arrange(weekend)\n",
    "\n",
    "df.flu.weekend %>% head(10)"
   ]
  },
  {
   "cell_type": "code",
   "execution_count": 73,
   "metadata": {},
   "outputs": [
    {
     "ename": "ERROR",
     "evalue": "Error in ggplot(df_flu_daily, aes(x = WEEKEND, y = count)): object 'df_flu_daily' not found\n",
     "output_type": "error",
     "traceback": [
      "Error in ggplot(df_flu_daily, aes(x = WEEKEND, y = count)): object 'df_flu_daily' not found\nTraceback:\n",
      "1. ggplot(df_flu_daily, aes(x = WEEKEND, y = count))"
     ]
    }
   ],
   "source": [
    "plot <- ggplot(df_flu_daily, aes(x = WEEKEND, y = count)) +\n",
    "    geom_line(color = \"#F2CA27\", size = 0.1) +\n",
    "    geom_smooth(color = \"#1A1A1A\") +\n",
    "    fte_theme() +\n",
    "    scale_x_date(breaks = date_breaks(\"2 years\"), labels = date_format(\"%Y\")) +\n",
    "    labs(x = \"Weekend of the obseration\", y = \"# of Local Activity\", title = \"Weekly Flu Activity in the US from 2015 – 2017\")\n",
    "\n",
    "max_save(plot, \"US-ILI-when-1\", \"US OpenData\")"
   ]
  },
  {
   "cell_type": "code",
   "execution_count": null,
   "metadata": {
    "collapsed": true
   },
   "outputs": [],
   "source": []
  },
  {
   "cell_type": "code",
   "execution_count": null,
   "metadata": {
    "collapsed": true
   },
   "outputs": [],
   "source": []
  },
  {
   "cell_type": "code",
   "execution_count": null,
   "metadata": {
    "collapsed": true
   },
   "outputs": [],
   "source": []
  }
 ],
 "metadata": {
  "kernelspec": {
   "display_name": "R",
   "language": "R",
   "name": "ir"
  },
  "language_info": {
   "codemirror_mode": "r",
   "file_extension": ".r",
   "mimetype": "text/x-r-source",
   "name": "R",
   "pygments_lexer": "r",
   "version": "3.4.1"
  }
 },
 "nbformat": 4,
 "nbformat_minor": 2
}
