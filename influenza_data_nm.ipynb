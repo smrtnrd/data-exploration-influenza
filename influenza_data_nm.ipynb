{
 "cells": [
  {
   "cell_type": "markdown",
   "metadata": {},
   "source": [
    "# Analyzing When and Where Influenza outbreak Occur in U.S\n",
    "\n",
    "\n",
    "by Berthin Bitja\n",
    "\n",
    "Note :\n",
    "[How to install Homebrew on OS X?](https://stackoverflow.com/questions/20381128/how-to-install-homebrew-on-os-x)\n",
    "[Old version X-code](https://stackoverflow.com/questions/10335747/how-to-download-xcode-dmg-or-xip-file)"
   ]
  },
  {
   "cell_type": "code",
   "execution_count": 23,
   "metadata": {
    "collapsed": false
   },
   "outputs": [
    {
     "data": {
      "text/plain": [
       "R version 3.2.3 (2015-12-10)\n",
       "Platform: x86_64-apple-darwin13.4.0 (64-bit)\n",
       "Running under: OS X 10.12.6 (unknown)\n",
       "\n",
       "locale:\n",
       "[1] C\n",
       "\n",
       "attached base packages:\n",
       "[1] grid      stats     graphics  grDevices utils     datasets  methods  \n",
       "[8] base     \n",
       "\n",
       "other attached packages:\n",
       " [1] statebins_1.2.2    cdcfluview_0.5.1   ggmap_2.6.1        stringr_1.1.0     \n",
       " [5] digest_0.6.12      RColorBrewer_1.1-2 scales_0.4.0       extrafont_0.17    \n",
       " [9] ggplot2_2.1.0      dplyr_0.5.0        readr_0.2.2       \n",
       "\n",
       "loaded via a namespace (and not attached):\n",
       " [1] pbdZMQ_0.2-6        repr_0.12.0         reshape2_1.4.1     \n",
       " [4] purrr_0.2.3         lattice_0.20-33     V8_1.5             \n",
       " [7] colorspace_1.2-6    rlang_0.1.2         DBI_0.5-1          \n",
       "[10] sp_1.2-2            uuid_0.1-2          jpeg_0.1-8         \n",
       "[13] plyr_1.8.4          munsell_0.4.3       gtable_0.2.0       \n",
       "[16] RgoogleMaps_1.2.0.7 mapproj_1.2-4       evaluate_0.10.1    \n",
       "[19] labeling_0.3        curl_3.0            Rttf2pt1_1.3.4     \n",
       "[22] proto_0.3-10        IRdisplay_0.4.4     Rcpp_0.12.7        \n",
       "[25] geosphere_1.5-1     IRkernel_0.8.9.9000 jsonlite_1.5       \n",
       "[28] gridExtra_2.2.1     rjson_0.2.15        png_0.1-7          \n",
       "[31] stringi_1.1.1       RJSONIO_1.3-0       tools_3.2.3        \n",
       "[34] magrittr_1.5        maps_3.0.2          lazyeval_0.2.0     \n",
       "[37] tibble_1.2          crayon_1.3.4        extrafontdb_1.0    \n",
       "[40] xml2_0.1.2          assertthat_0.1      httr_1.1.0         \n",
       "[43] R6_2.1.2           "
      ]
     },
     "metadata": {},
     "output_type": "display_data"
    }
   ],
   "source": [
    "options(warn = -1) #ignore warnings\n",
    "\n",
    "# IMPORTANT: This assumes that all packages in \"Rstart.R\" are installed,\n",
    "# and the fonts \"Source Sans Pro\" and \"Open Sans Condensed Bold\" are installed\n",
    "# via extrafont. If ggplot2 charts fail to render, you may need to change/remove the theme call.\n",
    "\n",
    "\n",
    "source(\"Rstart.R\")\n",
    "library(ggmap)\n",
    "\n",
    "\n",
    "\n",
    "sessionInfo()"
   ]
  },
  {
   "cell_type": "markdown",
   "metadata": {
    "collapsed": true
   },
   "source": [
    "# Processing the Data"
   ]
  },
  {
   "cell_type": "code",
   "execution_count": 4,
   "metadata": {
    "collapsed": true
   },
   "outputs": [],
   "source": [
    "#CDC information FLU\n",
    "#devtools::install_github(\"hrbrmstr/cdcfluview\")    \n",
    "  \n",
    "\n",
    "library(cdcfluview)\n",
    "library(statebins)\n",
    "# current verison\n",
    "# packageVersion(\"cdcfluview\")\n",
    "\n",
    "#df.flu <- get_flu_data(region = \"census\", sub_region = 1:9, data_source = \"all\", years = 2008:2015)\n",
    "#df.flu.census <- get_flu_data(region = \"census\", sub_region = 1:10, data_source = \"ilinet\", years = 2008:2015)\n",
    "\n",
    "# I am looking at the ILI activity\n",
    "df.state <- get_state_data(years=2010:2015)"
   ]
  },
  {
   "cell_type": "code",
   "execution_count": 5,
   "metadata": {
    "collapsed": true
   },
   "outputs": [],
   "source": [
    "#display the data \n",
    "#df.flu %>% head(10)\n",
    "#sprintf(\"# of Rows in Dataframe: %s\", nrow(df.flu))\n",
    "#sprintf(\"Dataframe Size: %s\", format(object.size(df.flu), units = \"MB\"))"
   ]
  },
  {
   "cell_type": "code",
   "execution_count": 6,
   "metadata": {
    "collapsed": false
   },
   "outputs": [
    {
     "data": {
      "text/html": [
       "<table>\n",
       "<thead><tr><th scope=col>statename</th><th scope=col>url</th><th scope=col>website</th><th scope=col>activity_level</th><th scope=col>activity_level_label</th><th scope=col>weekend</th><th scope=col>season</th><th scope=col>weeknumber</th></tr></thead>\n",
       "<tbody>\n",
       "\t<tr><td>District of Columbia                                                                                       </td><td>http://doh.dc.gov/page/influenza-season                                                                    </td><td>Influenza Information                                                                                      </td><td>0                                                                                                          </td><td>Insufficient Data                                                                                          </td><td>May-24-2014                                                                                                </td><td>2013-14                                                                                                    </td><td>21                                                                                                         </td></tr>\n",
       "\t<tr><td><span style=white-space:pre-wrap>Connecticut         </span>                                                                                           </td><td><span style=white-space:pre-wrap>http://www.ct.gov/dph/cwp/view.asp?a=3136&amp;q=410788                                                         </span></td><td><span style=white-space:pre-wrap>Flu Statistics                   </span>                                                                              </td><td>0                                                                                                                                                      </td><td>Insufficient Data                                                                                                                                      </td><td>May-24-2014                                                                                                                                            </td><td>2013-14                                                                                                                                                </td><td>21                                                                                                                                                     </td></tr>\n",
       "\t<tr><td>District of Columbia                                                                                       </td><td>http://doh.dc.gov/page/influenza-season                                                                    </td><td>Influenza Information                                                                                      </td><td>0                                                                                                          </td><td>Insufficient Data                                                                                          </td><td>May-31-2014                                                                                                </td><td>2013-14                                                                                                    </td><td>22                                                                                                         </td></tr>\n",
       "\t<tr><td>Puerto Rico                                                                                                </td><td>http://www.salud.gov.pr/Estadisticas-Registros-y-Publicaciones/Pages/Influenza.aspx                        </td><td>Puerto Rico Departamento de Salud                                                                          </td><td>0                                                                                                          </td><td>Insufficient Data                                                                                          </td><td>May-24-2014                                                                                                </td><td>2013-14                                                                                                    </td><td>21                                                                                                         </td></tr>\n",
       "\t<tr><td>Virgin Islands                                                                                             </td><td>http://doh.vi.gov/                                                                                         </td><td>Influenza                                                                                                  </td><td>0                                                                                                          </td><td>Insufficient Data                                                                                          </td><td>May-24-2014                                                                                                </td><td>2013-14                                                                                                    </td><td>21                                                                                                         </td></tr>\n",
       "\t<tr><td><span style=white-space:pre-wrap>Connecticut         </span>                                                                                           </td><td><span style=white-space:pre-wrap>http://www.ct.gov/dph/cwp/view.asp?a=3136&amp;q=410788                                                         </span></td><td><span style=white-space:pre-wrap>Flu Statistics                   </span>                                                                              </td><td>0                                                                                                                                                      </td><td>Insufficient Data                                                                                                                                      </td><td>May-31-2014                                                                                                                                            </td><td>2013-14                                                                                                                                                </td><td>22                                                                                                                                                     </td></tr>\n",
       "\t<tr><td>Puerto Rico                                                                                                </td><td>http://www.salud.gov.pr/Estadisticas-Registros-y-Publicaciones/Pages/Influenza.aspx                        </td><td>Puerto Rico Departamento de Salud                                                                          </td><td>0                                                                                                          </td><td>Insufficient Data                                                                                          </td><td>May-31-2014                                                                                                </td><td>2013-14                                                                                                    </td><td>22                                                                                                         </td></tr>\n",
       "\t<tr><td>Virgin Islands                                                                                             </td><td>http://doh.vi.gov/                                                                                         </td><td>Influenza                                                                                                  </td><td>0                                                                                                          </td><td>Insufficient Data                                                                                          </td><td>May-31-2014                                                                                                </td><td>2013-14                                                                                                    </td><td>22                                                                                                         </td></tr>\n",
       "\t<tr><td>Idaho                                                                                                      </td><td>http://www.healthandwelfare.idaho.gov/Health/DiseasesConditions/SeasonalInfluenzaFlu/tabid/327/Default.aspx</td><td>Influenza                                                                                                  </td><td>0                                                                                                          </td><td>Insufficient Data                                                                                          </td><td>Jun-07-2014                                                                                                </td><td>2013-14                                                                                                    </td><td>23                                                                                                         </td></tr>\n",
       "\t<tr><td>District of Columbia                                                                                       </td><td>http://doh.dc.gov/page/influenza-season                                                                    </td><td>Influenza Information                                                                                      </td><td>0                                                                                                          </td><td>Insufficient Data                                                                                          </td><td>Jun-07-2014                                                                                                </td><td>2013-14                                                                                                    </td><td>23                                                                                                         </td></tr>\n",
       "</tbody>\n",
       "</table>\n"
      ],
      "text/latex": [
       "\\begin{tabular}{r|llllllll}\n",
       " statename & url & website & activity\\_level & activity\\_level\\_label & weekend & season & weeknumber\\\\\n",
       "\\hline\n",
       "\t District of Columbia                                                                                        & http://doh.dc.gov/page/influenza-season                                                                     & Influenza Information                                                                                       & 0                                                                                                           & Insufficient Data                                                                                           & May-24-2014                                                                                                 & 2013-14                                                                                                     & 21                                                                                                         \\\\\n",
       "\t Connecticut                                                                                                   & http://www.ct.gov/dph/cwp/view.asp?a=3136\\&q=410788                                                          & Flu Statistics                                                                                                & 0                                                                                                             & Insufficient Data                                                                                             & May-24-2014                                                                                                   & 2013-14                                                                                                       & 21                                                                                                           \\\\\n",
       "\t District of Columbia                                                                                        & http://doh.dc.gov/page/influenza-season                                                                     & Influenza Information                                                                                       & 0                                                                                                           & Insufficient Data                                                                                           & May-31-2014                                                                                                 & 2013-14                                                                                                     & 22                                                                                                         \\\\\n",
       "\t Puerto Rico                                                                                                 & http://www.salud.gov.pr/Estadisticas-Registros-y-Publicaciones/Pages/Influenza.aspx                         & Puerto Rico Departamento de Salud                                                                           & 0                                                                                                           & Insufficient Data                                                                                           & May-24-2014                                                                                                 & 2013-14                                                                                                     & 21                                                                                                         \\\\\n",
       "\t Virgin Islands                                                                                              & http://doh.vi.gov/                                                                                          & Influenza                                                                                                   & 0                                                                                                           & Insufficient Data                                                                                           & May-24-2014                                                                                                 & 2013-14                                                                                                     & 21                                                                                                         \\\\\n",
       "\t Connecticut                                                                                                   & http://www.ct.gov/dph/cwp/view.asp?a=3136\\&q=410788                                                          & Flu Statistics                                                                                                & 0                                                                                                             & Insufficient Data                                                                                             & May-31-2014                                                                                                   & 2013-14                                                                                                       & 22                                                                                                           \\\\\n",
       "\t Puerto Rico                                                                                                 & http://www.salud.gov.pr/Estadisticas-Registros-y-Publicaciones/Pages/Influenza.aspx                         & Puerto Rico Departamento de Salud                                                                           & 0                                                                                                           & Insufficient Data                                                                                           & May-31-2014                                                                                                 & 2013-14                                                                                                     & 22                                                                                                         \\\\\n",
       "\t Virgin Islands                                                                                              & http://doh.vi.gov/                                                                                          & Influenza                                                                                                   & 0                                                                                                           & Insufficient Data                                                                                           & May-31-2014                                                                                                 & 2013-14                                                                                                     & 22                                                                                                         \\\\\n",
       "\t Idaho                                                                                                       & http://www.healthandwelfare.idaho.gov/Health/DiseasesConditions/SeasonalInfluenzaFlu/tabid/327/Default.aspx & Influenza                                                                                                   & 0                                                                                                           & Insufficient Data                                                                                           & Jun-07-2014                                                                                                 & 2013-14                                                                                                     & 23                                                                                                         \\\\\n",
       "\t District of Columbia                                                                                        & http://doh.dc.gov/page/influenza-season                                                                     & Influenza Information                                                                                       & 0                                                                                                           & Insufficient Data                                                                                           & Jun-07-2014                                                                                                 & 2013-14                                                                                                     & 23                                                                                                         \\\\\n",
       "\\end{tabular}\n"
      ],
      "text/markdown": [
       "\n",
       "statename | url | website | activity_level | activity_level_label | weekend | season | weeknumber | \n",
       "|---|---|---|---|---|---|---|---|---|---|\n",
       "| District of Columbia                                                                                        | http://doh.dc.gov/page/influenza-season                                                                     | Influenza Information                                                                                       | 0                                                                                                           | Insufficient Data                                                                                           | May-24-2014                                                                                                 | 2013-14                                                                                                     | 21                                                                                                          | \n",
       "| Connecticut                                                                                                 | http://www.ct.gov/dph/cwp/view.asp?a=3136&q=410788                                                          | Flu Statistics                                                                                              | 0                                                                                                           | Insufficient Data                                                                                           | May-24-2014                                                                                                 | 2013-14                                                                                                     | 21                                                                                                          | \n",
       "| District of Columbia                                                                                        | http://doh.dc.gov/page/influenza-season                                                                     | Influenza Information                                                                                       | 0                                                                                                           | Insufficient Data                                                                                           | May-31-2014                                                                                                 | 2013-14                                                                                                     | 22                                                                                                          | \n",
       "| Puerto Rico                                                                                                 | http://www.salud.gov.pr/Estadisticas-Registros-y-Publicaciones/Pages/Influenza.aspx                         | Puerto Rico Departamento de Salud                                                                           | 0                                                                                                           | Insufficient Data                                                                                           | May-24-2014                                                                                                 | 2013-14                                                                                                     | 21                                                                                                          | \n",
       "| Virgin Islands                                                                                              | http://doh.vi.gov/                                                                                          | Influenza                                                                                                   | 0                                                                                                           | Insufficient Data                                                                                           | May-24-2014                                                                                                 | 2013-14                                                                                                     | 21                                                                                                          | \n",
       "| Connecticut                                                                                                 | http://www.ct.gov/dph/cwp/view.asp?a=3136&q=410788                                                          | Flu Statistics                                                                                              | 0                                                                                                           | Insufficient Data                                                                                           | May-31-2014                                                                                                 | 2013-14                                                                                                     | 22                                                                                                          | \n",
       "| Puerto Rico                                                                                                 | http://www.salud.gov.pr/Estadisticas-Registros-y-Publicaciones/Pages/Influenza.aspx                         | Puerto Rico Departamento de Salud                                                                           | 0                                                                                                           | Insufficient Data                                                                                           | May-31-2014                                                                                                 | 2013-14                                                                                                     | 22                                                                                                          | \n",
       "| Virgin Islands                                                                                              | http://doh.vi.gov/                                                                                          | Influenza                                                                                                   | 0                                                                                                           | Insufficient Data                                                                                           | May-31-2014                                                                                                 | 2013-14                                                                                                     | 22                                                                                                          | \n",
       "| Idaho                                                                                                       | http://www.healthandwelfare.idaho.gov/Health/DiseasesConditions/SeasonalInfluenzaFlu/tabid/327/Default.aspx | Influenza                                                                                                   | 0                                                                                                           | Insufficient Data                                                                                           | Jun-07-2014                                                                                                 | 2013-14                                                                                                     | 23                                                                                                          | \n",
       "| District of Columbia                                                                                        | http://doh.dc.gov/page/influenza-season                                                                     | Influenza Information                                                                                       | 0                                                                                                           | Insufficient Data                                                                                           | Jun-07-2014                                                                                                 | 2013-14                                                                                                     | 23                                                                                                          | \n",
       "\n",
       "\n"
      ],
      "text/plain": [
       "   statename           \n",
       "1  District of Columbia\n",
       "2  Connecticut         \n",
       "3  District of Columbia\n",
       "4  Puerto Rico         \n",
       "5  Virgin Islands      \n",
       "6  Connecticut         \n",
       "7  Puerto Rico         \n",
       "8  Virgin Islands      \n",
       "9  Idaho               \n",
       "10 District of Columbia\n",
       "   url                                                                                                        \n",
       "1  http://doh.dc.gov/page/influenza-season                                                                    \n",
       "2  http://www.ct.gov/dph/cwp/view.asp?a=3136&q=410788                                                         \n",
       "3  http://doh.dc.gov/page/influenza-season                                                                    \n",
       "4  http://www.salud.gov.pr/Estadisticas-Registros-y-Publicaciones/Pages/Influenza.aspx                        \n",
       "5  http://doh.vi.gov/                                                                                         \n",
       "6  http://www.ct.gov/dph/cwp/view.asp?a=3136&q=410788                                                         \n",
       "7  http://www.salud.gov.pr/Estadisticas-Registros-y-Publicaciones/Pages/Influenza.aspx                        \n",
       "8  http://doh.vi.gov/                                                                                         \n",
       "9  http://www.healthandwelfare.idaho.gov/Health/DiseasesConditions/SeasonalInfluenzaFlu/tabid/327/Default.aspx\n",
       "10 http://doh.dc.gov/page/influenza-season                                                                    \n",
       "   website                           activity_level activity_level_label\n",
       "1  Influenza Information             0              Insufficient Data   \n",
       "2  Flu Statistics                    0              Insufficient Data   \n",
       "3  Influenza Information             0              Insufficient Data   \n",
       "4  Puerto Rico Departamento de Salud 0              Insufficient Data   \n",
       "5  Influenza                         0              Insufficient Data   \n",
       "6  Flu Statistics                    0              Insufficient Data   \n",
       "7  Puerto Rico Departamento de Salud 0              Insufficient Data   \n",
       "8  Influenza                         0              Insufficient Data   \n",
       "9  Influenza                         0              Insufficient Data   \n",
       "10 Influenza Information             0              Insufficient Data   \n",
       "   weekend     season  weeknumber\n",
       "1  May-24-2014 2013-14 21        \n",
       "2  May-24-2014 2013-14 21        \n",
       "3  May-31-2014 2013-14 22        \n",
       "4  May-24-2014 2013-14 21        \n",
       "5  May-24-2014 2013-14 21        \n",
       "6  May-31-2014 2013-14 22        \n",
       "7  May-31-2014 2013-14 22        \n",
       "8  May-31-2014 2013-14 22        \n",
       "9  Jun-07-2014 2013-14 23        \n",
       "10 Jun-07-2014 2013-14 23        "
      ]
     },
     "metadata": {},
     "output_type": "display_data"
    },
    {
     "data": {
      "text/html": [
       "'# of Rows in Dataframe: 16668'"
      ],
      "text/latex": [
       "'\\# of Rows in Dataframe: 16668'"
      ],
      "text/markdown": [
       "'# of Rows in Dataframe: 16668'"
      ],
      "text/plain": [
       "[1] \"# of Rows in Dataframe: 16668\""
      ]
     },
     "metadata": {},
     "output_type": "display_data"
    },
    {
     "data": {
      "text/html": [
       "'Dataframe Size: 0.9 Mb'"
      ],
      "text/latex": [
       "'Dataframe Size: 0.9 Mb'"
      ],
      "text/markdown": [
       "'Dataframe Size: 0.9 Mb'"
      ],
      "text/plain": [
       "[1] \"Dataframe Size: 0.9 Mb\""
      ]
     },
     "metadata": {},
     "output_type": "display_data"
    }
   ],
   "source": [
    "#display the data \n",
    "df.state %>% head(10)\n",
    "sprintf(\"# of Rows in Dataframe: %s\", nrow(df.state))\n",
    "sprintf(\"Dataframe Size: %s\", format(object.size(df.state), units = \"MB\"))"
   ]
  },
  {
   "cell_type": "code",
   "execution_count": 36,
   "metadata": {
    "collapsed": true
   },
   "outputs": [],
   "source": [
    "#display the data \n",
    "#df.flu.census %>% head(10)\n",
    "#sprintf(\"# of Rows in Dataframe: %s\", nrow(df.flu.census))\n",
    "#sprintf(\"Dataframe Size: %s\", format(object.size(df.flu.census), units = \"MB\"))"
   ]
  },
  {
   "cell_type": "code",
   "execution_count": 7,
   "metadata": {
    "collapsed": false
   },
   "outputs": [
    {
     "data": {
      "text/html": [
       "<table>\n",
       "<thead><tr><th scope=col>statename</th><th scope=col>activity_level</th><th scope=col>activity_level_label</th><th scope=col>weekend</th><th scope=col>season</th><th scope=col>weeknumber</th></tr></thead>\n",
       "<tbody>\n",
       "\t<tr><td>District of Columbia</td><td>0                   </td><td>Insufficient Data   </td><td>May-24-2014         </td><td>2013-14             </td><td>21                  </td></tr>\n",
       "\t<tr><td>Connecticut         </td><td>0                   </td><td>Insufficient Data   </td><td>May-24-2014         </td><td>2013-14             </td><td>21                  </td></tr>\n",
       "\t<tr><td>District of Columbia</td><td>0                   </td><td>Insufficient Data   </td><td>May-31-2014         </td><td>2013-14             </td><td>22                  </td></tr>\n",
       "\t<tr><td>Puerto Rico         </td><td>0                   </td><td>Insufficient Data   </td><td>May-24-2014         </td><td>2013-14             </td><td>21                  </td></tr>\n",
       "\t<tr><td>Virgin Islands      </td><td>0                   </td><td>Insufficient Data   </td><td>May-24-2014         </td><td>2013-14             </td><td>21                  </td></tr>\n",
       "\t<tr><td>Connecticut         </td><td>0                   </td><td>Insufficient Data   </td><td>May-31-2014         </td><td>2013-14             </td><td>22                  </td></tr>\n",
       "\t<tr><td>Puerto Rico         </td><td>0                   </td><td>Insufficient Data   </td><td>May-31-2014         </td><td>2013-14             </td><td>22                  </td></tr>\n",
       "\t<tr><td>Virgin Islands      </td><td>0                   </td><td>Insufficient Data   </td><td>May-31-2014         </td><td>2013-14             </td><td>22                  </td></tr>\n",
       "\t<tr><td>Idaho               </td><td>0                   </td><td>Insufficient Data   </td><td>Jun-07-2014         </td><td>2013-14             </td><td>23                  </td></tr>\n",
       "\t<tr><td>District of Columbia</td><td>0                   </td><td>Insufficient Data   </td><td>Jun-07-2014         </td><td>2013-14             </td><td>23                  </td></tr>\n",
       "</tbody>\n",
       "</table>\n"
      ],
      "text/latex": [
       "\\begin{tabular}{r|llllll}\n",
       " statename & activity\\_level & activity\\_level\\_label & weekend & season & weeknumber\\\\\n",
       "\\hline\n",
       "\t District of Columbia & 0                    & Insufficient Data    & May-24-2014          & 2013-14              & 21                  \\\\\n",
       "\t Connecticut          & 0                    & Insufficient Data    & May-24-2014          & 2013-14              & 21                  \\\\\n",
       "\t District of Columbia & 0                    & Insufficient Data    & May-31-2014          & 2013-14              & 22                  \\\\\n",
       "\t Puerto Rico          & 0                    & Insufficient Data    & May-24-2014          & 2013-14              & 21                  \\\\\n",
       "\t Virgin Islands       & 0                    & Insufficient Data    & May-24-2014          & 2013-14              & 21                  \\\\\n",
       "\t Connecticut          & 0                    & Insufficient Data    & May-31-2014          & 2013-14              & 22                  \\\\\n",
       "\t Puerto Rico          & 0                    & Insufficient Data    & May-31-2014          & 2013-14              & 22                  \\\\\n",
       "\t Virgin Islands       & 0                    & Insufficient Data    & May-31-2014          & 2013-14              & 22                  \\\\\n",
       "\t Idaho                & 0                    & Insufficient Data    & Jun-07-2014          & 2013-14              & 23                  \\\\\n",
       "\t District of Columbia & 0                    & Insufficient Data    & Jun-07-2014          & 2013-14              & 23                  \\\\\n",
       "\\end{tabular}\n"
      ],
      "text/markdown": [
       "\n",
       "statename | activity_level | activity_level_label | weekend | season | weeknumber | \n",
       "|---|---|---|---|---|---|---|---|---|---|\n",
       "| District of Columbia | 0                    | Insufficient Data    | May-24-2014          | 2013-14              | 21                   | \n",
       "| Connecticut          | 0                    | Insufficient Data    | May-24-2014          | 2013-14              | 21                   | \n",
       "| District of Columbia | 0                    | Insufficient Data    | May-31-2014          | 2013-14              | 22                   | \n",
       "| Puerto Rico          | 0                    | Insufficient Data    | May-24-2014          | 2013-14              | 21                   | \n",
       "| Virgin Islands       | 0                    | Insufficient Data    | May-24-2014          | 2013-14              | 21                   | \n",
       "| Connecticut          | 0                    | Insufficient Data    | May-31-2014          | 2013-14              | 22                   | \n",
       "| Puerto Rico          | 0                    | Insufficient Data    | May-31-2014          | 2013-14              | 22                   | \n",
       "| Virgin Islands       | 0                    | Insufficient Data    | May-31-2014          | 2013-14              | 22                   | \n",
       "| Idaho                | 0                    | Insufficient Data    | Jun-07-2014          | 2013-14              | 23                   | \n",
       "| District of Columbia | 0                    | Insufficient Data    | Jun-07-2014          | 2013-14              | 23                   | \n",
       "\n",
       "\n"
      ],
      "text/plain": [
       "   statename            activity_level activity_level_label weekend     season \n",
       "1  District of Columbia 0              Insufficient Data    May-24-2014 2013-14\n",
       "2  Connecticut          0              Insufficient Data    May-24-2014 2013-14\n",
       "3  District of Columbia 0              Insufficient Data    May-31-2014 2013-14\n",
       "4  Puerto Rico          0              Insufficient Data    May-24-2014 2013-14\n",
       "5  Virgin Islands       0              Insufficient Data    May-24-2014 2013-14\n",
       "6  Connecticut          0              Insufficient Data    May-31-2014 2013-14\n",
       "7  Puerto Rico          0              Insufficient Data    May-31-2014 2013-14\n",
       "8  Virgin Islands       0              Insufficient Data    May-31-2014 2013-14\n",
       "9  Idaho                0              Insufficient Data    Jun-07-2014 2013-14\n",
       "10 District of Columbia 0              Insufficient Data    Jun-07-2014 2013-14\n",
       "   weeknumber\n",
       "1  21        \n",
       "2  21        \n",
       "3  22        \n",
       "4  21        \n",
       "5  21        \n",
       "6  22        \n",
       "7  22        \n",
       "8  22        \n",
       "9  23        \n",
       "10 23        "
      ]
     },
     "metadata": {},
     "output_type": "display_data"
    },
    {
     "data": {
      "text/html": [
       "'# of Rows in Dataframe: 16668'"
      ],
      "text/latex": [
       "'\\# of Rows in Dataframe: 16668'"
      ],
      "text/markdown": [
       "'# of Rows in Dataframe: 16668'"
      ],
      "text/plain": [
       "[1] \"# of Rows in Dataframe: 16668\""
      ]
     },
     "metadata": {},
     "output_type": "display_data"
    },
    {
     "data": {
      "text/html": [
       "'Dataframe Size: 0.7 Mb'"
      ],
      "text/latex": [
       "'Dataframe Size: 0.7 Mb'"
      ],
      "text/markdown": [
       "'Dataframe Size: 0.7 Mb'"
      ],
      "text/plain": [
       "[1] \"Dataframe Size: 0.7 Mb\""
      ]
     },
     "metadata": {},
     "output_type": "display_data"
    }
   ],
   "source": [
    "#columns = c(\"REGION TYPE\",\"REGION\",\"YEAR\",\"WEEK\",\"AGE 0-4\",\"AGE 25-49\",\"AGE 25-64\",\"AGE 5-24\",\"AGE 50-64\",\"AGE 65\",\"ILITOTAL\",\"TOTAL PATIENTS\")\n",
    "\n",
    "columns = c(\"statename\",\"activity_level\",\"activity_level_label\",\"weekend\", \"season\", \"weeknumber\")\n",
    "\n",
    "# select() require column indices that we find trough which() \n",
    "\n",
    "df <- df.state %>% select(which(names(df.state) %in% columns))\n",
    "\n",
    "df %>% head(10)\n",
    "sprintf(\"# of Rows in Dataframe: %s\", nrow(df))\n",
    "sprintf(\"Dataframe Size: %s\", format(object.size(df), units = \"MB\"))"
   ]
  },
  {
   "cell_type": "markdown",
   "metadata": {},
   "source": [
    "All-Caps to proper case. (see this [Stack Overflow question](http://stackoverflow.com/questions/15776732/how-to-convert-a-vector-of-strings-to-title-case))"
   ]
  },
  {
   "cell_type": "code",
   "execution_count": 8,
   "metadata": {
    "collapsed": false
   },
   "outputs": [
    {
     "data": {
      "text/html": [
       "<table>\n",
       "<thead><tr><th scope=col>statename</th><th scope=col>activity_level</th><th scope=col>activity_level_label</th><th scope=col>weekend</th><th scope=col>season</th><th scope=col>weeknumber</th></tr></thead>\n",
       "<tbody>\n",
       "\t<tr><td>District of Columbia</td><td>0                   </td><td>Insufficient Data   </td><td>May-24-2014         </td><td>2013-14             </td><td>21                  </td></tr>\n",
       "\t<tr><td>Connecticut         </td><td>0                   </td><td>Insufficient Data   </td><td>May-24-2014         </td><td>2013-14             </td><td>21                  </td></tr>\n",
       "\t<tr><td>District of Columbia</td><td>0                   </td><td>Insufficient Data   </td><td>May-31-2014         </td><td>2013-14             </td><td>22                  </td></tr>\n",
       "\t<tr><td>Puerto Rico         </td><td>0                   </td><td>Insufficient Data   </td><td>May-24-2014         </td><td>2013-14             </td><td>21                  </td></tr>\n",
       "\t<tr><td>Virgin Islands      </td><td>0                   </td><td>Insufficient Data   </td><td>May-24-2014         </td><td>2013-14             </td><td>21                  </td></tr>\n",
       "\t<tr><td>Connecticut         </td><td>0                   </td><td>Insufficient Data   </td><td>May-31-2014         </td><td>2013-14             </td><td>22                  </td></tr>\n",
       "\t<tr><td>Puerto Rico         </td><td>0                   </td><td>Insufficient Data   </td><td>May-31-2014         </td><td>2013-14             </td><td>22                  </td></tr>\n",
       "\t<tr><td>Virgin Islands      </td><td>0                   </td><td>Insufficient Data   </td><td>May-31-2014         </td><td>2013-14             </td><td>22                  </td></tr>\n",
       "\t<tr><td>Idaho               </td><td>0                   </td><td>Insufficient Data   </td><td>Jun-07-2014         </td><td>2013-14             </td><td>23                  </td></tr>\n",
       "\t<tr><td>District of Columbia</td><td>0                   </td><td>Insufficient Data   </td><td>Jun-07-2014         </td><td>2013-14             </td><td>23                  </td></tr>\n",
       "</tbody>\n",
       "</table>\n"
      ],
      "text/latex": [
       "\\begin{tabular}{r|llllll}\n",
       " statename & activity\\_level & activity\\_level\\_label & weekend & season & weeknumber\\\\\n",
       "\\hline\n",
       "\t District of Columbia & 0                    & Insufficient Data    & May-24-2014          & 2013-14              & 21                  \\\\\n",
       "\t Connecticut          & 0                    & Insufficient Data    & May-24-2014          & 2013-14              & 21                  \\\\\n",
       "\t District of Columbia & 0                    & Insufficient Data    & May-31-2014          & 2013-14              & 22                  \\\\\n",
       "\t Puerto Rico          & 0                    & Insufficient Data    & May-24-2014          & 2013-14              & 21                  \\\\\n",
       "\t Virgin Islands       & 0                    & Insufficient Data    & May-24-2014          & 2013-14              & 21                  \\\\\n",
       "\t Connecticut          & 0                    & Insufficient Data    & May-31-2014          & 2013-14              & 22                  \\\\\n",
       "\t Puerto Rico          & 0                    & Insufficient Data    & May-31-2014          & 2013-14              & 22                  \\\\\n",
       "\t Virgin Islands       & 0                    & Insufficient Data    & May-31-2014          & 2013-14              & 22                  \\\\\n",
       "\t Idaho                & 0                    & Insufficient Data    & Jun-07-2014          & 2013-14              & 23                  \\\\\n",
       "\t District of Columbia & 0                    & Insufficient Data    & Jun-07-2014          & 2013-14              & 23                  \\\\\n",
       "\\end{tabular}\n"
      ],
      "text/markdown": [
       "\n",
       "statename | activity_level | activity_level_label | weekend | season | weeknumber | \n",
       "|---|---|---|---|---|---|---|---|---|---|\n",
       "| District of Columbia | 0                    | Insufficient Data    | May-24-2014          | 2013-14              | 21                   | \n",
       "| Connecticut          | 0                    | Insufficient Data    | May-24-2014          | 2013-14              | 21                   | \n",
       "| District of Columbia | 0                    | Insufficient Data    | May-31-2014          | 2013-14              | 22                   | \n",
       "| Puerto Rico          | 0                    | Insufficient Data    | May-24-2014          | 2013-14              | 21                   | \n",
       "| Virgin Islands       | 0                    | Insufficient Data    | May-24-2014          | 2013-14              | 21                   | \n",
       "| Connecticut          | 0                    | Insufficient Data    | May-31-2014          | 2013-14              | 22                   | \n",
       "| Puerto Rico          | 0                    | Insufficient Data    | May-31-2014          | 2013-14              | 22                   | \n",
       "| Virgin Islands       | 0                    | Insufficient Data    | May-31-2014          | 2013-14              | 22                   | \n",
       "| Idaho                | 0                    | Insufficient Data    | Jun-07-2014          | 2013-14              | 23                   | \n",
       "| District of Columbia | 0                    | Insufficient Data    | Jun-07-2014          | 2013-14              | 23                   | \n",
       "\n",
       "\n"
      ],
      "text/plain": [
       "   statename            activity_level activity_level_label weekend     season \n",
       "1  District of Columbia 0              Insufficient Data    May-24-2014 2013-14\n",
       "2  Connecticut          0              Insufficient Data    May-24-2014 2013-14\n",
       "3  District of Columbia 0              Insufficient Data    May-31-2014 2013-14\n",
       "4  Puerto Rico          0              Insufficient Data    May-24-2014 2013-14\n",
       "5  Virgin Islands       0              Insufficient Data    May-24-2014 2013-14\n",
       "6  Connecticut          0              Insufficient Data    May-31-2014 2013-14\n",
       "7  Puerto Rico          0              Insufficient Data    May-31-2014 2013-14\n",
       "8  Virgin Islands       0              Insufficient Data    May-31-2014 2013-14\n",
       "9  Idaho                0              Insufficient Data    Jun-07-2014 2013-14\n",
       "10 District of Columbia 0              Insufficient Data    Jun-07-2014 2013-14\n",
       "   weeknumber\n",
       "1  21        \n",
       "2  21        \n",
       "3  22        \n",
       "4  21        \n",
       "5  21        \n",
       "6  22        \n",
       "7  22        \n",
       "8  22        \n",
       "9  23        \n",
       "10 23        "
      ]
     },
     "metadata": {},
     "output_type": "display_data"
    }
   ],
   "source": [
    "proper_case <- function(x) {\n",
    "    return (gsub(\"\\\\b([A-Z])([A-Z]+)\", \"\\\\U\\\\1\\\\L\\\\2\" , x, perl = TRUE))\n",
    "}\n",
    "\n",
    "# df <- df %>% mutate(STATENAME = proper_case(STATENAME),\n",
    "# ACTIVITYESTIMATE = proper_case(ACTIVITYESTIMATE),\n",
    "#                 WEEKEND = proper_case(WEEKEND))\n",
    "\n",
    "df %>% head(10)"
   ]
  },
  {
   "cell_type": "markdown",
   "metadata": {},
   "source": [
    "# Filtering the data\n",
    "\n",
    "let's file the data frame by \"Local Activity\" to aggregate some interesting statistics"
   ]
  },
  {
   "cell_type": "code",
   "execution_count": 31,
   "metadata": {
    "collapsed": false
   },
   "outputs": [
    {
     "data": {
      "text/html": [
       "<table>\n",
       "<thead><tr><th scope=col>statename</th><th scope=col>activity_level</th><th scope=col>activity_level_label</th><th scope=col>weekend</th><th scope=col>season</th><th scope=col>weeknumber</th></tr></thead>\n",
       "<tbody>\n",
       "\t<tr><td>New York City</td><td>1            </td><td>Minimal      </td><td>Oct-01-2016  </td><td>2015-16      </td><td>39           </td></tr>\n",
       "\t<tr><td>Florida      </td><td>1            </td><td>Minimal      </td><td>Oct-01-2016  </td><td>2015-16      </td><td>39           </td></tr>\n",
       "\t<tr><td>Washington   </td><td>1            </td><td>Minimal      </td><td>Oct-01-2016  </td><td>2015-16      </td><td>39           </td></tr>\n",
       "\t<tr><td>West Virginia</td><td>1            </td><td>Minimal      </td><td>Oct-01-2016  </td><td>2015-16      </td><td>39           </td></tr>\n",
       "\t<tr><td>Wisconsin    </td><td>1            </td><td>Minimal      </td><td>Oct-01-2016  </td><td>2015-16      </td><td>39           </td></tr>\n",
       "\t<tr><td>Wyoming      </td><td>1            </td><td>Minimal      </td><td>Oct-01-2016  </td><td>2015-16      </td><td>39           </td></tr>\n",
       "\t<tr><td>Ohio         </td><td>1            </td><td>Minimal      </td><td>Oct-01-2016  </td><td>2015-16      </td><td>39           </td></tr>\n",
       "\t<tr><td>Oklahoma     </td><td>1            </td><td>Minimal      </td><td>Oct-01-2016  </td><td>2015-16      </td><td>39           </td></tr>\n",
       "\t<tr><td>Oregon       </td><td>1            </td><td>Minimal      </td><td>Oct-01-2016  </td><td>2015-16      </td><td>39           </td></tr>\n",
       "\t<tr><td>Pennsylvania </td><td>1            </td><td>Minimal      </td><td>Oct-01-2016  </td><td>2015-16      </td><td>39           </td></tr>\n",
       "</tbody>\n",
       "</table>\n"
      ],
      "text/latex": [
       "\\begin{tabular}{r|llllll}\n",
       " statename & activity\\_level & activity\\_level\\_label & weekend & season & weeknumber\\\\\n",
       "\\hline\n",
       "\t New York City & 1             & Minimal       & Oct-01-2016   & 2015-16       & 39           \\\\\n",
       "\t Florida       & 1             & Minimal       & Oct-01-2016   & 2015-16       & 39           \\\\\n",
       "\t Washington    & 1             & Minimal       & Oct-01-2016   & 2015-16       & 39           \\\\\n",
       "\t West Virginia & 1             & Minimal       & Oct-01-2016   & 2015-16       & 39           \\\\\n",
       "\t Wisconsin     & 1             & Minimal       & Oct-01-2016   & 2015-16       & 39           \\\\\n",
       "\t Wyoming       & 1             & Minimal       & Oct-01-2016   & 2015-16       & 39           \\\\\n",
       "\t Ohio          & 1             & Minimal       & Oct-01-2016   & 2015-16       & 39           \\\\\n",
       "\t Oklahoma      & 1             & Minimal       & Oct-01-2016   & 2015-16       & 39           \\\\\n",
       "\t Oregon        & 1             & Minimal       & Oct-01-2016   & 2015-16       & 39           \\\\\n",
       "\t Pennsylvania  & 1             & Minimal       & Oct-01-2016   & 2015-16       & 39           \\\\\n",
       "\\end{tabular}\n"
      ],
      "text/markdown": [
       "\n",
       "statename | activity_level | activity_level_label | weekend | season | weeknumber | \n",
       "|---|---|---|---|---|---|---|---|---|---|\n",
       "| New York City | 1             | Minimal       | Oct-01-2016   | 2015-16       | 39            | \n",
       "| Florida       | 1             | Minimal       | Oct-01-2016   | 2015-16       | 39            | \n",
       "| Washington    | 1             | Minimal       | Oct-01-2016   | 2015-16       | 39            | \n",
       "| West Virginia | 1             | Minimal       | Oct-01-2016   | 2015-16       | 39            | \n",
       "| Wisconsin     | 1             | Minimal       | Oct-01-2016   | 2015-16       | 39            | \n",
       "| Wyoming       | 1             | Minimal       | Oct-01-2016   | 2015-16       | 39            | \n",
       "| Ohio          | 1             | Minimal       | Oct-01-2016   | 2015-16       | 39            | \n",
       "| Oklahoma      | 1             | Minimal       | Oct-01-2016   | 2015-16       | 39            | \n",
       "| Oregon        | 1             | Minimal       | Oct-01-2016   | 2015-16       | 39            | \n",
       "| Pennsylvania  | 1             | Minimal       | Oct-01-2016   | 2015-16       | 39            | \n",
       "\n",
       "\n"
      ],
      "text/plain": [
       "   statename     activity_level activity_level_label weekend     season \n",
       "1  New York City 1              Minimal              Oct-01-2016 2015-16\n",
       "2  Florida       1              Minimal              Oct-01-2016 2015-16\n",
       "3  Washington    1              Minimal              Oct-01-2016 2015-16\n",
       "4  West Virginia 1              Minimal              Oct-01-2016 2015-16\n",
       "5  Wisconsin     1              Minimal              Oct-01-2016 2015-16\n",
       "6  Wyoming       1              Minimal              Oct-01-2016 2015-16\n",
       "7  Ohio          1              Minimal              Oct-01-2016 2015-16\n",
       "8  Oklahoma      1              Minimal              Oct-01-2016 2015-16\n",
       "9  Oregon        1              Minimal              Oct-01-2016 2015-16\n",
       "10 Pennsylvania  1              Minimal              Oct-01-2016 2015-16\n",
       "   weeknumber\n",
       "1  39        \n",
       "2  39        \n",
       "3  39        \n",
       "4  39        \n",
       "5  39        \n",
       "6  39        \n",
       "7  39        \n",
       "8  39        \n",
       "9  39        \n",
       "10 39        "
      ]
     },
     "metadata": {},
     "output_type": "display_data"
    },
    {
     "data": {
      "text/html": [
       "'# of Rows in Dataframe: 15878'"
      ],
      "text/latex": [
       "'\\# of Rows in Dataframe: 15878'"
      ],
      "text/markdown": [
       "'# of Rows in Dataframe: 15878'"
      ],
      "text/plain": [
       "[1] \"# of Rows in Dataframe: 15878\""
      ]
     },
     "metadata": {},
     "output_type": "display_data"
    },
    {
     "data": {
      "text/html": [
       "'Dataframe Size: 0.6 Mb'"
      ],
      "text/latex": [
       "'Dataframe Size: 0.6 Mb'"
      ],
      "text/markdown": [
       "'Dataframe Size: 0.6 Mb'"
      ],
      "text/plain": [
       "[1] \"Dataframe Size: 0.6 Mb\""
      ]
     },
     "metadata": {},
     "output_type": "display_data"
    }
   ],
   "source": [
    "# grepl() is the best way to do in-text search\n",
    "#df_flu <- df %>% filter(grepl(\"Local Activity\", ACTIVITYESTIMATE))\n",
    "\n",
    "df.flu.activity <- df %>% filter(activity_level > 0)\n",
    "\n",
    "df.flu.activity %>% head(10)\n",
    "sprintf(\"# of Rows in Dataframe: %s\", nrow(df.flu.activity))\n",
    "sprintf(\"Dataframe Size: %s\", format(object.size(df.flu.activity), units = \"MB\"))"
   ]
  },
  {
   "cell_type": "markdown",
   "metadata": {},
   "source": [
    "## Flue Over Time"
   ]
  },
  {
   "cell_type": "code",
   "execution_count": 32,
   "metadata": {
    "collapsed": false,
    "scrolled": true
   },
   "outputs": [
    {
     "data": {
      "text/html": [
       "<time datetime=\"2014-05-17\">2014-05-17</time>"
      ],
      "text/latex": [
       "2014-05-17"
      ],
      "text/markdown": [
       "2014-05-17"
      ],
      "text/plain": [
       "[1] \"2014-05-17\""
      ]
     },
     "metadata": {},
     "output_type": "display_data"
    }
   ],
   "source": [
    " as.Date(\"May-17-2014\",\"%b-%d-%Y\")"
   ]
  },
  {
   "cell_type": "code",
   "execution_count": 11,
   "metadata": {
    "collapsed": false
   },
   "outputs": [
    {
     "data": {
      "text/html": [
       "<table>\n",
       "<thead><tr><th scope=col>weekend</th><th scope=col>count</th></tr></thead>\n",
       "<tbody>\n",
       "\t<tr><td>2010-10-09</td><td>52        </td></tr>\n",
       "\t<tr><td>2010-10-16</td><td>52        </td></tr>\n",
       "\t<tr><td>2010-10-23</td><td>52        </td></tr>\n",
       "\t<tr><td>2010-10-30</td><td>52        </td></tr>\n",
       "\t<tr><td>2010-11-06</td><td>52        </td></tr>\n",
       "\t<tr><td>2010-11-13</td><td>52        </td></tr>\n",
       "\t<tr><td>2010-11-20</td><td>52        </td></tr>\n",
       "\t<tr><td>2010-11-27</td><td>52        </td></tr>\n",
       "\t<tr><td>2010-12-04</td><td>52        </td></tr>\n",
       "\t<tr><td>2010-12-11</td><td>52        </td></tr>\n",
       "</tbody>\n",
       "</table>\n"
      ],
      "text/latex": [
       "\\begin{tabular}{r|ll}\n",
       " weekend & count\\\\\n",
       "\\hline\n",
       "\t 2010-10-09 & 52        \\\\\n",
       "\t 2010-10-16 & 52        \\\\\n",
       "\t 2010-10-23 & 52        \\\\\n",
       "\t 2010-10-30 & 52        \\\\\n",
       "\t 2010-11-06 & 52        \\\\\n",
       "\t 2010-11-13 & 52        \\\\\n",
       "\t 2010-11-20 & 52        \\\\\n",
       "\t 2010-11-27 & 52        \\\\\n",
       "\t 2010-12-04 & 52        \\\\\n",
       "\t 2010-12-11 & 52        \\\\\n",
       "\\end{tabular}\n"
      ],
      "text/markdown": [
       "\n",
       "weekend | count | \n",
       "|---|---|---|---|---|---|---|---|---|---|\n",
       "| 2010-10-09 | 52         | \n",
       "| 2010-10-16 | 52         | \n",
       "| 2010-10-23 | 52         | \n",
       "| 2010-10-30 | 52         | \n",
       "| 2010-11-06 | 52         | \n",
       "| 2010-11-13 | 52         | \n",
       "| 2010-11-20 | 52         | \n",
       "| 2010-11-27 | 52         | \n",
       "| 2010-12-04 | 52         | \n",
       "| 2010-12-11 | 52         | \n",
       "\n",
       "\n"
      ],
      "text/plain": [
       "   weekend    count\n",
       "1  2010-10-09 52   \n",
       "2  2010-10-16 52   \n",
       "3  2010-10-23 52   \n",
       "4  2010-10-30 52   \n",
       "5  2010-11-06 52   \n",
       "6  2010-11-13 52   \n",
       "7  2010-11-20 52   \n",
       "8  2010-11-27 52   \n",
       "9  2010-12-04 52   \n",
       "10 2010-12-11 52   "
      ]
     },
     "metadata": {},
     "output_type": "display_data"
    }
   ],
   "source": [
    "df.flu.weekend <-df.flu.activity %>%\n",
    "                    mutate(weekend = as.Date(weekend,\"%b-%d-%Y\")) %>% #convert to proper date for analysis\n",
    "                    group_by(weekend) %>%\n",
    "                    summarize(count = n()) %>%\n",
    "                    arrange(weekend)\n",
    "\n",
    "df.flu.weekend %>% head(10)"
   ]
  },
  {
   "cell_type": "code",
   "execution_count": 26,
   "metadata": {
    "collapsed": false
   },
   "outputs": [],
   "source": [
    "plot <- ggplot(df.flu.weekend, aes(x = weekend, y = count)) +\n",
    "    geom_line(color = \"#F2CA27\", size = 0.1) +\n",
    "    geom_smooth(color = \"#1A1A1A\") +\n",
    "    fte_theme() +\n",
    "    scale_x_date(breaks = date_breaks(\"2 years\"), labels = date_format(\"%Y\")) +\n",
    "    labs(x = \"Weekend of the obseration\", y = \"Count of weekly activity > 0 \"\n",
    "         , title = \"Weekly ILI Activity in the US from 2015 - 2017\")"
   ]
  },
  {
   "cell_type": "code",
   "execution_count": 27,
   "metadata": {
    "collapsed": true
   },
   "outputs": [],
   "source": [
    "max_save(plot, \"US-ILI-when-1\", \"US CDC Fluview Data\")"
   ]
  },
  {
   "cell_type": "markdown",
   "metadata": {
    "collapsed": true
   },
   "source": [
    "[How to Include image or picture in jupyter notebook](https://stackoverflow.com/questions/32370281/how-to-include-image-or-picture-in-jupyter-notebook)\n",
    "\n",
    "![title](US-ILI-when-1.png)"
   ]
  },
  {
   "cell_type": "markdown",
   "metadata": {},
   "source": [
    "##  ILI Activity Heatmap\n",
    "\n",
    "Aggregate counts of ILI activity by Season and Months to create heat map.\n",
    "\n",
    "-  [Extract Month and Year From Date in R](http://www.dummies.com/programming/r/how-to-extract-specific-elements-from-a-date-in-r/)\n",
    "\n",
    "-  [How do I group my date variable into month/year in R?](https://stackoverflow.com/questions/33221425/how-do-i-group-my-date-variable-into-month-year-in-r)\n"
   ]
  },
  {
   "cell_type": "code",
   "execution_count": 60,
   "metadata": {
    "collapsed": false
   },
   "outputs": [
    {
     "data": {
      "text/html": [
       "<table>\n",
       "<thead><tr><th scope=col>month</th><th scope=col>season</th><th scope=col>count</th></tr></thead>\n",
       "<tbody>\n",
       "\t<tr><td>Apr    </td><td>2010-11</td><td>256    </td></tr>\n",
       "\t<tr><td>Apr    </td><td>2011-12</td><td>204    </td></tr>\n",
       "\t<tr><td>Apr    </td><td>2012-13</td><td>205    </td></tr>\n",
       "\t<tr><td>Apr    </td><td>2013-14</td><td>204    </td></tr>\n",
       "\t<tr><td>Apr    </td><td>2014-15</td><td>208    </td></tr>\n",
       "\t<tr><td>Apr    </td><td>2015-16</td><td>260    </td></tr>\n",
       "\t<tr><td>Aug    </td><td>2010-11</td><td>194    </td></tr>\n",
       "\t<tr><td>Aug    </td><td>2011-12</td><td>185    </td></tr>\n",
       "\t<tr><td>Aug    </td><td>2012-13</td><td>233    </td></tr>\n",
       "\t<tr><td>Aug    </td><td>2013-14</td><td>241    </td></tr>\n",
       "</tbody>\n",
       "</table>\n"
      ],
      "text/latex": [
       "\\begin{tabular}{r|lll}\n",
       " month & season & count\\\\\n",
       "\\hline\n",
       "\t Apr     & 2010-11 & 256    \\\\\n",
       "\t Apr     & 2011-12 & 204    \\\\\n",
       "\t Apr     & 2012-13 & 205    \\\\\n",
       "\t Apr     & 2013-14 & 204    \\\\\n",
       "\t Apr     & 2014-15 & 208    \\\\\n",
       "\t Apr     & 2015-16 & 260    \\\\\n",
       "\t Aug     & 2010-11 & 194    \\\\\n",
       "\t Aug     & 2011-12 & 185    \\\\\n",
       "\t Aug     & 2012-13 & 233    \\\\\n",
       "\t Aug     & 2013-14 & 241    \\\\\n",
       "\\end{tabular}\n"
      ],
      "text/markdown": [
       "\n",
       "month | season | count | \n",
       "|---|---|---|---|---|---|---|---|---|---|\n",
       "| Apr     | 2010-11 | 256     | \n",
       "| Apr     | 2011-12 | 204     | \n",
       "| Apr     | 2012-13 | 205     | \n",
       "| Apr     | 2013-14 | 204     | \n",
       "| Apr     | 2014-15 | 208     | \n",
       "| Apr     | 2015-16 | 260     | \n",
       "| Aug     | 2010-11 | 194     | \n",
       "| Aug     | 2011-12 | 185     | \n",
       "| Aug     | 2012-13 | 233     | \n",
       "| Aug     | 2013-14 | 241     | \n",
       "\n",
       "\n"
      ],
      "text/plain": [
       "   month season  count\n",
       "1  Apr   2010-11 256  \n",
       "2  Apr   2011-12 204  \n",
       "3  Apr   2012-13 205  \n",
       "4  Apr   2013-14 204  \n",
       "5  Apr   2014-15 208  \n",
       "6  Apr   2015-16 260  \n",
       "7  Aug   2010-11 194  \n",
       "8  Aug   2011-12 185  \n",
       "9  Aug   2012-13 233  \n",
       "10 Aug   2013-14 241  "
      ]
     },
     "metadata": {},
     "output_type": "display_data"
    },
    {
     "data": {
      "text/html": [
       "'# of Rows in Dataframe: 72'"
      ],
      "text/latex": [
       "'\\# of Rows in Dataframe: 72'"
      ],
      "text/markdown": [
       "'# of Rows in Dataframe: 72'"
      ],
      "text/plain": [
       "[1] \"# of Rows in Dataframe: 72\""
      ]
     },
     "metadata": {},
     "output_type": "display_data"
    },
    {
     "data": {
      "text/html": [
       "'Dataframe Size: 0 Mb'"
      ],
      "text/latex": [
       "'Dataframe Size: 0 Mb'"
      ],
      "text/markdown": [
       "'Dataframe Size: 0 Mb'"
      ],
      "text/plain": [
       "[1] \"Dataframe Size: 0 Mb\""
      ]
     },
     "metadata": {},
     "output_type": "display_data"
    }
   ],
   "source": [
    "# Returns the numeric hour component of a string formatted \"HH:MM\", e.g. \"09:40\" input returns 9\n",
    "get_month <- function(x) {\n",
    "    date <- as.Date(x, \"%b-%d-%Y\") #format the data to date\n",
    "    month <- format(date, \"%b\") # return the month\n",
    "    return (month)\n",
    "}\n",
    "\n",
    "df.flu.time <- df.flu.activity %>%\n",
    "                    mutate(month = sapply(weekend, get_month)) %>%\n",
    "                    group_by(month, season) %>% \n",
    "                    summarize(count = n())\n",
    "\n",
    "\n",
    "df.flu.time %>% head(10)\n",
    "sprintf(\"# of Rows in Dataframe: %s\", nrow(df.flu.time))\n",
    "sprintf(\"Dataframe Size: %s\", format(object.size(df.flu.time), units = \"MB\"))"
   ]
  },
  {
   "cell_type": "markdown",
   "metadata": {},
   "source": [
    "Reorder and format Factors."
   ]
  },
  {
   "cell_type": "code",
   "execution_count": 61,
   "metadata": {
    "collapsed": false
   },
   "outputs": [
    {
     "data": {
      "text/html": [
       "<table>\n",
       "<thead><tr><th scope=col>month</th><th scope=col>season</th><th scope=col>count</th></tr></thead>\n",
       "<tbody>\n",
       "\t<tr><td>Apr    </td><td>2010-11</td><td>256    </td></tr>\n",
       "\t<tr><td>Apr    </td><td>2011-12</td><td>204    </td></tr>\n",
       "\t<tr><td>Apr    </td><td>2012-13</td><td>205    </td></tr>\n",
       "\t<tr><td>Apr    </td><td>2013-14</td><td>204    </td></tr>\n",
       "\t<tr><td>Apr    </td><td>2014-15</td><td>208    </td></tr>\n",
       "\t<tr><td>Apr    </td><td>2015-16</td><td>260    </td></tr>\n",
       "\t<tr><td>Aug    </td><td>2010-11</td><td>194    </td></tr>\n",
       "\t<tr><td>Aug    </td><td>2011-12</td><td>185    </td></tr>\n",
       "\t<tr><td>Aug    </td><td>2012-13</td><td>233    </td></tr>\n",
       "\t<tr><td>Aug    </td><td>2013-14</td><td>241    </td></tr>\n",
       "</tbody>\n",
       "</table>\n"
      ],
      "text/latex": [
       "\\begin{tabular}{r|lll}\n",
       " month & season & count\\\\\n",
       "\\hline\n",
       "\t Apr     & 2010-11 & 256    \\\\\n",
       "\t Apr     & 2011-12 & 204    \\\\\n",
       "\t Apr     & 2012-13 & 205    \\\\\n",
       "\t Apr     & 2013-14 & 204    \\\\\n",
       "\t Apr     & 2014-15 & 208    \\\\\n",
       "\t Apr     & 2015-16 & 260    \\\\\n",
       "\t Aug     & 2010-11 & 194    \\\\\n",
       "\t Aug     & 2011-12 & 185    \\\\\n",
       "\t Aug     & 2012-13 & 233    \\\\\n",
       "\t Aug     & 2013-14 & 241    \\\\\n",
       "\\end{tabular}\n"
      ],
      "text/markdown": [
       "\n",
       "month | season | count | \n",
       "|---|---|---|---|---|---|---|---|---|---|\n",
       "| Apr     | 2010-11 | 256     | \n",
       "| Apr     | 2011-12 | 204     | \n",
       "| Apr     | 2012-13 | 205     | \n",
       "| Apr     | 2013-14 | 204     | \n",
       "| Apr     | 2014-15 | 208     | \n",
       "| Apr     | 2015-16 | 260     | \n",
       "| Aug     | 2010-11 | 194     | \n",
       "| Aug     | 2011-12 | 185     | \n",
       "| Aug     | 2012-13 | 233     | \n",
       "| Aug     | 2013-14 | 241     | \n",
       "\n",
       "\n"
      ],
      "text/plain": [
       "   month season  count\n",
       "1  Apr   2010-11 256  \n",
       "2  Apr   2011-12 204  \n",
       "3  Apr   2012-13 205  \n",
       "4  Apr   2013-14 204  \n",
       "5  Apr   2014-15 208  \n",
       "6  Apr   2015-16 260  \n",
       "7  Aug   2010-11 194  \n",
       "8  Aug   2011-12 185  \n",
       "9  Aug   2012-13 233  \n",
       "10 Aug   2013-14 241  "
      ]
     },
     "metadata": {},
     "output_type": "display_data"
    }
   ],
   "source": [
    "month_format <- c(\"Jan\",\"Feb\",\"Mar\",\"Apr\",\"May\",\"Jun\",\"Jul\",\"Aug\",\"Sep\",\"Oct\",\"Nov\",\"Dec\")\n",
    "season_format <- c(\"2010-11\",\"2011-12\",\"2012-13\",\"2013-14\",\"2014-15\",\"2015-16\")\n",
    "\n",
    "df.flu.time$month <- factor(df.flu.time$month, level = rev(month_format))\n",
    "df.flu.time$season <- factor(df.flu.time$season, level = rev(season_format))\n",
    "\n",
    "df.flu.time %>% head(10)"
   ]
  },
  {
   "cell_type": "code",
   "execution_count": 84,
   "metadata": {
    "collapsed": false
   },
   "outputs": [],
   "source": [
    "plot <- ggplot(df.flu.time, aes(x = month, y = season, fill = count)) +\n",
    "    geom_tile() +\n",
    "    fte_theme() +\n",
    "    theme(axis.text.x = element_text(angle = 90, vjust = 0.6),\n",
    "          legend.title = element_blank(), legend.position=\"top\", \n",
    "          legend.direction=\"horizontal\", legend.key.width=unit(2, \"cm\"), \n",
    "          legend.key.height=unit(0.25, \"cm\"), legend.margin=unit(0.1,\"cm\"), \n",
    "          panel.margin=element_blank()) +\n",
    "    labs(x = \"Season of ILI activity \", y = \"Month\", \n",
    "         title = \"# of ILI activity in U.S. from 2010 - 2015, by Season\") +\n",
    "    scale_fill_gradient(low = \"white\", high = \"#27AE60\", labels = comma)\n",
    "\n",
    "max_save(plot, \"US-ILI-when-2\", \"US CDC Fluview Data\", w=6)"
   ]
  },
  {
   "cell_type": "markdown",
   "metadata": {},
   "source": [
    "![title](US-ILI-when-2.png)"
   ]
  },
  {
   "cell_type": "markdown",
   "metadata": {},
   "source": [
    "## Factor by Activity level\n",
    "\n"
   ]
  },
  {
   "cell_type": "code",
   "execution_count": 86,
   "metadata": {
    "collapsed": false
   },
   "outputs": [
    {
     "data": {
      "text/html": [
       "<table>\n",
       "<thead><tr><th scope=col>activity_level_label</th><th scope=col>count</th></tr></thead>\n",
       "<tbody>\n",
       "\t<tr><td>Minimal </td><td>13422   </td></tr>\n",
       "\t<tr><td>Low     </td><td> 1007   </td></tr>\n",
       "\t<tr><td>High    </td><td>  861   </td></tr>\n",
       "\t<tr><td>Moderate</td><td>  588   </td></tr>\n",
       "</tbody>\n",
       "</table>\n"
      ],
      "text/latex": [
       "\\begin{tabular}{r|ll}\n",
       " activity\\_level\\_label & count\\\\\n",
       "\\hline\n",
       "\t Minimal  & 13422   \\\\\n",
       "\t Low      &  1007   \\\\\n",
       "\t High     &   861   \\\\\n",
       "\t Moderate &   588   \\\\\n",
       "\\end{tabular}\n"
      ],
      "text/markdown": [
       "\n",
       "activity_level_label | count | \n",
       "|---|---|---|---|\n",
       "| Minimal  | 13422    | \n",
       "| Low      |  1007    | \n",
       "| High     |   861    | \n",
       "| Moderate |   588    | \n",
       "\n",
       "\n"
      ],
      "text/plain": [
       "  activity_level_label count\n",
       "1 Minimal              13422\n",
       "2 Low                   1007\n",
       "3 High                   861\n",
       "4 Moderate               588"
      ]
     },
     "metadata": {},
     "output_type": "display_data"
    },
    {
     "data": {
      "text/html": [
       "'# of Rows in Dataframe: 4'"
      ],
      "text/latex": [
       "'\\# of Rows in Dataframe: 4'"
      ],
      "text/markdown": [
       "'# of Rows in Dataframe: 4'"
      ],
      "text/plain": [
       "[1] \"# of Rows in Dataframe: 4\""
      ]
     },
     "metadata": {},
     "output_type": "display_data"
    }
   ],
   "source": [
    "df.flu.type <- df.flu.activity %>%\n",
    "                    group_by(activity_level_label) %>% \n",
    "                    summarize(count = n()) %>%\n",
    "                    arrange(desc(count))\n",
    "\n",
    "df.flu.type %>% head(20)\n",
    "sprintf(\"# of Rows in Dataframe: %s\", nrow(df.flu.type))"
   ]
  },
  {
   "cell_type": "code",
   "execution_count": null,
   "metadata": {
    "collapsed": true
   },
   "outputs": [],
   "source": [
    " "
   ]
  }
 ],
 "metadata": {
  "kernelspec": {
   "display_name": "R",
   "language": "R",
   "name": "ir"
  },
  "language_info": {
   "codemirror_mode": "r",
   "file_extension": ".r",
   "mimetype": "text/x-r-source",
   "name": "R",
   "pygments_lexer": "r",
   "version": "3.2.3"
  }
 },
 "nbformat": 4,
 "nbformat_minor": 2
}
