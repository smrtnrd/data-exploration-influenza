{
 "cells": [
  {
   "cell_type": "markdown",
   "metadata": {},
   "source": [
    "# Analyzing When and Where Influenza outbreak Occur in U.S\n",
    "\n",
    "by Berthin Bitja"
   ]
  },
  {
   "cell_type": "code",
   "execution_count": 13,
   "metadata": {},
   "outputs": [
    {
     "name": "stderr",
     "output_type": "stream",
     "text": [
      "Google Maps API Terms of Service: http://developers.google.com/maps/terms.\n",
      "Please cite ggmap if you use it: see citation(\"ggmap\") for details.\n"
     ]
    },
    {
     "data": {
      "text/plain": [
       "R version 3.4.1 (2017-06-30)\n",
       "Platform: x86_64-apple-darwin13.4.0 (64-bit)\n",
       "Running under: macOS Sierra 10.12.6\n",
       "\n",
       "Matrix products: default\n",
       "BLAS: /System/Library/Frameworks/Accelerate.framework/Versions/A/Frameworks/vecLib.framework/Versions/A/libBLAS.dylib\n",
       "LAPACK: /System/Library/Frameworks/Accelerate.framework/Versions/A/Frameworks/vecLib.framework/Versions/A/libLAPACK.dylib\n",
       "\n",
       "locale:\n",
       "[1] en_CA.UTF-8/en_CA.UTF-8/en_CA.UTF-8/C/en_CA.UTF-8/en_CA.UTF-8\n",
       "\n",
       "attached base packages:\n",
       "[1] grid      stats     graphics  grDevices utils     datasets  methods  \n",
       "[8] base     \n",
       "\n",
       "other attached packages:\n",
       "[1] ggmap_2.7          extrafont_0.17     stringr_1.2.0      digest_0.6.12     \n",
       "[5] RColorBrewer_1.1-2 scales_0.4.1       ggplot2_2.2.1      dplyr_0.7.0       \n",
       "[9] readr_1.1.1       \n",
       "\n",
       "loaded via a namespace (and not attached):\n",
       " [1] Rcpp_0.12.11      compiler_3.4.1    plyr_1.8.4        bitops_1.0-6     \n",
       " [5] tools_3.4.1       uuid_0.1-2        lattice_0.20-35   jsonlite_1.5     \n",
       " [9] evaluate_0.10     tibble_1.3.3      gtable_0.2.0      png_0.1-8        \n",
       "[13] rlang_0.1.1       IRdisplay_0.4.4   mapproj_1.2-5     IRkernel_0.7.1   \n",
       "[17] proto_1.0.0.9000  Rttf2pt1_1.3.4    repr_0.10         maps_3.2.0       \n",
       "[21] RgoogleMaps_1.4.1 hms_0.3           glue_1.1.1        R6_2.2.1         \n",
       "[25] jpeg_0.1-8        sp_1.2-5          pbdZMQ_0.2-6      reshape2_1.4.2   \n",
       "[29] extrafontdb_1.0   magrittr_1.5      assertthat_0.2.0  colorspace_1.3-2 \n",
       "[33] geosphere_1.5-5   stringi_1.1.5     lazyeval_0.2.0    munsell_0.4.3    \n",
       "[37] rjson_0.2.15      crayon_1.3.2     "
      ]
     },
     "metadata": {},
     "output_type": "display_data"
    }
   ],
   "source": [
    "options(warn = -1) #ignore warnings\n",
    "\n",
    "# IMPORTANT: This assumes that all packages in \"Rstart.R\" are installed,\n",
    "# and the fonts \"Source Sans Pro\" and \"Open Sans Condensed Bold\" are installed\n",
    "# via extrafont. If ggplot2 charts fail to render, you may need to change/remove the theme call.\n",
    "\n",
    "\n",
    "source(\"Rstart.R\")\n",
    "library(ggmap)\n",
    "\n",
    "\n",
    "sessionInfo()"
   ]
  },
  {
   "cell_type": "markdown",
   "metadata": {
    "collapsed": true
   },
   "source": [
    "# Processing the Data\n",
    "We load the data using readr and read_csv() since it's faster. Since there is a lot of redundant data (e.g. address, coordinates), we only load the columns we need.da"
   ]
  },
  {
   "cell_type": "code",
   "execution_count": 14,
   "metadata": {},
   "outputs": [
    {
     "name": "stderr",
     "output_type": "stream",
     "text": [
      "Parsed with column specification:\n",
      "cols(\n",
      "  STATENAME = col_character(),\n",
      "  URL = col_character(),\n",
      "  WEBSITE = col_character(),\n",
      "  ACTIVITYESTIMATE = col_character(),\n",
      "  WEEKEND = col_character(),\n",
      "  WEEK = col_integer(),\n",
      "  SEASON = col_character()\n",
      ")\n"
     ]
    }
   ],
   "source": [
    "path <- \"data/FluViewPhase8_Season55_Data.csv\"\n",
    "\n",
    "df <- read_csv(path)"
   ]
  },
  {
   "cell_type": "code",
   "execution_count": 16,
   "metadata": {},
   "outputs": [
    {
     "data": {
      "text/html": [
       "<table>\n",
       "<thead><tr><th scope=col>STATENAME</th><th scope=col>URL</th><th scope=col>WEBSITE</th><th scope=col>ACTIVITYESTIMATE</th><th scope=col>WEEKEND</th><th scope=col>WEEK</th><th scope=col>SEASON</th></tr></thead>\n",
       "<tbody>\n",
       "\t<tr><td>Alabama                   </td><td>http://adph.org/influenza/</td><td>Influenza Surveillance    </td><td>No Activity               </td><td>Oct-10-2015               </td><td>40                        </td><td>2015-16                   </td></tr>\n",
       "\t<tr><td>Alabama                   </td><td>http://adph.org/influenza/</td><td>Influenza Surveillance    </td><td>No Activity               </td><td>Oct-17-2015               </td><td>41                        </td><td>2015-16                   </td></tr>\n",
       "\t<tr><td>Alabama                   </td><td>http://adph.org/influenza/</td><td>Influenza Surveillance    </td><td>Local Activity            </td><td>Oct-24-2015               </td><td>42                        </td><td>2015-16                   </td></tr>\n",
       "\t<tr><td>Alabama                   </td><td>http://adph.org/influenza/</td><td>Influenza Surveillance    </td><td>Sporadic                  </td><td>Oct-31-2015               </td><td>43                        </td><td>2015-16                   </td></tr>\n",
       "\t<tr><td>Alabama                   </td><td>http://adph.org/influenza/</td><td>Influenza Surveillance    </td><td>Sporadic                  </td><td>Nov-07-2015               </td><td>44                        </td><td>2015-16                   </td></tr>\n",
       "\t<tr><td>Alabama                   </td><td>http://adph.org/influenza/</td><td>Influenza Surveillance    </td><td>No Activity               </td><td>Nov-14-2015               </td><td>45                        </td><td>2015-16                   </td></tr>\n",
       "\t<tr><td>Alabama                   </td><td>http://adph.org/influenza/</td><td>Influenza Surveillance    </td><td>No Activity               </td><td>Nov-21-2015               </td><td>46                        </td><td>2015-16                   </td></tr>\n",
       "\t<tr><td>Alabama                   </td><td>http://adph.org/influenza/</td><td>Influenza Surveillance    </td><td>No Activity               </td><td>Nov-28-2015               </td><td>47                        </td><td>2015-16                   </td></tr>\n",
       "\t<tr><td>Alabama                   </td><td>http://adph.org/influenza/</td><td>Influenza Surveillance    </td><td>No Activity               </td><td>Dec-05-2015               </td><td>48                        </td><td>2015-16                   </td></tr>\n",
       "\t<tr><td>Alabama                   </td><td>http://adph.org/influenza/</td><td>Influenza Surveillance    </td><td>Local Activity            </td><td>Dec-12-2015               </td><td>49                        </td><td>2015-16                   </td></tr>\n",
       "</tbody>\n",
       "</table>\n"
      ],
      "text/latex": [
       "\\begin{tabular}{r|lllllll}\n",
       " STATENAME & URL & WEBSITE & ACTIVITYESTIMATE & WEEKEND & WEEK & SEASON\\\\\n",
       "\\hline\n",
       "\t Alabama                    & http://adph.org/influenza/ & Influenza Surveillance     & No Activity                & Oct-10-2015                & 40                         & 2015-16                   \\\\\n",
       "\t Alabama                    & http://adph.org/influenza/ & Influenza Surveillance     & No Activity                & Oct-17-2015                & 41                         & 2015-16                   \\\\\n",
       "\t Alabama                    & http://adph.org/influenza/ & Influenza Surveillance     & Local Activity             & Oct-24-2015                & 42                         & 2015-16                   \\\\\n",
       "\t Alabama                    & http://adph.org/influenza/ & Influenza Surveillance     & Sporadic                   & Oct-31-2015                & 43                         & 2015-16                   \\\\\n",
       "\t Alabama                    & http://adph.org/influenza/ & Influenza Surveillance     & Sporadic                   & Nov-07-2015                & 44                         & 2015-16                   \\\\\n",
       "\t Alabama                    & http://adph.org/influenza/ & Influenza Surveillance     & No Activity                & Nov-14-2015                & 45                         & 2015-16                   \\\\\n",
       "\t Alabama                    & http://adph.org/influenza/ & Influenza Surveillance     & No Activity                & Nov-21-2015                & 46                         & 2015-16                   \\\\\n",
       "\t Alabama                    & http://adph.org/influenza/ & Influenza Surveillance     & No Activity                & Nov-28-2015                & 47                         & 2015-16                   \\\\\n",
       "\t Alabama                    & http://adph.org/influenza/ & Influenza Surveillance     & No Activity                & Dec-05-2015                & 48                         & 2015-16                   \\\\\n",
       "\t Alabama                    & http://adph.org/influenza/ & Influenza Surveillance     & Local Activity             & Dec-12-2015                & 49                         & 2015-16                   \\\\\n",
       "\\end{tabular}\n"
      ],
      "text/markdown": [
       "\n",
       "STATENAME | URL | WEBSITE | ACTIVITYESTIMATE | WEEKEND | WEEK | SEASON | \n",
       "|---|---|---|---|---|---|---|---|---|---|\n",
       "| Alabama                    | http://adph.org/influenza/ | Influenza Surveillance     | No Activity                | Oct-10-2015                | 40                         | 2015-16                    | \n",
       "| Alabama                    | http://adph.org/influenza/ | Influenza Surveillance     | No Activity                | Oct-17-2015                | 41                         | 2015-16                    | \n",
       "| Alabama                    | http://adph.org/influenza/ | Influenza Surveillance     | Local Activity             | Oct-24-2015                | 42                         | 2015-16                    | \n",
       "| Alabama                    | http://adph.org/influenza/ | Influenza Surveillance     | Sporadic                   | Oct-31-2015                | 43                         | 2015-16                    | \n",
       "| Alabama                    | http://adph.org/influenza/ | Influenza Surveillance     | Sporadic                   | Nov-07-2015                | 44                         | 2015-16                    | \n",
       "| Alabama                    | http://adph.org/influenza/ | Influenza Surveillance     | No Activity                | Nov-14-2015                | 45                         | 2015-16                    | \n",
       "| Alabama                    | http://adph.org/influenza/ | Influenza Surveillance     | No Activity                | Nov-21-2015                | 46                         | 2015-16                    | \n",
       "| Alabama                    | http://adph.org/influenza/ | Influenza Surveillance     | No Activity                | Nov-28-2015                | 47                         | 2015-16                    | \n",
       "| Alabama                    | http://adph.org/influenza/ | Influenza Surveillance     | No Activity                | Dec-05-2015                | 48                         | 2015-16                    | \n",
       "| Alabama                    | http://adph.org/influenza/ | Influenza Surveillance     | Local Activity             | Dec-12-2015                | 49                         | 2015-16                    | \n",
       "\n",
       "\n"
      ],
      "text/plain": [
       "   STATENAME URL                        WEBSITE                ACTIVITYESTIMATE\n",
       "1  Alabama   http://adph.org/influenza/ Influenza Surveillance No Activity     \n",
       "2  Alabama   http://adph.org/influenza/ Influenza Surveillance No Activity     \n",
       "3  Alabama   http://adph.org/influenza/ Influenza Surveillance Local Activity  \n",
       "4  Alabama   http://adph.org/influenza/ Influenza Surveillance Sporadic        \n",
       "5  Alabama   http://adph.org/influenza/ Influenza Surveillance Sporadic        \n",
       "6  Alabama   http://adph.org/influenza/ Influenza Surveillance No Activity     \n",
       "7  Alabama   http://adph.org/influenza/ Influenza Surveillance No Activity     \n",
       "8  Alabama   http://adph.org/influenza/ Influenza Surveillance No Activity     \n",
       "9  Alabama   http://adph.org/influenza/ Influenza Surveillance No Activity     \n",
       "10 Alabama   http://adph.org/influenza/ Influenza Surveillance Local Activity  \n",
       "   WEEKEND     WEEK SEASON \n",
       "1  Oct-10-2015 40   2015-16\n",
       "2  Oct-17-2015 41   2015-16\n",
       "3  Oct-24-2015 42   2015-16\n",
       "4  Oct-31-2015 43   2015-16\n",
       "5  Nov-07-2015 44   2015-16\n",
       "6  Nov-14-2015 45   2015-16\n",
       "7  Nov-21-2015 46   2015-16\n",
       "8  Nov-28-2015 47   2015-16\n",
       "9  Dec-05-2015 48   2015-16\n",
       "10 Dec-12-2015 49   2015-16"
      ]
     },
     "metadata": {},
     "output_type": "display_data"
    },
    {
     "data": {
      "text/html": [
       "'# of Rows in Dataframe: 1778'"
      ],
      "text/latex": [
       "'\\# of Rows in Dataframe: 1778'"
      ],
      "text/markdown": [
       "'# of Rows in Dataframe: 1778'"
      ],
      "text/plain": [
       "[1] \"# of Rows in Dataframe: 1778\""
      ]
     },
     "metadata": {},
     "output_type": "display_data"
    },
    {
     "data": {
      "text/html": [
       "'Dataframe Size: 0.1 Mb'"
      ],
      "text/latex": [
       "'Dataframe Size: 0.1 Mb'"
      ],
      "text/markdown": [
       "'Dataframe Size: 0.1 Mb'"
      ],
      "text/plain": [
       "[1] \"Dataframe Size: 0.1 Mb\""
      ]
     },
     "metadata": {},
     "output_type": "display_data"
    }
   ],
   "source": [
    "#display the data \n",
    "df %>% head(10)\n",
    "sprintf(\"# of Rows in Dataframe: %s\", nrow(df))\n",
    "sprintf(\"Dataframe Size: %s\", format(object.size(df), units = \"MB\"))"
   ]
  },
  {
   "cell_type": "code",
   "execution_count": 20,
   "metadata": {},
   "outputs": [
    {
     "data": {
      "text/html": [
       "<table>\n",
       "<thead><tr><th scope=col>STATENAME</th><th scope=col>ACTIVITYESTIMATE</th><th scope=col>WEEKEND</th><th scope=col>WEEK</th></tr></thead>\n",
       "<tbody>\n",
       "\t<tr><td>Alabama       </td><td>No Activity   </td><td>Oct-10-2015   </td><td>40            </td></tr>\n",
       "\t<tr><td>Alabama       </td><td>No Activity   </td><td>Oct-17-2015   </td><td>41            </td></tr>\n",
       "\t<tr><td>Alabama       </td><td>Local Activity</td><td>Oct-24-2015   </td><td>42            </td></tr>\n",
       "\t<tr><td>Alabama       </td><td>Sporadic      </td><td>Oct-31-2015   </td><td>43            </td></tr>\n",
       "\t<tr><td>Alabama       </td><td>Sporadic      </td><td>Nov-07-2015   </td><td>44            </td></tr>\n",
       "\t<tr><td>Alabama       </td><td>No Activity   </td><td>Nov-14-2015   </td><td>45            </td></tr>\n",
       "\t<tr><td>Alabama       </td><td>No Activity   </td><td>Nov-21-2015   </td><td>46            </td></tr>\n",
       "\t<tr><td>Alabama       </td><td>No Activity   </td><td>Nov-28-2015   </td><td>47            </td></tr>\n",
       "\t<tr><td>Alabama       </td><td>No Activity   </td><td>Dec-05-2015   </td><td>48            </td></tr>\n",
       "\t<tr><td>Alabama       </td><td>Local Activity</td><td>Dec-12-2015   </td><td>49            </td></tr>\n",
       "</tbody>\n",
       "</table>\n"
      ],
      "text/latex": [
       "\\begin{tabular}{r|llll}\n",
       " STATENAME & ACTIVITYESTIMATE & WEEKEND & WEEK\\\\\n",
       "\\hline\n",
       "\t Alabama        & No Activity    & Oct-10-2015    & 40            \\\\\n",
       "\t Alabama        & No Activity    & Oct-17-2015    & 41            \\\\\n",
       "\t Alabama        & Local Activity & Oct-24-2015    & 42            \\\\\n",
       "\t Alabama        & Sporadic       & Oct-31-2015    & 43            \\\\\n",
       "\t Alabama        & Sporadic       & Nov-07-2015    & 44            \\\\\n",
       "\t Alabama        & No Activity    & Nov-14-2015    & 45            \\\\\n",
       "\t Alabama        & No Activity    & Nov-21-2015    & 46            \\\\\n",
       "\t Alabama        & No Activity    & Nov-28-2015    & 47            \\\\\n",
       "\t Alabama        & No Activity    & Dec-05-2015    & 48            \\\\\n",
       "\t Alabama        & Local Activity & Dec-12-2015    & 49            \\\\\n",
       "\\end{tabular}\n"
      ],
      "text/markdown": [
       "\n",
       "STATENAME | ACTIVITYESTIMATE | WEEKEND | WEEK | \n",
       "|---|---|---|---|---|---|---|---|---|---|\n",
       "| Alabama        | No Activity    | Oct-10-2015    | 40             | \n",
       "| Alabama        | No Activity    | Oct-17-2015    | 41             | \n",
       "| Alabama        | Local Activity | Oct-24-2015    | 42             | \n",
       "| Alabama        | Sporadic       | Oct-31-2015    | 43             | \n",
       "| Alabama        | Sporadic       | Nov-07-2015    | 44             | \n",
       "| Alabama        | No Activity    | Nov-14-2015    | 45             | \n",
       "| Alabama        | No Activity    | Nov-21-2015    | 46             | \n",
       "| Alabama        | No Activity    | Nov-28-2015    | 47             | \n",
       "| Alabama        | No Activity    | Dec-05-2015    | 48             | \n",
       "| Alabama        | Local Activity | Dec-12-2015    | 49             | \n",
       "\n",
       "\n"
      ],
      "text/plain": [
       "   STATENAME ACTIVITYESTIMATE WEEKEND     WEEK\n",
       "1  Alabama   No Activity      Oct-10-2015 40  \n",
       "2  Alabama   No Activity      Oct-17-2015 41  \n",
       "3  Alabama   Local Activity   Oct-24-2015 42  \n",
       "4  Alabama   Sporadic         Oct-31-2015 43  \n",
       "5  Alabama   Sporadic         Nov-07-2015 44  \n",
       "6  Alabama   No Activity      Nov-14-2015 45  \n",
       "7  Alabama   No Activity      Nov-21-2015 46  \n",
       "8  Alabama   No Activity      Nov-28-2015 47  \n",
       "9  Alabama   No Activity      Dec-05-2015 48  \n",
       "10 Alabama   Local Activity   Dec-12-2015 49  "
      ]
     },
     "metadata": {},
     "output_type": "display_data"
    },
    {
     "data": {
      "text/html": [
       "'# of Rows in Dataframe: 1778'"
      ],
      "text/latex": [
       "'\\# of Rows in Dataframe: 1778'"
      ],
      "text/markdown": [
       "'# of Rows in Dataframe: 1778'"
      ],
      "text/plain": [
       "[1] \"# of Rows in Dataframe: 1778\""
      ]
     },
     "metadata": {},
     "output_type": "display_data"
    },
    {
     "data": {
      "text/html": [
       "'Dataframe Size: 0.1 Mb'"
      ],
      "text/latex": [
       "'Dataframe Size: 0.1 Mb'"
      ],
      "text/markdown": [
       "'Dataframe Size: 0.1 Mb'"
      ],
      "text/plain": [
       "[1] \"Dataframe Size: 0.1 Mb\""
      ]
     },
     "metadata": {},
     "output_type": "display_data"
    }
   ],
   "source": [
    "columns = c(\"STATENAME\",\"ACTIVITYESTIMATE\",\"WEEKEND\",\"WEEK\")\n",
    "\n",
    "# select() require column indices that we find trough which() \n",
    "\n",
    "df <- df %>% select(which(names(df) %in% columns))\n",
    "\n",
    "df %>% head(10)\n",
    "sprintf(\"# of Rows in Dataframe: %s\", nrow(df))\n",
    "sprintf(\"Dataframe Size: %s\", format(object.size(df), units = \"MB\"))"
   ]
  },
  {
   "cell_type": "markdown",
   "metadata": {},
   "source": [
    "All-Caps to proper case. (see this [Stack Overflow question](http://stackoverflow.com/questions/15776732/how-to-convert-a-vector-of-strings-to-title-case))"
   ]
  },
  {
   "cell_type": "code",
   "execution_count": 21,
   "metadata": {},
   "outputs": [
    {
     "data": {
      "text/html": [
       "<table>\n",
       "<thead><tr><th scope=col>STATENAME</th><th scope=col>ACTIVITYESTIMATE</th><th scope=col>WEEKEND</th><th scope=col>WEEK</th></tr></thead>\n",
       "<tbody>\n",
       "\t<tr><td>Alabama       </td><td>No Activity   </td><td>Oct-10-2015   </td><td>40            </td></tr>\n",
       "\t<tr><td>Alabama       </td><td>No Activity   </td><td>Oct-17-2015   </td><td>41            </td></tr>\n",
       "\t<tr><td>Alabama       </td><td>Local Activity</td><td>Oct-24-2015   </td><td>42            </td></tr>\n",
       "\t<tr><td>Alabama       </td><td>Sporadic      </td><td>Oct-31-2015   </td><td>43            </td></tr>\n",
       "\t<tr><td>Alabama       </td><td>Sporadic      </td><td>Nov-07-2015   </td><td>44            </td></tr>\n",
       "\t<tr><td>Alabama       </td><td>No Activity   </td><td>Nov-14-2015   </td><td>45            </td></tr>\n",
       "\t<tr><td>Alabama       </td><td>No Activity   </td><td>Nov-21-2015   </td><td>46            </td></tr>\n",
       "\t<tr><td>Alabama       </td><td>No Activity   </td><td>Nov-28-2015   </td><td>47            </td></tr>\n",
       "\t<tr><td>Alabama       </td><td>No Activity   </td><td>Dec-05-2015   </td><td>48            </td></tr>\n",
       "\t<tr><td>Alabama       </td><td>Local Activity</td><td>Dec-12-2015   </td><td>49            </td></tr>\n",
       "</tbody>\n",
       "</table>\n"
      ],
      "text/latex": [
       "\\begin{tabular}{r|llll}\n",
       " STATENAME & ACTIVITYESTIMATE & WEEKEND & WEEK\\\\\n",
       "\\hline\n",
       "\t Alabama        & No Activity    & Oct-10-2015    & 40            \\\\\n",
       "\t Alabama        & No Activity    & Oct-17-2015    & 41            \\\\\n",
       "\t Alabama        & Local Activity & Oct-24-2015    & 42            \\\\\n",
       "\t Alabama        & Sporadic       & Oct-31-2015    & 43            \\\\\n",
       "\t Alabama        & Sporadic       & Nov-07-2015    & 44            \\\\\n",
       "\t Alabama        & No Activity    & Nov-14-2015    & 45            \\\\\n",
       "\t Alabama        & No Activity    & Nov-21-2015    & 46            \\\\\n",
       "\t Alabama        & No Activity    & Nov-28-2015    & 47            \\\\\n",
       "\t Alabama        & No Activity    & Dec-05-2015    & 48            \\\\\n",
       "\t Alabama        & Local Activity & Dec-12-2015    & 49            \\\\\n",
       "\\end{tabular}\n"
      ],
      "text/markdown": [
       "\n",
       "STATENAME | ACTIVITYESTIMATE | WEEKEND | WEEK | \n",
       "|---|---|---|---|---|---|---|---|---|---|\n",
       "| Alabama        | No Activity    | Oct-10-2015    | 40             | \n",
       "| Alabama        | No Activity    | Oct-17-2015    | 41             | \n",
       "| Alabama        | Local Activity | Oct-24-2015    | 42             | \n",
       "| Alabama        | Sporadic       | Oct-31-2015    | 43             | \n",
       "| Alabama        | Sporadic       | Nov-07-2015    | 44             | \n",
       "| Alabama        | No Activity    | Nov-14-2015    | 45             | \n",
       "| Alabama        | No Activity    | Nov-21-2015    | 46             | \n",
       "| Alabama        | No Activity    | Nov-28-2015    | 47             | \n",
       "| Alabama        | No Activity    | Dec-05-2015    | 48             | \n",
       "| Alabama        | Local Activity | Dec-12-2015    | 49             | \n",
       "\n",
       "\n"
      ],
      "text/plain": [
       "   STATENAME ACTIVITYESTIMATE WEEKEND     WEEK\n",
       "1  Alabama   No Activity      Oct-10-2015 40  \n",
       "2  Alabama   No Activity      Oct-17-2015 41  \n",
       "3  Alabama   Local Activity   Oct-24-2015 42  \n",
       "4  Alabama   Sporadic         Oct-31-2015 43  \n",
       "5  Alabama   Sporadic         Nov-07-2015 44  \n",
       "6  Alabama   No Activity      Nov-14-2015 45  \n",
       "7  Alabama   No Activity      Nov-21-2015 46  \n",
       "8  Alabama   No Activity      Nov-28-2015 47  \n",
       "9  Alabama   No Activity      Dec-05-2015 48  \n",
       "10 Alabama   Local Activity   Dec-12-2015 49  "
      ]
     },
     "metadata": {},
     "output_type": "display_data"
    }
   ],
   "source": [
    "proper_case <- function(x) {\n",
    "    return (gsub(\"\\\\b([A-Z])([A-Z]+)\", \"\\\\U\\\\1\\\\L\\\\2\" , x, perl = TRUE))\n",
    "}\n",
    "\n",
    "df <- df %>% mutate(STATENAME = proper_case(STATENAME),\n",
    "                 ACTIVITYESTIMATE = proper_case(ACTIVITYESTIMATE),\n",
    "                 WEEKEND = proper_case(WEEKEND))\n",
    "\n",
    "df %>% head(10)"
   ]
  },
  {
   "cell_type": "markdown",
   "metadata": {},
   "source": [
    "# Filtering the data\n",
    "\n",
    "let's file the data frame by \"Local Activity\" to aggregate some interesting statistics"
   ]
  },
  {
   "cell_type": "code",
   "execution_count": 22,
   "metadata": {},
   "outputs": [
    {
     "data": {
      "text/html": [
       "<table>\n",
       "<thead><tr><th scope=col>STATENAME</th><th scope=col>ACTIVITYESTIMATE</th><th scope=col>WEEKEND</th><th scope=col>WEEK</th></tr></thead>\n",
       "<tbody>\n",
       "\t<tr><td>Alabama       </td><td>Local Activity</td><td>Oct-24-2015   </td><td>42            </td></tr>\n",
       "\t<tr><td>Alabama       </td><td>Local Activity</td><td>Dec-12-2015   </td><td>49            </td></tr>\n",
       "\t<tr><td>Alabama       </td><td>Local Activity</td><td>Dec-19-2015   </td><td>50            </td></tr>\n",
       "\t<tr><td>Alabama       </td><td>Local Activity</td><td>Jan-30-2016   </td><td> 4            </td></tr>\n",
       "\t<tr><td>Alabama       </td><td>Local Activity</td><td>Feb-06-2016   </td><td> 5            </td></tr>\n",
       "\t<tr><td>Alabama       </td><td>Local Activity</td><td>Feb-13-2016   </td><td> 6            </td></tr>\n",
       "\t<tr><td>Alabama       </td><td>Local Activity</td><td>Mar-26-2016   </td><td>12            </td></tr>\n",
       "\t<tr><td>Alabama       </td><td>Local Activity</td><td>Apr-09-2016   </td><td>14            </td></tr>\n",
       "\t<tr><td>Alabama       </td><td>Local Activity</td><td>Apr-16-2016   </td><td>15            </td></tr>\n",
       "\t<tr><td>Alabama       </td><td>Local Activity</td><td>May-14-2016   </td><td>19            </td></tr>\n",
       "</tbody>\n",
       "</table>\n"
      ],
      "text/latex": [
       "\\begin{tabular}{r|llll}\n",
       " STATENAME & ACTIVITYESTIMATE & WEEKEND & WEEK\\\\\n",
       "\\hline\n",
       "\t Alabama        & Local Activity & Oct-24-2015    & 42            \\\\\n",
       "\t Alabama        & Local Activity & Dec-12-2015    & 49            \\\\\n",
       "\t Alabama        & Local Activity & Dec-19-2015    & 50            \\\\\n",
       "\t Alabama        & Local Activity & Jan-30-2016    &  4            \\\\\n",
       "\t Alabama        & Local Activity & Feb-06-2016    &  5            \\\\\n",
       "\t Alabama        & Local Activity & Feb-13-2016    &  6            \\\\\n",
       "\t Alabama        & Local Activity & Mar-26-2016    & 12            \\\\\n",
       "\t Alabama        & Local Activity & Apr-09-2016    & 14            \\\\\n",
       "\t Alabama        & Local Activity & Apr-16-2016    & 15            \\\\\n",
       "\t Alabama        & Local Activity & May-14-2016    & 19            \\\\\n",
       "\\end{tabular}\n"
      ],
      "text/markdown": [
       "\n",
       "STATENAME | ACTIVITYESTIMATE | WEEKEND | WEEK | \n",
       "|---|---|---|---|---|---|---|---|---|---|\n",
       "| Alabama        | Local Activity | Oct-24-2015    | 42             | \n",
       "| Alabama        | Local Activity | Dec-12-2015    | 49             | \n",
       "| Alabama        | Local Activity | Dec-19-2015    | 50             | \n",
       "| Alabama        | Local Activity | Jan-30-2016    |  4             | \n",
       "| Alabama        | Local Activity | Feb-06-2016    |  5             | \n",
       "| Alabama        | Local Activity | Feb-13-2016    |  6             | \n",
       "| Alabama        | Local Activity | Mar-26-2016    | 12             | \n",
       "| Alabama        | Local Activity | Apr-09-2016    | 14             | \n",
       "| Alabama        | Local Activity | Apr-16-2016    | 15             | \n",
       "| Alabama        | Local Activity | May-14-2016    | 19             | \n",
       "\n",
       "\n"
      ],
      "text/plain": [
       "   STATENAME ACTIVITYESTIMATE WEEKEND     WEEK\n",
       "1  Alabama   Local Activity   Oct-24-2015 42  \n",
       "2  Alabama   Local Activity   Dec-12-2015 49  \n",
       "3  Alabama   Local Activity   Dec-19-2015 50  \n",
       "4  Alabama   Local Activity   Jan-30-2016  4  \n",
       "5  Alabama   Local Activity   Feb-06-2016  5  \n",
       "6  Alabama   Local Activity   Feb-13-2016  6  \n",
       "7  Alabama   Local Activity   Mar-26-2016 12  \n",
       "8  Alabama   Local Activity   Apr-09-2016 14  \n",
       "9  Alabama   Local Activity   Apr-16-2016 15  \n",
       "10 Alabama   Local Activity   May-14-2016 19  "
      ]
     },
     "metadata": {},
     "output_type": "display_data"
    },
    {
     "data": {
      "text/html": [
       "'# of Rows in Dataframe: 321'"
      ],
      "text/latex": [
       "'\\# of Rows in Dataframe: 321'"
      ],
      "text/markdown": [
       "'# of Rows in Dataframe: 321'"
      ],
      "text/plain": [
       "[1] \"# of Rows in Dataframe: 321\""
      ]
     },
     "metadata": {},
     "output_type": "display_data"
    },
    {
     "data": {
      "text/html": [
       "'Dataframe Size: 0 Mb'"
      ],
      "text/latex": [
       "'Dataframe Size: 0 Mb'"
      ],
      "text/markdown": [
       "'Dataframe Size: 0 Mb'"
      ],
      "text/plain": [
       "[1] \"Dataframe Size: 0 Mb\""
      ]
     },
     "metadata": {},
     "output_type": "display_data"
    }
   ],
   "source": [
    "# grepl() is the best way to do in-text search\n",
    "df_arrest <- df %>% filter(grepl(\"Local Activity\", ACTIVITYESTIMATE))\n",
    "\n",
    "df_arrest %>% head(10)\n",
    "sprintf(\"# of Rows in Dataframe: %s\", nrow(df_arrest))\n",
    "sprintf(\"Dataframe Size: %s\", format(object.size(df_arrest), units = \"MB\"))"
   ]
  },
  {
   "cell_type": "code",
   "execution_count": 25,
   "metadata": {},
   "outputs": [
    {
     "data": {
      "text/html": [
       "<table>\n",
       "<thead><tr><th scope=col>WEEKEND</th><th scope=col>count</th></tr></thead>\n",
       "<tbody>\n",
       "\t<tr><td>Apr-02-2016</td><td> 5         </td></tr>\n",
       "\t<tr><td>Apr-09-2016</td><td>11         </td></tr>\n",
       "\t<tr><td>Apr-16-2016</td><td>14         </td></tr>\n",
       "\t<tr><td>Apr-23-2016</td><td>14         </td></tr>\n",
       "\t<tr><td>Apr-30-2016</td><td>18         </td></tr>\n",
       "\t<tr><td>Dec-05-2015</td><td>10         </td></tr>\n",
       "\t<tr><td>Dec-12-2015</td><td>12         </td></tr>\n",
       "\t<tr><td>Dec-19-2015</td><td>15         </td></tr>\n",
       "\t<tr><td>Dec-26-2015</td><td>12         </td></tr>\n",
       "\t<tr><td>Feb-06-2016</td><td>16         </td></tr>\n",
       "</tbody>\n",
       "</table>\n"
      ],
      "text/latex": [
       "\\begin{tabular}{r|ll}\n",
       " WEEKEND & count\\\\\n",
       "\\hline\n",
       "\t Apr-02-2016 &  5         \\\\\n",
       "\t Apr-09-2016 & 11         \\\\\n",
       "\t Apr-16-2016 & 14         \\\\\n",
       "\t Apr-23-2016 & 14         \\\\\n",
       "\t Apr-30-2016 & 18         \\\\\n",
       "\t Dec-05-2015 & 10         \\\\\n",
       "\t Dec-12-2015 & 12         \\\\\n",
       "\t Dec-19-2015 & 15         \\\\\n",
       "\t Dec-26-2015 & 12         \\\\\n",
       "\t Feb-06-2016 & 16         \\\\\n",
       "\\end{tabular}\n"
      ],
      "text/markdown": [
       "\n",
       "WEEKEND | count | \n",
       "|---|---|---|---|---|---|---|---|---|---|\n",
       "| Apr-02-2016 |  5          | \n",
       "| Apr-09-2016 | 11          | \n",
       "| Apr-16-2016 | 14          | \n",
       "| Apr-23-2016 | 14          | \n",
       "| Apr-30-2016 | 18          | \n",
       "| Dec-05-2015 | 10          | \n",
       "| Dec-12-2015 | 12          | \n",
       "| Dec-19-2015 | 15          | \n",
       "| Dec-26-2015 | 12          | \n",
       "| Feb-06-2016 | 16          | \n",
       "\n",
       "\n"
      ],
      "text/plain": [
       "   WEEKEND     count\n",
       "1  Apr-02-2016  5   \n",
       "2  Apr-09-2016 11   \n",
       "3  Apr-16-2016 14   \n",
       "4  Apr-23-2016 14   \n",
       "5  Apr-30-2016 18   \n",
       "6  Dec-05-2015 10   \n",
       "7  Dec-12-2015 12   \n",
       "8  Dec-19-2015 15   \n",
       "9  Dec-26-2015 12   \n",
       "10 Feb-06-2016 16   "
      ]
     },
     "metadata": {},
     "output_type": "display_data"
    }
   ],
   "source": [
    "df_arrest_daily <-df_arrest %>%\n",
    "                    mutate(Date = as.Date(WEEKEND, \"%m/%d/%Y\")) %>%\n",
    "                    group_by(WEEKEND) %>%\n",
    "                    summarize(count = n()) %>%\n",
    "                    arrange(WEEKEND)\n",
    "\n",
    "df_arrest_daily %>% head(10)"
   ]
  },
  {
   "cell_type": "code",
   "execution_count": null,
   "metadata": {
    "collapsed": true
   },
   "outputs": [],
   "source": []
  }
 ],
 "metadata": {
  "kernelspec": {
   "display_name": "R",
   "language": "R",
   "name": "ir"
  },
  "language_info": {
   "codemirror_mode": "r",
   "file_extension": ".r",
   "mimetype": "text/x-r-source",
   "name": "R",
   "pygments_lexer": "r",
   "version": "3.4.1"
  }
 },
 "nbformat": 4,
 "nbformat_minor": 2
}
