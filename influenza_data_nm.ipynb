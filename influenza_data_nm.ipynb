{
 "cells": [
  {
   "cell_type": "markdown",
   "metadata": {},
   "source": [
    "# Analyzing When and Where Influenza outbreak Occur in U.S\n",
    "\n",
    "\n",
    "by Berthin Bitja\n",
    "\n",
    "Note :\n",
    "[How to install Homebrew on OS X?](https://stackoverflow.com/questions/20381128/how-to-install-homebrew-on-os-x)\n",
    "[Old version X-code](https://stackoverflow.com/questions/10335747/how-to-download-xcode-dmg-or-xip-file)"
   ]
  },
  {
   "cell_type": "code",
   "execution_count": 2,
   "metadata": {},
   "outputs": [
    {
     "name": "stderr",
     "output_type": "stream",
     "text": [
      "\n",
      "Attaching package: ‘dplyr’\n",
      "\n",
      "The following objects are masked from ‘package:stats’:\n",
      "\n",
      "    filter, lag\n",
      "\n",
      "The following objects are masked from ‘package:base’:\n",
      "\n",
      "    intersect, setdiff, setequal, union\n",
      "\n",
      "Registering fonts with R\n",
      "\n",
      "Attaching package: ‘scales’\n",
      "\n",
      "The following object is masked from ‘package:readr’:\n",
      "\n",
      "    col_factor\n",
      "\n",
      "Google Maps API Terms of Service: http://developers.google.com/maps/terms.\n",
      "Please cite ggmap if you use it: see citation(\"ggmap\") for details.\n"
     ]
    },
    {
     "data": {
      "text/plain": [
       "R version 3.4.1 (2017-06-30)\n",
       "Platform: x86_64-apple-darwin13.4.0 (64-bit)\n",
       "Running under: macOS Sierra 10.12.6\n",
       "\n",
       "Matrix products: default\n",
       "BLAS: /System/Library/Frameworks/Accelerate.framework/Versions/A/Frameworks/vecLib.framework/Versions/A/libBLAS.dylib\n",
       "LAPACK: /System/Library/Frameworks/Accelerate.framework/Versions/A/Frameworks/vecLib.framework/Versions/A/libLAPACK.dylib\n",
       "\n",
       "locale:\n",
       "[1] en_CA.UTF-8/en_CA.UTF-8/en_CA.UTF-8/C/en_CA.UTF-8/en_CA.UTF-8\n",
       "\n",
       "attached base packages:\n",
       "[1] grid      stats     graphics  grDevices utils     datasets  methods  \n",
       "[8] base     \n",
       "\n",
       "other attached packages:\n",
       "[1] ggmap_2.7          stringr_1.2.0      digest_0.6.12      RColorBrewer_1.1-2\n",
       "[5] scales_0.4.1       extrafont_0.17     ggplot2_2.2.1      dplyr_0.7.4.9000  \n",
       "[9] readr_1.1.1       \n",
       "\n",
       "loaded via a namespace (and not attached):\n",
       " [1] Rcpp_0.12.13.1    compiler_3.4.1    plyr_1.8.4        bindr_0.1        \n",
       " [5] bitops_1.0-6      tools_3.4.1       uuid_0.1-2        lattice_0.20-35  \n",
       " [9] jsonlite_1.5      evaluate_0.10     tibble_1.3.3      gtable_0.2.0     \n",
       "[13] png_0.1-8         pkgconfig_2.0.1   rlang_0.1.2.9000  IRdisplay_0.4.4  \n",
       "[17] mapproj_1.2-5     IRkernel_0.7.1    proto_1.0.0.9000  bindrcpp_0.2     \n",
       "[21] Rttf2pt1_1.3.4    repr_0.10         maps_3.2.0        RgoogleMaps_1.4.1\n",
       "[25] hms_0.3           glue_1.1.1        R6_2.2.1          jpeg_0.1-8       \n",
       "[29] sp_1.2-5          pbdZMQ_0.2-6      reshape2_1.4.2    extrafontdb_1.0  \n",
       "[33] magrittr_1.5      assertthat_0.2.0  geosphere_1.5-5   colorspace_1.3-2 \n",
       "[37] stringi_1.1.5     lazyeval_0.2.0    munsell_0.4.3     rjson_0.2.15     \n",
       "[41] crayon_1.3.2     "
      ]
     },
     "metadata": {},
     "output_type": "display_data"
    }
   ],
   "source": [
    "options(warn = -1) #ignore warnings\n",
    "\n",
    "# IMPORTANT: This assumes that all packages in \"Rstart.R\" are installed,\n",
    "# and the fonts \"Source Sans Pro\" and \"Open Sans Condensed Bold\" are installed\n",
    "# via extrafont. If ggplot2 charts fail to render, you may need to change/remove the theme call.\n",
    "\n",
    "\n",
    "source(\"Rstart.R\")\n",
    "library(ggmap)\n",
    "\n",
    "\n",
    "\n",
    "sessionInfo()"
   ]
  },
  {
   "cell_type": "markdown",
   "metadata": {
    "collapsed": true
   },
   "source": [
    "# Processing the Data"
   ]
  },
  {
   "cell_type": "code",
   "execution_count": 44,
   "metadata": {
    "collapsed": true
   },
   "outputs": [],
   "source": [
    "#CDC information FLU\n",
    "#devtools::install_github(\"hrbrmstr/cdcfluview\")    \n",
    "  \n",
    "\n",
    "library(cdcfluview)\n",
    "library(statebins)\n",
    "# current verison\n",
    "# packageVersion(\"cdcfluview\")\n",
    "\n",
    "#df.flu <- get_flu_data(region = \"census\", sub_region = 1:9, data_source = \"all\", years = 2008:2015)\n",
    "#df.flu.census <- get_flu_data(region = \"census\", sub_region = 1:10, data_source = \"ilinet\", years = 2008:2015)\n",
    "\n",
    "# I am looking at the ILI activity\n",
    "df.state <- get_state_data(years=2010:2015)"
   ]
  },
  {
   "cell_type": "code",
   "execution_count": 45,
   "metadata": {
    "collapsed": true
   },
   "outputs": [],
   "source": [
    "#display the data \n",
    "#df.flu %>% head(10)\n",
    "#sprintf(\"# of Rows in Dataframe: %s\", nrow(df.flu))\n",
    "#sprintf(\"Dataframe Size: %s\", format(object.size(df.flu), units = \"MB\"))"
   ]
  },
  {
   "cell_type": "code",
   "execution_count": 48,
   "metadata": {},
   "outputs": [
    {
     "data": {
      "text/html": [
       "<table>\n",
       "<thead><tr><th scope=col>statename</th><th scope=col>url</th><th scope=col>website</th><th scope=col>activity_level</th><th scope=col>activity_level_label</th><th scope=col>weekend</th><th scope=col>season</th><th scope=col>weeknumber</th></tr></thead>\n",
       "<tbody>\n",
       "\t<tr><td>District of Columbia                                                                                       </td><td>http://doh.dc.gov/page/influenza-season                                                                    </td><td>Influenza Information                                                                                      </td><td>0                                                                                                          </td><td>Insufficient Data                                                                                          </td><td>May-24-2014                                                                                                </td><td>2013-14                                                                                                    </td><td>21                                                                                                         </td></tr>\n",
       "\t<tr><td><span style=white-space:pre-wrap>Connecticut         </span>                                                                                           </td><td><span style=white-space:pre-wrap>http://www.ct.gov/dph/cwp/view.asp?a=3136&amp;q=410788                                                         </span></td><td><span style=white-space:pre-wrap>Flu Statistics                   </span>                                                                              </td><td>0                                                                                                                                                      </td><td>Insufficient Data                                                                                                                                      </td><td>May-24-2014                                                                                                                                            </td><td>2013-14                                                                                                                                                </td><td>21                                                                                                                                                     </td></tr>\n",
       "\t<tr><td>District of Columbia                                                                                       </td><td>http://doh.dc.gov/page/influenza-season                                                                    </td><td>Influenza Information                                                                                      </td><td>0                                                                                                          </td><td>Insufficient Data                                                                                          </td><td>May-31-2014                                                                                                </td><td>2013-14                                                                                                    </td><td>22                                                                                                         </td></tr>\n",
       "\t<tr><td>Puerto Rico                                                                                                </td><td>http://www.salud.gov.pr/Estadisticas-Registros-y-Publicaciones/Pages/Influenza.aspx                        </td><td>Puerto Rico Departamento de Salud                                                                          </td><td>0                                                                                                          </td><td>Insufficient Data                                                                                          </td><td>May-24-2014                                                                                                </td><td>2013-14                                                                                                    </td><td>21                                                                                                         </td></tr>\n",
       "\t<tr><td>Virgin Islands                                                                                             </td><td>http://doh.vi.gov/                                                                                         </td><td>Influenza                                                                                                  </td><td>0                                                                                                          </td><td>Insufficient Data                                                                                          </td><td>May-24-2014                                                                                                </td><td>2013-14                                                                                                    </td><td>21                                                                                                         </td></tr>\n",
       "\t<tr><td><span style=white-space:pre-wrap>Connecticut         </span>                                                                                           </td><td><span style=white-space:pre-wrap>http://www.ct.gov/dph/cwp/view.asp?a=3136&amp;q=410788                                                         </span></td><td><span style=white-space:pre-wrap>Flu Statistics                   </span>                                                                              </td><td>0                                                                                                                                                      </td><td>Insufficient Data                                                                                                                                      </td><td>May-31-2014                                                                                                                                            </td><td>2013-14                                                                                                                                                </td><td>22                                                                                                                                                     </td></tr>\n",
       "\t<tr><td>Puerto Rico                                                                                                </td><td>http://www.salud.gov.pr/Estadisticas-Registros-y-Publicaciones/Pages/Influenza.aspx                        </td><td>Puerto Rico Departamento de Salud                                                                          </td><td>0                                                                                                          </td><td>Insufficient Data                                                                                          </td><td>May-31-2014                                                                                                </td><td>2013-14                                                                                                    </td><td>22                                                                                                         </td></tr>\n",
       "\t<tr><td>Virgin Islands                                                                                             </td><td>http://doh.vi.gov/                                                                                         </td><td>Influenza                                                                                                  </td><td>0                                                                                                          </td><td>Insufficient Data                                                                                          </td><td>May-31-2014                                                                                                </td><td>2013-14                                                                                                    </td><td>22                                                                                                         </td></tr>\n",
       "\t<tr><td>Idaho                                                                                                      </td><td>http://www.healthandwelfare.idaho.gov/Health/DiseasesConditions/SeasonalInfluenzaFlu/tabid/327/Default.aspx</td><td>Influenza                                                                                                  </td><td>0                                                                                                          </td><td>Insufficient Data                                                                                          </td><td>Jun-07-2014                                                                                                </td><td>2013-14                                                                                                    </td><td>23                                                                                                         </td></tr>\n",
       "\t<tr><td>District of Columbia                                                                                       </td><td>http://doh.dc.gov/page/influenza-season                                                                    </td><td>Influenza Information                                                                                      </td><td>0                                                                                                          </td><td>Insufficient Data                                                                                          </td><td>Jun-07-2014                                                                                                </td><td>2013-14                                                                                                    </td><td>23                                                                                                         </td></tr>\n",
       "</tbody>\n",
       "</table>\n"
      ],
      "text/latex": [
       "\\begin{tabular}{r|llllllll}\n",
       " statename & url & website & activity\\_level & activity\\_level\\_label & weekend & season & weeknumber\\\\\n",
       "\\hline\n",
       "\t District of Columbia                                                                                        & http://doh.dc.gov/page/influenza-season                                                                     & Influenza Information                                                                                       & 0                                                                                                           & Insufficient Data                                                                                           & May-24-2014                                                                                                 & 2013-14                                                                                                     & 21                                                                                                         \\\\\n",
       "\t Connecticut                                                                                                   & http://www.ct.gov/dph/cwp/view.asp?a=3136\\&q=410788                                                          & Flu Statistics                                                                                                & 0                                                                                                             & Insufficient Data                                                                                             & May-24-2014                                                                                                   & 2013-14                                                                                                       & 21                                                                                                           \\\\\n",
       "\t District of Columbia                                                                                        & http://doh.dc.gov/page/influenza-season                                                                     & Influenza Information                                                                                       & 0                                                                                                           & Insufficient Data                                                                                           & May-31-2014                                                                                                 & 2013-14                                                                                                     & 22                                                                                                         \\\\\n",
       "\t Puerto Rico                                                                                                 & http://www.salud.gov.pr/Estadisticas-Registros-y-Publicaciones/Pages/Influenza.aspx                         & Puerto Rico Departamento de Salud                                                                           & 0                                                                                                           & Insufficient Data                                                                                           & May-24-2014                                                                                                 & 2013-14                                                                                                     & 21                                                                                                         \\\\\n",
       "\t Virgin Islands                                                                                              & http://doh.vi.gov/                                                                                          & Influenza                                                                                                   & 0                                                                                                           & Insufficient Data                                                                                           & May-24-2014                                                                                                 & 2013-14                                                                                                     & 21                                                                                                         \\\\\n",
       "\t Connecticut                                                                                                   & http://www.ct.gov/dph/cwp/view.asp?a=3136\\&q=410788                                                          & Flu Statistics                                                                                                & 0                                                                                                             & Insufficient Data                                                                                             & May-31-2014                                                                                                   & 2013-14                                                                                                       & 22                                                                                                           \\\\\n",
       "\t Puerto Rico                                                                                                 & http://www.salud.gov.pr/Estadisticas-Registros-y-Publicaciones/Pages/Influenza.aspx                         & Puerto Rico Departamento de Salud                                                                           & 0                                                                                                           & Insufficient Data                                                                                           & May-31-2014                                                                                                 & 2013-14                                                                                                     & 22                                                                                                         \\\\\n",
       "\t Virgin Islands                                                                                              & http://doh.vi.gov/                                                                                          & Influenza                                                                                                   & 0                                                                                                           & Insufficient Data                                                                                           & May-31-2014                                                                                                 & 2013-14                                                                                                     & 22                                                                                                         \\\\\n",
       "\t Idaho                                                                                                       & http://www.healthandwelfare.idaho.gov/Health/DiseasesConditions/SeasonalInfluenzaFlu/tabid/327/Default.aspx & Influenza                                                                                                   & 0                                                                                                           & Insufficient Data                                                                                           & Jun-07-2014                                                                                                 & 2013-14                                                                                                     & 23                                                                                                         \\\\\n",
       "\t District of Columbia                                                                                        & http://doh.dc.gov/page/influenza-season                                                                     & Influenza Information                                                                                       & 0                                                                                                           & Insufficient Data                                                                                           & Jun-07-2014                                                                                                 & 2013-14                                                                                                     & 23                                                                                                         \\\\\n",
       "\\end{tabular}\n"
      ],
      "text/markdown": [
       "\n",
       "statename | url | website | activity_level | activity_level_label | weekend | season | weeknumber | \n",
       "|---|---|---|---|---|---|---|---|---|---|\n",
       "| District of Columbia                                                                                        | http://doh.dc.gov/page/influenza-season                                                                     | Influenza Information                                                                                       | 0                                                                                                           | Insufficient Data                                                                                           | May-24-2014                                                                                                 | 2013-14                                                                                                     | 21                                                                                                          | \n",
       "| Connecticut                                                                                                 | http://www.ct.gov/dph/cwp/view.asp?a=3136&q=410788                                                          | Flu Statistics                                                                                              | 0                                                                                                           | Insufficient Data                                                                                           | May-24-2014                                                                                                 | 2013-14                                                                                                     | 21                                                                                                          | \n",
       "| District of Columbia                                                                                        | http://doh.dc.gov/page/influenza-season                                                                     | Influenza Information                                                                                       | 0                                                                                                           | Insufficient Data                                                                                           | May-31-2014                                                                                                 | 2013-14                                                                                                     | 22                                                                                                          | \n",
       "| Puerto Rico                                                                                                 | http://www.salud.gov.pr/Estadisticas-Registros-y-Publicaciones/Pages/Influenza.aspx                         | Puerto Rico Departamento de Salud                                                                           | 0                                                                                                           | Insufficient Data                                                                                           | May-24-2014                                                                                                 | 2013-14                                                                                                     | 21                                                                                                          | \n",
       "| Virgin Islands                                                                                              | http://doh.vi.gov/                                                                                          | Influenza                                                                                                   | 0                                                                                                           | Insufficient Data                                                                                           | May-24-2014                                                                                                 | 2013-14                                                                                                     | 21                                                                                                          | \n",
       "| Connecticut                                                                                                 | http://www.ct.gov/dph/cwp/view.asp?a=3136&q=410788                                                          | Flu Statistics                                                                                              | 0                                                                                                           | Insufficient Data                                                                                           | May-31-2014                                                                                                 | 2013-14                                                                                                     | 22                                                                                                          | \n",
       "| Puerto Rico                                                                                                 | http://www.salud.gov.pr/Estadisticas-Registros-y-Publicaciones/Pages/Influenza.aspx                         | Puerto Rico Departamento de Salud                                                                           | 0                                                                                                           | Insufficient Data                                                                                           | May-31-2014                                                                                                 | 2013-14                                                                                                     | 22                                                                                                          | \n",
       "| Virgin Islands                                                                                              | http://doh.vi.gov/                                                                                          | Influenza                                                                                                   | 0                                                                                                           | Insufficient Data                                                                                           | May-31-2014                                                                                                 | 2013-14                                                                                                     | 22                                                                                                          | \n",
       "| Idaho                                                                                                       | http://www.healthandwelfare.idaho.gov/Health/DiseasesConditions/SeasonalInfluenzaFlu/tabid/327/Default.aspx | Influenza                                                                                                   | 0                                                                                                           | Insufficient Data                                                                                           | Jun-07-2014                                                                                                 | 2013-14                                                                                                     | 23                                                                                                          | \n",
       "| District of Columbia                                                                                        | http://doh.dc.gov/page/influenza-season                                                                     | Influenza Information                                                                                       | 0                                                                                                           | Insufficient Data                                                                                           | Jun-07-2014                                                                                                 | 2013-14                                                                                                     | 23                                                                                                          | \n",
       "\n",
       "\n"
      ],
      "text/plain": [
       "   statename           \n",
       "1  District of Columbia\n",
       "2  Connecticut         \n",
       "3  District of Columbia\n",
       "4  Puerto Rico         \n",
       "5  Virgin Islands      \n",
       "6  Connecticut         \n",
       "7  Puerto Rico         \n",
       "8  Virgin Islands      \n",
       "9  Idaho               \n",
       "10 District of Columbia\n",
       "   url                                                                                                        \n",
       "1  http://doh.dc.gov/page/influenza-season                                                                    \n",
       "2  http://www.ct.gov/dph/cwp/view.asp?a=3136&q=410788                                                         \n",
       "3  http://doh.dc.gov/page/influenza-season                                                                    \n",
       "4  http://www.salud.gov.pr/Estadisticas-Registros-y-Publicaciones/Pages/Influenza.aspx                        \n",
       "5  http://doh.vi.gov/                                                                                         \n",
       "6  http://www.ct.gov/dph/cwp/view.asp?a=3136&q=410788                                                         \n",
       "7  http://www.salud.gov.pr/Estadisticas-Registros-y-Publicaciones/Pages/Influenza.aspx                        \n",
       "8  http://doh.vi.gov/                                                                                         \n",
       "9  http://www.healthandwelfare.idaho.gov/Health/DiseasesConditions/SeasonalInfluenzaFlu/tabid/327/Default.aspx\n",
       "10 http://doh.dc.gov/page/influenza-season                                                                    \n",
       "   website                           activity_level activity_level_label\n",
       "1  Influenza Information             0              Insufficient Data   \n",
       "2  Flu Statistics                    0              Insufficient Data   \n",
       "3  Influenza Information             0              Insufficient Data   \n",
       "4  Puerto Rico Departamento de Salud 0              Insufficient Data   \n",
       "5  Influenza                         0              Insufficient Data   \n",
       "6  Flu Statistics                    0              Insufficient Data   \n",
       "7  Puerto Rico Departamento de Salud 0              Insufficient Data   \n",
       "8  Influenza                         0              Insufficient Data   \n",
       "9  Influenza                         0              Insufficient Data   \n",
       "10 Influenza Information             0              Insufficient Data   \n",
       "   weekend     season  weeknumber\n",
       "1  May-24-2014 2013-14 21        \n",
       "2  May-24-2014 2013-14 21        \n",
       "3  May-31-2014 2013-14 22        \n",
       "4  May-24-2014 2013-14 21        \n",
       "5  May-24-2014 2013-14 21        \n",
       "6  May-31-2014 2013-14 22        \n",
       "7  May-31-2014 2013-14 22        \n",
       "8  May-31-2014 2013-14 22        \n",
       "9  Jun-07-2014 2013-14 23        \n",
       "10 Jun-07-2014 2013-14 23        "
      ]
     },
     "metadata": {},
     "output_type": "display_data"
    },
    {
     "data": {
      "text/html": [
       "'# of Rows in Dataframe: 16668'"
      ],
      "text/latex": [
       "'\\# of Rows in Dataframe: 16668'"
      ],
      "text/markdown": [
       "'# of Rows in Dataframe: 16668'"
      ],
      "text/plain": [
       "[1] \"# of Rows in Dataframe: 16668\""
      ]
     },
     "metadata": {},
     "output_type": "display_data"
    },
    {
     "data": {
      "text/html": [
       "'Dataframe Size: 0.9 Mb'"
      ],
      "text/latex": [
       "'Dataframe Size: 0.9 Mb'"
      ],
      "text/markdown": [
       "'Dataframe Size: 0.9 Mb'"
      ],
      "text/plain": [
       "[1] \"Dataframe Size: 0.9 Mb\""
      ]
     },
     "metadata": {},
     "output_type": "display_data"
    }
   ],
   "source": [
    "#display the data \n",
    "df.state %>% head(10)\n",
    "sprintf(\"# of Rows in Dataframe: %s\", nrow(df.state))\n",
    "sprintf(\"Dataframe Size: %s\", format(object.size(df.state), units = \"MB\"))"
   ]
  },
  {
   "cell_type": "code",
   "execution_count": 47,
   "metadata": {
    "collapsed": true
   },
   "outputs": [],
   "source": [
    "#display the data \n",
    "#df.flu.census %>% head(10)\n",
    "#sprintf(\"# of Rows in Dataframe: %s\", nrow(df.flu.census))\n",
    "#sprintf(\"Dataframe Size: %s\", format(object.size(df.flu.census), units = \"MB\"))"
   ]
  },
  {
   "cell_type": "code",
   "execution_count": 52,
   "metadata": {},
   "outputs": [
    {
     "data": {
      "text/html": [
       "<table>\n",
       "<thead><tr><th scope=col>statename</th><th scope=col>activity_level</th><th scope=col>activity_level_label</th><th scope=col>weekend</th><th scope=col>season</th><th scope=col>weeknumber</th></tr></thead>\n",
       "<tbody>\n",
       "\t<tr><td>District of Columbia</td><td>0                   </td><td>Insufficient Data   </td><td>May-24-2014         </td><td>2013-14             </td><td>21                  </td></tr>\n",
       "\t<tr><td>Connecticut         </td><td>0                   </td><td>Insufficient Data   </td><td>May-24-2014         </td><td>2013-14             </td><td>21                  </td></tr>\n",
       "\t<tr><td>District of Columbia</td><td>0                   </td><td>Insufficient Data   </td><td>May-31-2014         </td><td>2013-14             </td><td>22                  </td></tr>\n",
       "\t<tr><td>Puerto Rico         </td><td>0                   </td><td>Insufficient Data   </td><td>May-24-2014         </td><td>2013-14             </td><td>21                  </td></tr>\n",
       "\t<tr><td>Virgin Islands      </td><td>0                   </td><td>Insufficient Data   </td><td>May-24-2014         </td><td>2013-14             </td><td>21                  </td></tr>\n",
       "\t<tr><td>Connecticut         </td><td>0                   </td><td>Insufficient Data   </td><td>May-31-2014         </td><td>2013-14             </td><td>22                  </td></tr>\n",
       "\t<tr><td>Puerto Rico         </td><td>0                   </td><td>Insufficient Data   </td><td>May-31-2014         </td><td>2013-14             </td><td>22                  </td></tr>\n",
       "\t<tr><td>Virgin Islands      </td><td>0                   </td><td>Insufficient Data   </td><td>May-31-2014         </td><td>2013-14             </td><td>22                  </td></tr>\n",
       "\t<tr><td>Idaho               </td><td>0                   </td><td>Insufficient Data   </td><td>Jun-07-2014         </td><td>2013-14             </td><td>23                  </td></tr>\n",
       "\t<tr><td>District of Columbia</td><td>0                   </td><td>Insufficient Data   </td><td>Jun-07-2014         </td><td>2013-14             </td><td>23                  </td></tr>\n",
       "</tbody>\n",
       "</table>\n"
      ],
      "text/latex": [
       "\\begin{tabular}{r|llllll}\n",
       " statename & activity\\_level & activity\\_level\\_label & weekend & season & weeknumber\\\\\n",
       "\\hline\n",
       "\t District of Columbia & 0                    & Insufficient Data    & May-24-2014          & 2013-14              & 21                  \\\\\n",
       "\t Connecticut          & 0                    & Insufficient Data    & May-24-2014          & 2013-14              & 21                  \\\\\n",
       "\t District of Columbia & 0                    & Insufficient Data    & May-31-2014          & 2013-14              & 22                  \\\\\n",
       "\t Puerto Rico          & 0                    & Insufficient Data    & May-24-2014          & 2013-14              & 21                  \\\\\n",
       "\t Virgin Islands       & 0                    & Insufficient Data    & May-24-2014          & 2013-14              & 21                  \\\\\n",
       "\t Connecticut          & 0                    & Insufficient Data    & May-31-2014          & 2013-14              & 22                  \\\\\n",
       "\t Puerto Rico          & 0                    & Insufficient Data    & May-31-2014          & 2013-14              & 22                  \\\\\n",
       "\t Virgin Islands       & 0                    & Insufficient Data    & May-31-2014          & 2013-14              & 22                  \\\\\n",
       "\t Idaho                & 0                    & Insufficient Data    & Jun-07-2014          & 2013-14              & 23                  \\\\\n",
       "\t District of Columbia & 0                    & Insufficient Data    & Jun-07-2014          & 2013-14              & 23                  \\\\\n",
       "\\end{tabular}\n"
      ],
      "text/markdown": [
       "\n",
       "statename | activity_level | activity_level_label | weekend | season | weeknumber | \n",
       "|---|---|---|---|---|---|---|---|---|---|\n",
       "| District of Columbia | 0                    | Insufficient Data    | May-24-2014          | 2013-14              | 21                   | \n",
       "| Connecticut          | 0                    | Insufficient Data    | May-24-2014          | 2013-14              | 21                   | \n",
       "| District of Columbia | 0                    | Insufficient Data    | May-31-2014          | 2013-14              | 22                   | \n",
       "| Puerto Rico          | 0                    | Insufficient Data    | May-24-2014          | 2013-14              | 21                   | \n",
       "| Virgin Islands       | 0                    | Insufficient Data    | May-24-2014          | 2013-14              | 21                   | \n",
       "| Connecticut          | 0                    | Insufficient Data    | May-31-2014          | 2013-14              | 22                   | \n",
       "| Puerto Rico          | 0                    | Insufficient Data    | May-31-2014          | 2013-14              | 22                   | \n",
       "| Virgin Islands       | 0                    | Insufficient Data    | May-31-2014          | 2013-14              | 22                   | \n",
       "| Idaho                | 0                    | Insufficient Data    | Jun-07-2014          | 2013-14              | 23                   | \n",
       "| District of Columbia | 0                    | Insufficient Data    | Jun-07-2014          | 2013-14              | 23                   | \n",
       "\n",
       "\n"
      ],
      "text/plain": [
       "   statename            activity_level activity_level_label weekend     season \n",
       "1  District of Columbia 0              Insufficient Data    May-24-2014 2013-14\n",
       "2  Connecticut          0              Insufficient Data    May-24-2014 2013-14\n",
       "3  District of Columbia 0              Insufficient Data    May-31-2014 2013-14\n",
       "4  Puerto Rico          0              Insufficient Data    May-24-2014 2013-14\n",
       "5  Virgin Islands       0              Insufficient Data    May-24-2014 2013-14\n",
       "6  Connecticut          0              Insufficient Data    May-31-2014 2013-14\n",
       "7  Puerto Rico          0              Insufficient Data    May-31-2014 2013-14\n",
       "8  Virgin Islands       0              Insufficient Data    May-31-2014 2013-14\n",
       "9  Idaho                0              Insufficient Data    Jun-07-2014 2013-14\n",
       "10 District of Columbia 0              Insufficient Data    Jun-07-2014 2013-14\n",
       "   weeknumber\n",
       "1  21        \n",
       "2  21        \n",
       "3  22        \n",
       "4  21        \n",
       "5  21        \n",
       "6  22        \n",
       "7  22        \n",
       "8  22        \n",
       "9  23        \n",
       "10 23        "
      ]
     },
     "metadata": {},
     "output_type": "display_data"
    },
    {
     "data": {
      "text/html": [
       "'# of Rows in Dataframe: 16668'"
      ],
      "text/latex": [
       "'\\# of Rows in Dataframe: 16668'"
      ],
      "text/markdown": [
       "'# of Rows in Dataframe: 16668'"
      ],
      "text/plain": [
       "[1] \"# of Rows in Dataframe: 16668\""
      ]
     },
     "metadata": {},
     "output_type": "display_data"
    },
    {
     "data": {
      "text/html": [
       "'Dataframe Size: 0.7 Mb'"
      ],
      "text/latex": [
       "'Dataframe Size: 0.7 Mb'"
      ],
      "text/markdown": [
       "'Dataframe Size: 0.7 Mb'"
      ],
      "text/plain": [
       "[1] \"Dataframe Size: 0.7 Mb\""
      ]
     },
     "metadata": {},
     "output_type": "display_data"
    }
   ],
   "source": [
    "#columns = c(\"REGION TYPE\",\"REGION\",\"YEAR\",\"WEEK\",\"AGE 0-4\",\"AGE 25-49\",\"AGE 25-64\",\"AGE 5-24\",\"AGE 50-64\",\"AGE 65\",\"ILITOTAL\",\"TOTAL PATIENTS\")\n",
    "\n",
    "columns = c(\"statename\",\"activity_level\",\"activity_level_label\",\"weekend\", \"season\", \"weeknumber\")\n",
    "\n",
    "# select() require column indices that we find trough which() \n",
    "\n",
    "df <- df.state %>% select(which(names(df.state) %in% columns))\n",
    "\n",
    "df %>% head(10)\n",
    "sprintf(\"# of Rows in Dataframe: %s\", nrow(df))\n",
    "sprintf(\"Dataframe Size: %s\", format(object.size(df), units = \"MB\"))"
   ]
  },
  {
   "cell_type": "markdown",
   "metadata": {},
   "source": [
    "All-Caps to proper case. (see this [Stack Overflow question](http://stackoverflow.com/questions/15776732/how-to-convert-a-vector-of-strings-to-title-case))"
   ]
  },
  {
   "cell_type": "code",
   "execution_count": 58,
   "metadata": {},
   "outputs": [
    {
     "name": "stderr",
     "output_type": "stream",
     "text": [
      "Parsed with column specification:\n",
      "cols(\n",
      "  State = col_character(),\n",
      "  Latitude = col_double(),\n",
      "  Longitude = col_double()\n",
      ")\n",
      "Joining, by = c(\"statename\", \"Latitude\", \"Longitude\")\n"
     ]
    },
    {
     "data": {
      "text/html": [
       "<table>\n",
       "<thead><tr><th scope=col>statename</th><th scope=col>activity_level</th><th scope=col>activity_level_label</th><th scope=col>weekend</th><th scope=col>season</th><th scope=col>weeknumber</th><th scope=col>Latitude</th><th scope=col>Longitude</th></tr></thead>\n",
       "<tbody>\n",
       "\t<tr><td>Alabama    </td><td>1          </td><td>Minimal    </td><td>Oct-01-2016</td><td>2015-16    </td><td>39         </td><td>32.80667   </td><td>-86.79113  </td></tr>\n",
       "\t<tr><td>Alabama    </td><td>1          </td><td>Minimal    </td><td>Sep-24-2016</td><td>2015-16    </td><td>38         </td><td>32.80667   </td><td>-86.79113  </td></tr>\n",
       "\t<tr><td>Alabama    </td><td>1          </td><td>Minimal    </td><td>Sep-17-2016</td><td>2015-16    </td><td>37         </td><td>32.80667   </td><td>-86.79113  </td></tr>\n",
       "\t<tr><td>Alabama    </td><td>1          </td><td>Minimal    </td><td>Sep-10-2016</td><td>2015-16    </td><td>36         </td><td>32.80667   </td><td>-86.79113  </td></tr>\n",
       "\t<tr><td>Alabama    </td><td>1          </td><td>Minimal    </td><td>Sep-03-2016</td><td>2015-16    </td><td>35         </td><td>32.80667   </td><td>-86.79113  </td></tr>\n",
       "\t<tr><td>Alabama    </td><td>1          </td><td>Minimal    </td><td>Aug-27-2016</td><td>2015-16    </td><td>34         </td><td>32.80667   </td><td>-86.79113  </td></tr>\n",
       "\t<tr><td>Alabama    </td><td>1          </td><td>Minimal    </td><td>Aug-20-2016</td><td>2015-16    </td><td>33         </td><td>32.80667   </td><td>-86.79113  </td></tr>\n",
       "\t<tr><td>Alabama    </td><td>1          </td><td>Minimal    </td><td>Aug-13-2016</td><td>2015-16    </td><td>32         </td><td>32.80667   </td><td>-86.79113  </td></tr>\n",
       "\t<tr><td>Alabama    </td><td>1          </td><td>Minimal    </td><td>Aug-06-2016</td><td>2015-16    </td><td>31         </td><td>32.80667   </td><td>-86.79113  </td></tr>\n",
       "\t<tr><td>Alabama    </td><td>1          </td><td>Minimal    </td><td>Jul-30-2016</td><td>2015-16    </td><td>30         </td><td>32.80667   </td><td>-86.79113  </td></tr>\n",
       "</tbody>\n",
       "</table>\n"
      ],
      "text/latex": [
       "\\begin{tabular}{r|llllllll}\n",
       " statename & activity\\_level & activity\\_level\\_label & weekend & season & weeknumber & Latitude & Longitude\\\\\n",
       "\\hline\n",
       "\t Alabama     & 1           & Minimal     & Oct-01-2016 & 2015-16     & 39          & 32.80667    & -86.79113  \\\\\n",
       "\t Alabama     & 1           & Minimal     & Sep-24-2016 & 2015-16     & 38          & 32.80667    & -86.79113  \\\\\n",
       "\t Alabama     & 1           & Minimal     & Sep-17-2016 & 2015-16     & 37          & 32.80667    & -86.79113  \\\\\n",
       "\t Alabama     & 1           & Minimal     & Sep-10-2016 & 2015-16     & 36          & 32.80667    & -86.79113  \\\\\n",
       "\t Alabama     & 1           & Minimal     & Sep-03-2016 & 2015-16     & 35          & 32.80667    & -86.79113  \\\\\n",
       "\t Alabama     & 1           & Minimal     & Aug-27-2016 & 2015-16     & 34          & 32.80667    & -86.79113  \\\\\n",
       "\t Alabama     & 1           & Minimal     & Aug-20-2016 & 2015-16     & 33          & 32.80667    & -86.79113  \\\\\n",
       "\t Alabama     & 1           & Minimal     & Aug-13-2016 & 2015-16     & 32          & 32.80667    & -86.79113  \\\\\n",
       "\t Alabama     & 1           & Minimal     & Aug-06-2016 & 2015-16     & 31          & 32.80667    & -86.79113  \\\\\n",
       "\t Alabama     & 1           & Minimal     & Jul-30-2016 & 2015-16     & 30          & 32.80667    & -86.79113  \\\\\n",
       "\\end{tabular}\n"
      ],
      "text/markdown": [
       "\n",
       "statename | activity_level | activity_level_label | weekend | season | weeknumber | Latitude | Longitude | \n",
       "|---|---|---|---|---|---|---|---|---|---|\n",
       "| Alabama     | 1           | Minimal     | Oct-01-2016 | 2015-16     | 39          | 32.80667    | -86.79113   | \n",
       "| Alabama     | 1           | Minimal     | Sep-24-2016 | 2015-16     | 38          | 32.80667    | -86.79113   | \n",
       "| Alabama     | 1           | Minimal     | Sep-17-2016 | 2015-16     | 37          | 32.80667    | -86.79113   | \n",
       "| Alabama     | 1           | Minimal     | Sep-10-2016 | 2015-16     | 36          | 32.80667    | -86.79113   | \n",
       "| Alabama     | 1           | Minimal     | Sep-03-2016 | 2015-16     | 35          | 32.80667    | -86.79113   | \n",
       "| Alabama     | 1           | Minimal     | Aug-27-2016 | 2015-16     | 34          | 32.80667    | -86.79113   | \n",
       "| Alabama     | 1           | Minimal     | Aug-20-2016 | 2015-16     | 33          | 32.80667    | -86.79113   | \n",
       "| Alabama     | 1           | Minimal     | Aug-13-2016 | 2015-16     | 32          | 32.80667    | -86.79113   | \n",
       "| Alabama     | 1           | Minimal     | Aug-06-2016 | 2015-16     | 31          | 32.80667    | -86.79113   | \n",
       "| Alabama     | 1           | Minimal     | Jul-30-2016 | 2015-16     | 30          | 32.80667    | -86.79113   | \n",
       "\n",
       "\n"
      ],
      "text/plain": [
       "   statename activity_level activity_level_label weekend     season  weeknumber\n",
       "1  Alabama   1              Minimal              Oct-01-2016 2015-16 39        \n",
       "2  Alabama   1              Minimal              Sep-24-2016 2015-16 38        \n",
       "3  Alabama   1              Minimal              Sep-17-2016 2015-16 37        \n",
       "4  Alabama   1              Minimal              Sep-10-2016 2015-16 36        \n",
       "5  Alabama   1              Minimal              Sep-03-2016 2015-16 35        \n",
       "6  Alabama   1              Minimal              Aug-27-2016 2015-16 34        \n",
       "7  Alabama   1              Minimal              Aug-20-2016 2015-16 33        \n",
       "8  Alabama   1              Minimal              Aug-13-2016 2015-16 32        \n",
       "9  Alabama   1              Minimal              Aug-06-2016 2015-16 31        \n",
       "10 Alabama   1              Minimal              Jul-30-2016 2015-16 30        \n",
       "   Latitude Longitude\n",
       "1  32.80667 -86.79113\n",
       "2  32.80667 -86.79113\n",
       "3  32.80667 -86.79113\n",
       "4  32.80667 -86.79113\n",
       "5  32.80667 -86.79113\n",
       "6  32.80667 -86.79113\n",
       "7  32.80667 -86.79113\n",
       "8  32.80667 -86.79113\n",
       "9  32.80667 -86.79113\n",
       "10 32.80667 -86.79113"
      ]
     },
     "metadata": {},
     "output_type": "display_data"
    },
    {
     "data": {
      "text/html": [
       "'# of Rows in Dataframe: 15933'"
      ],
      "text/latex": [
       "'\\# of Rows in Dataframe: 15933'"
      ],
      "text/markdown": [
       "'# of Rows in Dataframe: 15933'"
      ],
      "text/plain": [
       "[1] \"# of Rows in Dataframe: 15933\""
      ]
     },
     "metadata": {},
     "output_type": "display_data"
    }
   ],
   "source": [
    "proper_case <- function(x) {\n",
    "    return (gsub(\"\\\\b([A-Z])([A-Z]+)\", \"\\\\U\\\\1\\\\L\\\\2\" , x, perl = TRUE))\n",
    "}\n",
    "\n",
    "\n",
    "\n",
    "file <- \"data/state-lat-long.csv\"\n",
    "df_state_location <- read_csv(file)\n",
    "colnames(df_state_location)[1] <- 'statename'\n",
    "\n",
    "df.location <- tbl_df(df_state_location)\n",
    "\n",
    "df <- right_join(df,df_state_location) #join the dataframe yeah\n",
    "\n",
    "#save the dataframe \n",
    "write_csv(df, path = \"data/train.csv\")\n",
    "\n",
    "df %>% head(10)\n",
    "sprintf(\"# of Rows in Dataframe: %s\", nrow(df))"
   ]
  },
  {
   "cell_type": "markdown",
   "metadata": {},
   "source": [
    "# Filtering the data\n",
    "\n",
    "let's file the data frame by \"Local Activity\" to aggregate some interesting statistics"
   ]
  },
  {
   "cell_type": "code",
   "execution_count": 28,
   "metadata": {},
   "outputs": [
    {
     "ename": "ERROR",
     "evalue": "Error in UseMethod(\"filter_\"): no applicable method for 'filter_' applied to an object of class \"function\"\n",
     "output_type": "error",
     "traceback": [
      "Error in UseMethod(\"filter_\"): no applicable method for 'filter_' applied to an object of class \"function\"\nTraceback:\n",
      "1. df %>% filter(activity_level > 0)",
      "2. withVisible(eval(quote(`_fseq`(`_lhs`)), env, env))",
      "3. eval(quote(`_fseq`(`_lhs`)), env, env)",
      "4. eval(quote(`_fseq`(`_lhs`)), env, env)",
      "5. `_fseq`(`_lhs`)",
      "6. freduce(value, `_function_list`)",
      "7. withVisible(function_list[[k]](value))",
      "8. function_list[[k]](value)",
      "9. filter(., activity_level > 0)",
      "10. filter.default(., activity_level > 0)",
      "11. filter_(.data, .dots = compat_as_lazy_dots(...))"
     ]
    }
   ],
   "source": [
    "# grepl() is the best way to do in-text search\n",
    "#df_flu <- df %>% filter(grepl(\"Local Activity\", ACTIVITYESTIMATE))\n",
    "\n",
    "df.flu.activity <- df %>% filter(activity_level > 0)\n",
    "df.flu.activity %>% head(10)\n",
    "sprintf(\"# of Rows in Dataframe: %s\", nrow(df.flu.activity))\n",
    "sprintf(\"Dataframe Size: %s\", format(object.size(df.flu.activity), units = \"MB\"))"
   ]
  },
  {
   "cell_type": "markdown",
   "metadata": {},
   "source": [
    "## Flue Over Time"
   ]
  },
  {
   "cell_type": "code",
   "execution_count": 25,
   "metadata": {
    "scrolled": true
   },
   "outputs": [
    {
     "data": {
      "text/html": [
       "<time datetime=\"2014-05-17\">2014-05-17</time>"
      ],
      "text/latex": [
       "2014-05-17"
      ],
      "text/markdown": [
       "2014-05-17"
      ],
      "text/plain": [
       "[1] \"2014-05-17\""
      ]
     },
     "metadata": {},
     "output_type": "display_data"
    }
   ],
   "source": [
    " as.Date(\"May-17-2014\",\"%b-%d-%Y\")"
   ]
  },
  {
   "cell_type": "code",
   "execution_count": 26,
   "metadata": {},
   "outputs": [
    {
     "ename": "ERROR",
     "evalue": "Error in mutate_impl(.data, dots): Evaluation error: unknown encoding: -14.\n",
     "output_type": "error",
     "traceback": [
      "Error in mutate_impl(.data, dots): Evaluation error: unknown encoding: -14.\nTraceback:\n",
      "1. df.flu.activity %>% mutate(weekend = as.Date(weekend, \"%b-%d-%Y\")) %>% \n .     group_by(weekend) %>% summarize(count = n()) %>% arrange(weekend)",
      "2. withVisible(eval(quote(`_fseq`(`_lhs`)), env, env))",
      "3. eval(quote(`_fseq`(`_lhs`)), env, env)",
      "4. eval(quote(`_fseq`(`_lhs`)), env, env)",
      "5. `_fseq`(`_lhs`)",
      "6. freduce(value, `_function_list`)",
      "7. function_list[[i]](value)",
      "8. mutate(., weekend = as.Date(weekend, \"%b-%d-%Y\"))",
      "9. mutate.data.frame(., weekend = as.Date(weekend, \"%b-%d-%Y\"))",
      "10. as.data.frame(mutate(tbl_df(.data), ...))",
      "11. mutate(tbl_df(.data), ...)",
      "12. mutate.tbl_df(tbl_df(.data), ...)",
      "13. mutate_impl(.data, dots)"
     ]
    }
   ],
   "source": [
    "df.flu.weekend <-df.flu.activity %>%\n",
    "                    mutate(weekend = as.Date(weekend,\"%b-%d-%Y\")) %>% #convert to proper date for analysis\n",
    "                    group_by(weekend) %>%\n",
    "                    summarize(count = n()) %>%\n",
    "                    arrange(weekend)\n",
    "\n",
    "df.flu.weekend %>% head(10)"
   ]
  },
  {
   "cell_type": "code",
   "execution_count": 27,
   "metadata": {},
   "outputs": [
    {
     "ename": "ERROR",
     "evalue": "Error in ggplot(df.flu.weekend, aes(x = weekend, y = count)): object 'df.flu.weekend' not found\n",
     "output_type": "error",
     "traceback": [
      "Error in ggplot(df.flu.weekend, aes(x = weekend, y = count)): object 'df.flu.weekend' not found\nTraceback:\n",
      "1. ggplot(df.flu.weekend, aes(x = weekend, y = count))"
     ]
    }
   ],
   "source": [
    "plot <- ggplot(df.flu.weekend, aes(x = weekend, y = count)) +\n",
    "    geom_line(color = \"#F2CA27\", size = 0.1) +\n",
    "    geom_smooth(color = \"#1A1A1A\") +\n",
    "    fte_theme() +\n",
    "    scale_x_date(breaks = date_breaks(\"2 years\"), labels = date_format(\"%Y\")) +\n",
    "    labs(x = \"Weekend of the obseration\", y = \"Count of weekly activity > 0 \"\n",
    "         , title = \"Weekly ILI Activity in the US from 2015 - 2017\")"
   ]
  },
  {
   "cell_type": "code",
   "execution_count": 28,
   "metadata": {},
   "outputs": [
    {
     "name": "stdout",
     "output_type": "stream",
     "text": [
      "function (x, y, ...) \n",
      "UseMethod(\"plot\")\n",
      "<bytecode: 0x7fa6d27126d8>\n",
      "<environment: namespace:graphics>\n"
     ]
    }
   ],
   "source": [
    "max_save(plot, \"US-ILI-when-1\", \"US CDC Fluview Data\")"
   ]
  },
  {
   "cell_type": "markdown",
   "metadata": {
    "collapsed": true
   },
   "source": [
    "[How to Include image or picture in jupyter notebook](https://stackoverflow.com/questions/32370281/how-to-include-image-or-picture-in-jupyter-notebook)\n",
    "\n",
    "![title](US-ILI-when-1.png)"
   ]
  },
  {
   "cell_type": "markdown",
   "metadata": {},
   "source": [
    "##  ILI Activity Heatmap\n",
    "\n",
    "Aggregate counts of ILI activity by Season and Months to create heat map.\n",
    "\n",
    "-  [Extract Month and Year From Date in R](http://www.dummies.com/programming/r/how-to-extract-specific-elements-from-a-date-in-r/)\n",
    "\n",
    "-  [How do I group my date variable into month/year in R?](https://stackoverflow.com/questions/33221425/how-do-i-group-my-date-variable-into-month-year-in-r)\n"
   ]
  },
  {
   "cell_type": "code",
   "execution_count": 29,
   "metadata": {},
   "outputs": [
    {
     "ename": "ERROR",
     "evalue": "Error in mutate_impl(.data, dots): Evaluation error: c++ exception (unknown reason).\n",
     "output_type": "error",
     "traceback": [
      "Error in mutate_impl(.data, dots): Evaluation error: c++ exception (unknown reason).\nTraceback:\n",
      "1. df.flu.activity %>% mutate(month = sapply(weekend, get_month)) %>% \n .     group_by(month, season) %>% summarize(count = n())",
      "2. withVisible(eval(quote(`_fseq`(`_lhs`)), env, env))",
      "3. eval(quote(`_fseq`(`_lhs`)), env, env)",
      "4. eval(quote(`_fseq`(`_lhs`)), env, env)",
      "5. `_fseq`(`_lhs`)",
      "6. freduce(value, `_function_list`)",
      "7. function_list[[i]](value)",
      "8. mutate(., month = sapply(weekend, get_month))",
      "9. mutate.data.frame(., month = sapply(weekend, get_month))",
      "10. as.data.frame(mutate(tbl_df(.data), ...))",
      "11. mutate(tbl_df(.data), ...)",
      "12. mutate.tbl_df(tbl_df(.data), ...)",
      "13. mutate_impl(.data, dots)"
     ]
    }
   ],
   "source": [
    "# Returns the numeric hour component of a string formatted \"HH:MM\", e.g. \"09:40\" input returns 9\n",
    "get_month <- function(x) {\n",
    "    date <- as.Date(x, \"%b-%d-%Y\") #format the data to date\n",
    "    month <- format(date, \"%b\") # return the month\n",
    "    return (month)\n",
    "}\n",
    "\n",
    "df.flu.time <- df.flu.activity %>%\n",
    "                    mutate(month = sapply(weekend, get_month)) %>%\n",
    "                    group_by(month, season) %>% \n",
    "                    summarize(count = n())\n",
    "\n",
    "\n",
    "df.flu.time %>% head(10)\n",
    "sprintf(\"# of Rows in Dataframe: %s\", nrow(df.flu.time))\n",
    "sprintf(\"Dataframe Size: %s\", format(object.size(df.flu.time), units = \"MB\"))"
   ]
  },
  {
   "cell_type": "markdown",
   "metadata": {},
   "source": [
    "Reorder and format Factors."
   ]
  },
  {
   "cell_type": "code",
   "execution_count": null,
   "metadata": {
    "collapsed": true
   },
   "outputs": [],
   "source": [
    "month_format <- c(\"Jan\",\"Feb\",\"Mar\",\"Apr\",\"May\",\"Jun\",\"Jul\",\"Aug\",\"Sep\",\"Oct\",\"Nov\",\"Dec\")\n",
    "season_format <- c(\"2010-11\",\"2011-12\",\"2012-13\",\"2013-14\",\"2014-15\",\"2015-16\")\n",
    "\n",
    "df.flu.time$month <- factor(df.flu.time$month, level = rev(month_format))\n",
    "df.flu.time$season <- factor(df.flu.time$season, level = rev(season_format))\n",
    "\n",
    "df.flu.time %>% head(10)"
   ]
  },
  {
   "cell_type": "code",
   "execution_count": 84,
   "metadata": {
    "collapsed": true
   },
   "outputs": [],
   "source": [
    "plot <- ggplot(df.flu.time, aes(x = month, y = season, fill = count)) +\n",
    "    geom_tile() +\n",
    "    fte_theme() +\n",
    "    theme(axis.text.x = element_text(angle = 90, vjust = 0.6),\n",
    "          legend.title = element_blank(), legend.position=\"top\", \n",
    "          legend.direction=\"horizontal\", legend.key.width=unit(2, \"cm\"), \n",
    "          legend.key.height=unit(0.25, \"cm\"), legend.margin=unit(0.1,\"cm\"), \n",
    "          panel.margin=element_blank()) +\n",
    "    labs(x = \"Season of ILI activity \", y = \"Month\", \n",
    "         title = \"# of ILI activity in U.S. from 2010 - 2015, by Season\") +\n",
    "    scale_fill_gradient(low = \"white\", high = \"#27AE60\", labels = comma)\n",
    "\n",
    "max_save(plot, \"US-ILI-when-2\", \"US CDC Fluview Data\", w=6)"
   ]
  },
  {
   "cell_type": "markdown",
   "metadata": {},
   "source": [
    "![title](US-ILI-when-2.png)"
   ]
  },
  {
   "cell_type": "markdown",
   "metadata": {},
   "source": [
    "## Factor by Activity level\n",
    "\n"
   ]
  },
  {
   "cell_type": "code",
   "execution_count": 12,
   "metadata": {},
   "outputs": [
    {
     "ename": "ERROR",
     "evalue": "Error in arrange_impl(.data, dots): Evaluation error: c++ exception (unknown reason).\n",
     "output_type": "error",
     "traceback": [
      "Error in arrange_impl(.data, dots): Evaluation error: c++ exception (unknown reason).\nTraceback:\n",
      "1. df.flu.activity %>% group_by(activity_level_label) %>% summarize(count = n()) %>% \n .     arrange(desc(count))",
      "2. withVisible(eval(quote(`_fseq`(`_lhs`)), env, env))",
      "3. eval(quote(`_fseq`(`_lhs`)), env, env)",
      "4. eval(quote(`_fseq`(`_lhs`)), env, env)",
      "5. `_fseq`(`_lhs`)",
      "6. freduce(value, `_function_list`)",
      "7. withVisible(function_list[[k]](value))",
      "8. function_list[[k]](value)",
      "9. arrange(., desc(count))",
      "10. arrange.tbl_df(., desc(count))",
      "11. arrange_impl(.data, dots)"
     ]
    }
   ],
   "source": [
    "df.flu.type <- df.flu.activity %>%\n",
    "                    group_by(activity_level_label) %>% \n",
    "                    summarize(count = n()) %>%\n",
    "                    arrange(desc(count))\n",
    "\n",
    "df.flu.type %>% head(20)\n",
    "sprintf(\"# of Rows in Dataframe: %s\", nrow(df.flu.type))"
   ]
  },
  {
   "cell_type": "code",
   "execution_count": null,
   "metadata": {
    "collapsed": true
   },
   "outputs": [],
   "source": [
    " "
   ]
  }
 ],
 "metadata": {
  "kernelspec": {
   "display_name": "R",
   "language": "R",
   "name": "ir"
  },
  "language_info": {
   "codemirror_mode": "r",
   "file_extension": ".r",
   "mimetype": "text/x-r-source",
   "name": "R",
   "pygments_lexer": "r",
   "version": "3.4.1"
  }
 },
 "nbformat": 4,
 "nbformat_minor": 2
}
